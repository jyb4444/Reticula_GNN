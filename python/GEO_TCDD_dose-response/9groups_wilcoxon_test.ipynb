{
 "cells": [
  {
   "cell_type": "code",
   "execution_count": 1,
   "id": "6ed0b71a",
   "metadata": {},
   "outputs": [],
   "source": [
    "import numpy as np\n",
    "import pandas as pd\n",
    "from scipy.stats import mannwhitneyu"
   ]
  },
  {
   "cell_type": "code",
   "execution_count": 76,
   "id": "72cc11b8",
   "metadata": {},
   "outputs": [],
   "source": [
    "def read_ig_file(filename):\n",
    "    return pd.read_csv(filename, sep=\"\\t\")\n",
    "\n",
    "def perform_row_wilcoxon_tests(df):\n",
    "    results = pd.DataFrame(index=df.index, columns=[f'ig_{i}' for i in range(0, 9)])\n",
    "    for index, row in df.iterrows():\n",
    "        for i in range(0, 9):\n",
    "            column = f'ig_{i}'\n",
    "            rest_ig = pd.concat([row[2:i], row[i+1+1:]]).tolist()\n",
    "            stat, p_value = mannwhitneyu(row[column], rest_ig)\n",
    "            results.at[index, column] = p_value\n",
    "\n",
    "    results[df.columns[0]] = df.iloc[:, 0]\n",
    "    results[df.columns[1]] = df.iloc[:, 1]\n",
    "    return results"
   ]
  },
  {
   "cell_type": "code",
   "execution_count": 77,
   "id": "481eea61",
   "metadata": {},
   "outputs": [
    {
     "name": "stdout",
     "output_type": "stream",
     "text": [
      "          ig_0      ig_1      ig_2      ig_3      ig_4      ig_5      ig_6   \n",
      "0     1.000000  0.255313  0.302473  1.000000  1.000000  1.000000  0.137336  \\\n",
      "1     0.992977  0.109014  0.313323  0.977531  0.978290  0.939807  0.155792   \n",
      "2     0.511782  0.660947  0.856172  0.518858  0.173762  0.326157  0.178904   \n",
      "3     0.458975  0.538834  1.000000  0.364801  0.349721  0.069988  0.890616   \n",
      "4     0.431213  1.000000  0.357212  0.284571  0.238275  0.726824  0.210921   \n",
      "...        ...       ...       ...       ...       ...       ...       ...   \n",
      "8551       NaN       NaN       NaN       NaN       NaN       NaN       NaN   \n",
      "8552       NaN       NaN       NaN       NaN       NaN       NaN       NaN   \n",
      "8553       NaN       NaN       NaN       NaN       NaN       NaN       NaN   \n",
      "8554       NaN       NaN       NaN       NaN       NaN       NaN       NaN   \n",
      "8555       NaN       NaN       NaN       NaN       NaN       NaN       NaN   \n",
      "\n",
      "          ig_7      ig_8          start            end  \n",
      "0     1.000000  0.546882  R-MMU-5218850  R-MMU-5218827  \n",
      "1     0.988182  0.506430  R-MMU-2993780  R-MMU-4755494  \n",
      "2     0.555148  1.000000  R-MMU-5684875  R-MMU-5685011  \n",
      "3     0.313528  0.564491   R-MMU-187688  R-MMU-5218916  \n",
      "4     0.987301  0.292796   R-MMU-114261  R-MMU-9627107  \n",
      "...        ...       ...            ...            ...  \n",
      "8551       NaN       NaN  R-MMU-8856808  R-MMU-8856813  \n",
      "8552       NaN       NaN  R-MMU-8868651  R-MMU-8868648  \n",
      "8553       NaN       NaN  R-MMU-8868648  R-MMU-8868661  \n",
      "8554       NaN       NaN  R-MMU-8868660  R-MMU-8868658  \n",
      "8555       NaN       NaN  R-MMU-8863721  R-MMU-8863723  \n",
      "\n",
      "[8556 rows x 11 columns]\n"
     ]
    }
   ],
   "source": [
    "sorted_by_ig0_df = read_ig_file(\"/Users/kejiyuan/Desktop/test/ig/sorted_by_ig0.csv\")\n",
    "print(sorted_by_ig0_df)"
   ]
  },
  {
   "cell_type": "code",
   "execution_count": 78,
   "id": "51e46b52",
   "metadata": {},
   "outputs": [
    {
     "name": "stdout",
     "output_type": "stream",
     "text": [
      "              start            end      ig_0      ig_1      ig_2      ig_3   \n",
      "0     R-MMU-5218850  R-MMU-5218827  1.000000  0.255313  0.302473  1.000000  \\\n",
      "1     R-MMU-2993780  R-MMU-4755494  0.992977  0.109014  0.313323  0.977531   \n",
      "2     R-MMU-5684875  R-MMU-5685011  0.511782  0.660947  0.856172  0.518858   \n",
      "3      R-MMU-187688  R-MMU-5218916  0.458975  0.538834  1.000000  0.364801   \n",
      "4      R-MMU-114261  R-MMU-9627107  0.431213  1.000000  0.357212  0.284571   \n",
      "...             ...            ...       ...       ...       ...       ...   \n",
      "6509  R-MMU-1483089  R-MMU-1482776  0.000000  0.000000  0.000000  0.000000   \n",
      "6510   R-MMU-741449  R-MMU-2022860  0.000000  0.000000  0.000000  0.000000   \n",
      "6511   R-MMU-390250   R-MMU-390291  0.000000  0.000000  0.000000  0.000000   \n",
      "6512  R-MMU-8875661  R-MMU-8875659  0.000000  0.000000  0.000000  0.000000   \n",
      "6513  R-MMU-5696655  R-MMU-5691000  0.000000  0.000000  0.000000  0.000000   \n",
      "\n",
      "          ig_4      ig_5      ig_6      ig_7      ig_8  \n",
      "0     1.000000  1.000000  0.137336  1.000000  0.546882  \n",
      "1     0.978290  0.939807  0.155792  0.988182  0.506430  \n",
      "2     0.173762  0.326157  0.178904  0.555148  1.000000  \n",
      "3     0.349721  0.069988  0.890616  0.313528  0.564491  \n",
      "4     0.238275  0.726824  0.210921  0.987301  0.292796  \n",
      "...        ...       ...       ...       ...       ...  \n",
      "6509  0.000000  0.000000  0.000000  0.000000  0.000000  \n",
      "6510  0.000000  0.000000  0.000000  0.000000  0.000000  \n",
      "6511  0.000000  0.000000  0.000000  0.000000  0.000000  \n",
      "6512  0.000000  0.000000  0.000000  0.000000  0.000000  \n",
      "6513  0.000000  0.000000  0.000000  0.000000  0.000000  \n",
      "\n",
      "[6514 rows x 11 columns]\n"
     ]
    }
   ],
   "source": [
    "sorted_by_ig0_df = sorted_by_ig0_df.dropna()\n",
    "sorted_by_ig0_df.insert(0, 'end', sorted_by_ig0_df.pop('end'))\n",
    "sorted_by_ig0_df.insert(0, 'start', sorted_by_ig0_df.pop('start'))\n",
    "print(sorted_by_ig0_df)"
   ]
  },
  {
   "cell_type": "code",
   "execution_count": 79,
   "id": "8f3891fc",
   "metadata": {},
   "outputs": [
    {
     "name": "stdout",
     "output_type": "stream",
     "text": [
      "Index(['start', 'end', 'ig_0', 'ig_1', 'ig_2', 'ig_3', 'ig_4', 'ig_5', 'ig_6',\n",
      "       'ig_7', 'ig_8'],\n",
      "      dtype='object')\n"
     ]
    }
   ],
   "source": [
    "print(sorted_by_ig0_df.columns)"
   ]
  },
  {
   "cell_type": "code",
   "execution_count": 80,
   "id": "9a5a33a6",
   "metadata": {},
   "outputs": [],
   "source": [
    "# def remove_zero_sum_difference_rows(df):\n",
    "#     df = df.drop_duplicates(subset='start')\n",
    "    \n",
    "#     df.set_index('start', inplace=True, drop=False)\n",
    "    \n",
    "#     indices_to_keep = []\n",
    "\n",
    "#     for index, row in df.iterrows():\n",
    "#         ig_0_value = row['ig_0']\n",
    "#         sum_of_others = sum(row[f'ig_{i}'] for i in range(1, 9) if f'ig_{i}' in df.columns)\n",
    "#         difference = ig_0_value - sum_of_others\n",
    "\n",
    "#         if difference != 0:\n",
    "#             indices_to_keep.append(index)\n",
    "\n",
    "#     indices_to_keep = list(set(indices_to_keep))\n",
    "\n",
    "#     result_df = df.loc[indices_to_keep]\n",
    "#     result_df.reset_index(drop=True, inplace=True)  \n",
    "\n",
    "\n",
    "\n",
    "#     print(f\"Original rows: {len(df)}, Rows to keep: {len(result_df)}\")\n",
    "#     return result_df\n",
    "\n",
    "# sorted_by_ig0_df = remove_zero_sum_difference_rows(sorted_by_ig0_df)\n",
    "# print(sorted_by_ig0_df)\n"
   ]
  },
  {
   "cell_type": "code",
   "execution_count": 81,
   "id": "fb58a418",
   "metadata": {},
   "outputs": [
    {
     "name": "stdout",
     "output_type": "stream",
     "text": [
      "          ig_0      ig_1      ig_2      ig_3      ig_4      ig_5      ig_6   \n",
      "0     0.556298  0.416366  0.482525  0.775097  0.617075  0.485499  0.260552  \\\n",
      "1     0.221612  0.243305  0.510162       1.0  0.826238  0.826238  0.510162   \n",
      "2     0.861388  0.697334  0.510162  0.826238  0.272361  0.510162  0.272361   \n",
      "3          1.0       1.0  0.272361       1.0  0.826238  0.272361  0.510162   \n",
      "4     0.861388  0.243305  0.826238  0.826238  0.510162  0.826238  0.272361   \n",
      "...        ...       ...       ...       ...       ...       ...       ...   \n",
      "6509       1.0       1.0       1.0       1.0       1.0       1.0       1.0   \n",
      "6510       1.0       1.0       1.0       1.0       1.0       1.0       1.0   \n",
      "6511       1.0       1.0       1.0       1.0       1.0       1.0       1.0   \n",
      "6512       1.0       1.0       1.0       1.0       1.0       1.0       1.0   \n",
      "6513       1.0       1.0       1.0       1.0       1.0       1.0       1.0   \n",
      "\n",
      "          ig_7      ig_8          start            end  \n",
      "0     0.617075  0.814921  R-MMU-5218850  R-MMU-5218827  \n",
      "1     0.510162  0.826238  R-MMU-2993780  R-MMU-4755494  \n",
      "2          1.0  0.272361  R-MMU-5684875  R-MMU-5685011  \n",
      "3     0.272361  0.510162   R-MMU-187688  R-MMU-5218916  \n",
      "4     0.510162  0.826238   R-MMU-114261  R-MMU-9627107  \n",
      "...        ...       ...            ...            ...  \n",
      "6509       1.0       1.0  R-MMU-1483089  R-MMU-1482776  \n",
      "6510       1.0       1.0   R-MMU-741449  R-MMU-2022860  \n",
      "6511       1.0       1.0   R-MMU-390250   R-MMU-390291  \n",
      "6512       1.0       1.0  R-MMU-8875661  R-MMU-8875659  \n",
      "6513       1.0       1.0  R-MMU-5696655  R-MMU-5691000  \n",
      "\n",
      "[6514 rows x 11 columns]\n"
     ]
    }
   ],
   "source": [
    "wilcoxon_results = perform_row_wilcoxon_tests(sorted_by_ig0_df)\n",
    "print(wilcoxon_results)"
   ]
  },
  {
   "cell_type": "code",
   "execution_count": 82,
   "id": "ae558daf",
   "metadata": {},
   "outputs": [
    {
     "name": "stdout",
     "output_type": "stream",
     "text": [
      "              start            end    dose 0   dose 30 dose 0.01 dose 0.03   \n",
      "0     R-MMU-5218850  R-MMU-5218827  0.556298  0.416366  0.482525  0.775097  \\\n",
      "1     R-MMU-2993780  R-MMU-4755494  0.221612  0.243305  0.510162       1.0   \n",
      "2     R-MMU-5684875  R-MMU-5685011  0.861388  0.697334  0.510162  0.826238   \n",
      "3      R-MMU-187688  R-MMU-5218916       1.0       1.0  0.272361       1.0   \n",
      "4      R-MMU-114261  R-MMU-9627107  0.861388  0.243305  0.826238  0.826238   \n",
      "...             ...            ...       ...       ...       ...       ...   \n",
      "6509  R-MMU-1483089  R-MMU-1482776       1.0       1.0       1.0       1.0   \n",
      "6510   R-MMU-741449  R-MMU-2022860       1.0       1.0       1.0       1.0   \n",
      "6511   R-MMU-390250   R-MMU-390291       1.0       1.0       1.0       1.0   \n",
      "6512  R-MMU-8875661  R-MMU-8875659       1.0       1.0       1.0       1.0   \n",
      "6513  R-MMU-5696655  R-MMU-5691000       1.0       1.0       1.0       1.0   \n",
      "\n",
      "      dose 0.3  dose 1.0  dose 3.0  dose 0.1 dose 10.0  \n",
      "0     0.617075  0.485499  0.260552  0.617075  0.814921  \n",
      "1     0.826238  0.826238  0.510162  0.510162  0.826238  \n",
      "2     0.272361  0.510162  0.272361       1.0  0.272361  \n",
      "3     0.826238  0.272361  0.510162  0.272361  0.510162  \n",
      "4     0.510162  0.826238  0.272361  0.510162  0.826238  \n",
      "...        ...       ...       ...       ...       ...  \n",
      "6509       1.0       1.0       1.0       1.0       1.0  \n",
      "6510       1.0       1.0       1.0       1.0       1.0  \n",
      "6511       1.0       1.0       1.0       1.0       1.0  \n",
      "6512       1.0       1.0       1.0       1.0       1.0  \n",
      "6513       1.0       1.0       1.0       1.0       1.0  \n",
      "\n",
      "[6514 rows x 11 columns]\n"
     ]
    }
   ],
   "source": [
    "columns_order = ['start', 'end','ig_0', 'ig_1', 'ig_2', 'ig_3', 'ig_4', 'ig_5', 'ig_6', 'ig_7', 'ig_8']\n",
    "wilcoxon_results = wilcoxon_results[columns_order]\n",
    "\n",
    "new_column_names = {\n",
    "    'start': 'start',\n",
    "    'end': 'end',\n",
    "    'ig_0': 'dose 0',\n",
    "    'ig_1': 'dose 30',\n",
    "    'ig_2': 'dose 0.01',\n",
    "    'ig_3': 'dose 0.03',\n",
    "    'ig_4': 'dose 0.3',\n",
    "    'ig_5': 'dose 1.0',\n",
    "    'ig_6': 'dose 3.0',\n",
    "    'ig_7': 'dose 0.1',\n",
    "    'ig_8': 'dose 10.0'\n",
    "}\n",
    "wilcoxon_results.rename(columns=new_column_names, inplace=True)\n",
    "print(wilcoxon_results)"
   ]
  },
  {
   "cell_type": "code",
   "execution_count": 83,
   "id": "3bc1bbf6",
   "metadata": {},
   "outputs": [],
   "source": [
    "wilcoxon_results.to_csv('wilcoxon_results.txt', sep='\\t', index=False)"
   ]
  },
  {
   "cell_type": "code",
   "execution_count": null,
   "id": "636b39f6",
   "metadata": {},
   "outputs": [],
   "source": []
  }
 ],
 "metadata": {
  "kernelspec": {
   "display_name": "Python 3 (ipykernel)",
   "language": "python",
   "name": "python3"
  },
  "language_info": {
   "codemirror_mode": {
    "name": "ipython",
    "version": 3
   },
   "file_extension": ".py",
   "mimetype": "text/x-python",
   "name": "python",
   "nbconvert_exporter": "python",
   "pygments_lexer": "ipython3",
   "version": "3.11.5"
  }
 },
 "nbformat": 4,
 "nbformat_minor": 5
}
