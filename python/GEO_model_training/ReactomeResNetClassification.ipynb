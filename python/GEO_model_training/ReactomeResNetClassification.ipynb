{
 "cells": [
  {
   "cell_type": "code",
   "execution_count": null,
   "id": "955b0b60",
   "metadata": {},
   "outputs": [],
   "source": [
    "import torch\n",
    "from torch import nn\n",
    "import torchvision.models as models\n",
    "\n",
    "model = models.resnet18(num_classes=26)  #！！！！！！remember to change this to correct number！！！\n",
    "conv1 = model.conv1\n",
    "model.conv1 = nn.Conv2d(\n",
    "  2, conv1.out_channels, conv1.kernel_size, conv1.stride, conv1.padding,\n",
    "  conv1.dilation, conv1.groups, conv1.bias)"
   ]
  },
  {
   "cell_type": "code",
   "execution_count": null,
   "id": "47f265e4",
   "metadata": {},
   "outputs": [],
   "source": [
    "import random\n",
    "device = cuda0 = torch.device('cuda:0')\n",
    "cpu = torch.device('cpu')\n",
    "\n",
    "\n",
    "features_fn = '/mnt/home/yuankeji/RanceLab/reticula_new/reticula/data/GEO_model_training/input/resnet_node_features.txt'\n",
    "graph_targets_fn = '/mnt/home/yuankeji/RanceLab/reticula_new/reticula/data/GEO_model_training/input/resnet_graph_targets.txt'\n",
    "\n",
    "# magic numbers\n",
    "INPUT_CHANNELS = 1\n",
    "OUTPUT_CHANNELS = 26\n",
    "BATCH_SIZE = 64\n",
    "EPOCHS = 500 #set this to 200 - 2000\n",
    "BENCHMARKING = False\n",
    "random.seed = 88888888"
   ]
  },
  {
   "cell_type": "code",
   "execution_count": null,
   "id": "6e0864dd",
   "metadata": {},
   "outputs": [],
   "source": [
    "# we'll need the target encoder from this code block... not sure if we need anything else\n",
    "def build_resnet_datalist(node_features_fn, graph_targets_fn):\n",
    "    feature_v = numpy.loadtxt(node_features_fn)\n",
    "    target_v = numpy.loadtxt(graph_targets_fn,dtype=str,delimiter=\",\")\n",
    "    \n",
    "    target_encoder = sklearn.preprocessing.LabelEncoder()\n",
    "    target_v = target_encoder.fit_transform(target_v)\n",
    "    label_mapping = dict(zip(target_encoder.transform(target_encoder.classes_), target_encoder.classes_))\n",
    "    print(label_mapping)\n",
    "    print(len(target_v))\n",
    "    print(\"----\")\n",
    "    print(len(feature_v))\n",
    "    data_list = []\n",
    "    for row_idx in range(len(feature_v)):\n",
    "      x = torch.tensor(feature_v[row_idx,:],dtype=torch.float)\n",
    "      x = x.reshape(2,8,491)\n",
    "      y = torch.tensor([target_v[row_idx]])\n",
    "      data_list.append({'x':x,'y':y})\n",
    "    \n",
    "    return data_list\n",
    "\n",
    "def build_reactome_graph_loader(data_list,batch_size):\n",
    "\n",
    "    loader = DataLoader(data_list,batch_size=batch_size,shuffle=True)\n",
    "\n",
    "    return loader"
   ]
  },
  {
   "cell_type": "code",
   "execution_count": null,
   "id": "c771d565",
   "metadata": {},
   "outputs": [],
   "source": [
    "import numpy\n",
    "import sklearn\n",
    "from sklearn import preprocessing\n",
    "from torch.utils.data import Dataset, DataLoader\n",
    "data_list = build_resnet_datalist(features_fn, graph_targets_fn)\n",
    "random.shuffle(data_list)"
   ]
  },
  {
   "cell_type": "code",
   "execution_count": null,
   "id": "e03465a0",
   "metadata": {},
   "outputs": [],
   "source": [
    "import os\n",
    "# os.environ['CUDA_LAUNCH_BLOCKING'] = \"1\"\n",
    "model = model.to(device)\n",
    "optimizer = torch.optim.Adam(model.parameters())\n",
    "criterion = torch.nn.CrossEntropyLoss()\n",
    "\n",
    "def train(loader,device):\n",
    "  model.train()\n",
    "\n",
    "  for batch in loader:  # Iterate in batches over the training dataset.\n",
    "    x = batch['x'].to(device)\n",
    "    y = batch['y'].to(device)\n",
    "    out = model(x)  # Perform a single forward pass.\n",
    "    y = torch.squeeze(y)\n",
    "    loss = criterion(out, y)  # Compute the loss.\n",
    "    loss.backward()  # Derive gradients.\n",
    "    optimizer.step()  # Update parameters based on gradients.\n",
    "    optimizer.zero_grad()  # Clear gradients.\n",
    "\n",
    "def test(loader,device):\n",
    "  model.eval()\n",
    "\n",
    "  correct = 0\n",
    "  for batch in loader:  # Iterate in batches over the training/test dataset.\n",
    "    x = batch['x'].to(device)\n",
    "    y = batch['y'].to(device)\n",
    "    out = model(x)  # Perform a single forward pass.\n",
    "    y = torch.squeeze(y)\n",
    "    loss = criterion(out, y)  # Compute the loss.\n",
    "    pred = out.argmax(dim=1)  # Use the class with highest probability.\n",
    "    correct += int((pred == y).sum())  # Check against ground-truth labels.\n",
    "  return correct / len(loader.dataset)  # Derive ratio of correct predictions."
   ]
  },
  {
   "cell_type": "code",
   "execution_count": null,
   "id": "667ed86f",
   "metadata": {
    "scrolled": true
   },
   "outputs": [],
   "source": [
    "acc_str = ''\n",
    "fold = 'full_dataset'\n",
    "fold_size = 911\n",
    "\n",
    "#>>> train =              z[:fold_size * (fold - 1)] +         z[fold_size * fold:]\n",
    "#train_data_list = data_list[:fold_size * (fold - 1)] + data_list[fold_size * fold:]\n",
    "#>>> test =              z[fold_size * (fold - 1):fold_size * fold]\n",
    "#test_data_list = data_list[fold_size * (fold - 1):fold_size * fold]\n",
    "train_data_list = data_list\n",
    "\n",
    "print(f'Number of training examples: {len(train_data_list)}')\n",
    "#print(f'Number of test examples: {len(test_data_list)}')\n",
    "train_data_loader = build_reactome_graph_loader(train_data_list,BATCH_SIZE)\n",
    "#test_data_loader = build_reactome_graph_loader(test_data_list,BATCH_SIZE)\n",
    "for epoch in range(EPOCHS):\n",
    "  train(train_data_loader,device)\n",
    "  train_acc = test(train_data_loader,device)\n",
    "  #test_acc = test(test_data_loader,device)\n",
    "  acc_str += f'{train_acc:.4f}'#',{test_acc:.4f}\\n'\n",
    "  print(f'Epoch: {epoch:03d}, Train Acc: {train_acc:.4f}')#', Test Acc: {test_acc:.4f}')\n",
    "\n",
    "training_acc_fn = F\"resnet_classification_acc_fold_{fold}.txt\"\n",
    "path = F\"/mnt/home/yuankeji/RanceLab/reticula_new/reticula/data/GEO_model_training/GNN/{training_acc_fn}\"\n",
    "with open(path, 'w') as writefile:\n",
    "    writefile.write(acc_str)\n",
    "model_save_name = F\"trained_pytorch_model_fold_{fold}.pt\"\n",
    "path = F\"/mnt/home/yuankeji/RanceLab/reticula_new/reticula/data/GEO_model_training/GNN/{model_save_name}\" \n",
    "torch.save(model.state_dict(), path)\n",
    "print(F\"model saved as {path}\")"
   ]
  }
 ],
 "metadata": {
  "kernelspec": {
   "display_name": "Python 3 (ipykernel)",
   "language": "python",
   "name": "python3"
  },
  "language_info": {
   "codemirror_mode": {
    "name": "ipython",
    "version": 3
   },
   "file_extension": ".py",
   "mimetype": "text/x-python",
   "name": "python",
   "nbconvert_exporter": "python",
   "pygments_lexer": "ipython3",
   "version": "3.11.5"
  }
 },
 "nbformat": 4,
 "nbformat_minor": 5
}
