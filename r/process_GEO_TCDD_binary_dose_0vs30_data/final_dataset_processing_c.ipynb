{
 "cells": [
  {
   "cell_type": "code",
   "execution_count": 116,
   "id": "59efb43b",
   "metadata": {},
   "outputs": [
    {
     "name": "stdout",
     "output_type": "stream",
     "text": [
      "The rpy2.ipython extension is already loaded. To reload it, use:\n",
      "  %reload_ext rpy2.ipython\n"
     ]
    }
   ],
   "source": [
    "%load_ext rpy2.ipython"
   ]
  },
  {
   "cell_type": "code",
   "execution_count": null,
   "id": "7b2e9431",
   "metadata": {},
   "outputs": [],
   "source": [
    "%%R\n",
    "library(DESeq2)\n",
    "library(magrittr)\n",
    "library(SummarizedExperiment)\n",
    "\n",
    "IN_DIR <- \"../../../data/GEO_TCDD_Binary_Dose/input/\"\n",
    "OUT_DIR <- \"../../../data/GEO_TCDD_Binary_Dose/output/\"\n",
    "\n",
    "dds <- readRDS(paste(OUT_DIR,\"dds.Rds\",sep=\"\"))\n",
    "vst.counts <- DESeq2::vst(dds,\n",
    "                          blind = FALSE,\n",
    "                          fitType = \"local\")\n",
    "saveRDS(vst.counts,\n",
    "        paste(OUT_DIR,\"vst_counts.Rds\",sep=\"\"))"
   ]
  },
  {
   "cell_type": "code",
   "execution_count": null,
   "id": "023e05da",
   "metadata": {},
   "outputs": [],
   "source": [
    "%%R\n",
    "ensembl2rxns.df <- read.table(paste(IN_DIR,\"Ensembl2ReactomeReactions.txt\",sep=\"\"),\n",
    "                              sep=\"\\t\")\n",
    "reactome_ensembl_ids <- readRDS(paste(OUT_DIR,\"reactome_ensembl_ids.Rds\",sep=\"\"))\n",
    "rxn2ensembls.nls <- list()\n",
    "rxns_w_GEO_TCDD_Binary_Dose_ensembls.df <- ensembl2rxns.df %>% dplyr::filter(V1 %in% reactome_ensembl_ids)\n",
    "rxns_w_GEO_TCDD_Binary_Dose_ensembls.df$V1 <- as.character(rxns_w_GEO_TCDD_Binary_Dose_ensembls.df$V1)\n",
    "rxns_w_GEO_TCDD_Binary_Dose_ensembls.df$V2 <- as.character(rxns_w_GEO_TCDD_Binary_Dose_ensembls.df$V2)\n",
    "for(i in 1:nrow(rxns_w_GEO_TCDD_Binary_Dose_ensembls.df)){\n",
    "  ens_id <- rxns_w_GEO_TCDD_Binary_Dose_ensembls.df$V1[i]\n",
    "  rxn_id <- rxns_w_GEO_TCDD_Binary_Dose_ensembls.df$V2[i]\n",
    "  ensembl_list_for_rxn_id <- rxn2ensembls.nls[[rxn_id]]\n",
    "  if(is.null(ensembl_list_for_rxn_id)){\n",
    "    ensembl_list_for_rxn_id <- c(ens_id)\n",
    "  }\n",
    "  rxn2ensembls.nls[[rxn_id]] <- c(ensembl_list_for_rxn_id,ens_id) %>% unique()\n",
    "}\n",
    "saveRDS(rxn2ensembls.nls,\n",
    "        paste(OUT_DIR,\"rxn2ensembls_nls.Rds\",sep=\"\"))"
   ]
  }
 ],
 "metadata": {
  "kernelspec": {
   "display_name": "Python 3 (ipykernel)",
   "language": "python",
   "name": "python3"
  },
  "language_info": {
   "codemirror_mode": {
    "name": "ipython",
    "version": 3
   },
   "file_extension": ".py",
   "mimetype": "text/x-python",
   "name": "python",
   "nbconvert_exporter": "python",
   "pygments_lexer": "ipython3",
   "version": "3.11.5"
  }
 },
 "nbformat": 4,
 "nbformat_minor": 5
}
