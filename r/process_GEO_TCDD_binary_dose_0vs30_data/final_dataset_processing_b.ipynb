{
 "cells": [
  {
   "cell_type": "code",
   "execution_count": 28,
   "id": "f1becfdd",
   "metadata": {},
   "outputs": [
    {
     "name": "stdout",
     "output_type": "stream",
     "text": [
      "The rpy2.ipython extension is already loaded. To reload it, use:\n",
      "  %reload_ext rpy2.ipython\n"
     ]
    }
   ],
   "source": [
    "%load_ext rpy2.ipython"
   ]
  },
  {
   "cell_type": "code",
   "execution_count": null,
   "id": "cfc35fea",
   "metadata": {},
   "outputs": [],
   "source": [
    "%%R\n",
    "library(DESeq2)\n",
    "library(magrittr)\n",
    "library(SummarizedExperiment)\n",
    "\n",
    "start_time <- Sys.time()\n",
    "\n",
    "IN_DIR <- \"../../../data/GEO_TCDD_Binary_Dose/input/\"\n",
    "OUT_DIR <- \"../../../data/GEO_TCDD_Binary_Dose/output/\"\n",
    "\n",
    "GEO_TCDD_Binary_Dose.df <- readRDS(paste(OUT_DIR,\"GEO_TCDD_Binary_Dose_df.Rds\",sep=\"\"))\n",
    "GEO_TCDD_Binary_Dose.detail.vec <- readRDS(paste(OUT_DIR,\"GEO_TCDD_Binary_Dose_detail_vec.Rds\",sep=\"\"))"
   ]
  },
  {
   "cell_type": "code",
   "execution_count": null,
   "id": "09cc1fbc",
   "metadata": {},
   "outputs": [],
   "source": [
    "%%R\n",
    "scale.factor <- (.Machine$integer.max - 1) / max(GEO_TCDD_Binary_Dose.df)\n",
    "GEO_TCDD_Binary_Dose.df <- round(GEO_TCDD_Binary_Dose.df * scale.factor)\n",
    "GEO_TCDD_Binary_Dose.df <- GEO_TCDD_Binary_Dose.df + 1"
   ]
  },
  {
   "cell_type": "code",
   "execution_count": null,
   "id": "8b14e162",
   "metadata": {},
   "outputs": [],
   "source": [
    "%%R\n",
    "dds <- DESeq2::DESeqDataSetFromMatrix(countData = as.matrix(GEO_TCDD_Binary_Dose.df),\n",
    "                                      colData = data.frame(Sample=colnames(GEO_TCDD_Binary_Dose.df),\n",
    "                                                           Tissue=GEO_TCDD_Binary_Dose.detail.vec),\n",
    "                                      design = ~ Tissue)\n",
    "saveRDS(dds,\n",
    "        paste(OUT_DIR,\"dds.Rds\",sep=\"\"))"
   ]
  }
 ],
 "metadata": {
  "kernelspec": {
   "display_name": "Python 3 (ipykernel)",
   "language": "python",
   "name": "python3"
  },
  "language_info": {
   "codemirror_mode": {
    "name": "ipython",
    "version": 3
   },
   "file_extension": ".py",
   "mimetype": "text/x-python",
   "name": "python",
   "nbconvert_exporter": "python",
   "pygments_lexer": "ipython3",
   "version": "3.11.5"
  }
 },
 "nbformat": 4,
 "nbformat_minor": 5
}
