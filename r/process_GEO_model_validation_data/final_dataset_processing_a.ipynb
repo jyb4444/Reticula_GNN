{
 "cells": [
  {
   "cell_type": "code",
   "execution_count": null,
   "id": "ceeb8c6c",
   "metadata": {},
   "outputs": [],
   "source": [
    "%load_ext rpy2.ipython"
   ]
  },
  {
   "cell_type": "code",
   "execution_count": null,
   "id": "12a427be",
   "metadata": {},
   "outputs": [],
   "source": [
    "%%R\n",
    "\n",
    "scratch_path <- Sys.getenv(\"SCRATCH\")\n",
    ".libPaths(file.path(scratch_path, \"Rlocal4.3.2\"))"
   ]
  },
  {
   "cell_type": "code",
   "execution_count": null,
   "id": "64b2cd91",
   "metadata": {},
   "outputs": [],
   "source": [
    "%%R\n",
    "library(DESeq2)\n",
    "library(magrittr)\n",
    "library(SummarizedExperiment)\n",
    "\n",
    "start_time <- Sys.time()\n",
    "\n",
    "IN_DIR <- \"../../inputs/\"\n",
    "OUT_DIR <- \"../../outputs/validation/\"\n",
    "\n",
    "GEO_model_validation_DATA_FIL <- \"rse_gene_20.Rdata\"\n",
    "\n",
    "ensembl2rxns.df <- read.table(paste(IN_DIR,\"Ensembl2ReactomeReactions.txt\",sep=\"\"),\n",
    "                              sep=\"\\t\")\n",
    "\n",
    "load(paste(IN_DIR,GEO_model_validation_DATA_FIL,sep=\"\"))"
   ]
  },
  {
   "cell_type": "code",
   "execution_count": null,
   "id": "a42c4841",
   "metadata": {},
   "outputs": [],
   "source": [
    "%%R\n",
    "tissue_data <- colData(rse_gene_20)\n",
    "print(tissue_data)"
   ]
  },
  {
   "cell_type": "code",
   "execution_count": null,
   "id": "2baafd22",
   "metadata": {},
   "outputs": [],
   "source": [
    "%%R\n",
    "tissue_counts <- table(tissue_data$Major_tissue)\n",
    "\n",
    "tissues_to_remove <- names(tissue_counts[tissue_counts <= 20])\n",
    "\n",
    "rse_gene_20 <- rse_gene_20[, !(tissue_data$Major_tissue %in% c(tissues_to_remove, 'Spleen'))]\n",
    "\n",
    "new_tissue_counts <- table(colData(rse_gene_20)$Major_tissue)\n",
    "print(new_tissue_counts)\n",
    "\n",
    "row_totals <- rowSums(assays(rse_gene_20)$raw_counts)\n",
    "\n",
    "rse_gene_20 <- rse_gene_20[row_totals > 0, ]"
   ]
  },
  {
   "cell_type": "code",
   "execution_count": null,
   "id": "f6758983",
   "metadata": {},
   "outputs": [],
   "source": [
    "%%R\n",
    "GEO_model_validation.cols <- rse_gene_20 %>% colData()\n",
    "print(GEO_model_validation.cols$Major_tissue)"
   ]
  },
  {
   "cell_type": "code",
   "execution_count": null,
   "id": "4598c6d0",
   "metadata": {},
   "outputs": [],
   "source": [
    "%%R\n",
    "saveRDS(GEO_model_validation.cols$Major_tissue,file=paste(OUT_DIR,\"GEO_model_validation_tissue_vec.Rds\",sep=\"\"))"
   ]
  },
  {
   "cell_type": "code",
   "execution_count": null,
   "id": "ca755e8c",
   "metadata": {},
   "outputs": [],
   "source": [
    "%%R\n",
    "saveRDS(GEO_model_validation.cols$external_id,file=paste(OUT_DIR,\"GEO_model_validation_sample_detail_vec.Rds\",sep=\"\"))"
   ]
  },
  {
   "cell_type": "code",
   "execution_count": null,
   "id": "0043ca8a",
   "metadata": {},
   "outputs": [],
   "source": [
    "%%R\n",
    "GEO_model_validation_df_col_data <- colData(rse_gene_20)\n",
    "head(GEO_model_validation_df_col_data$Row.names)\n",
    "sample_id_list <- GEO_model_validation_df_col_data$external_id"
   ]
  },
  {
   "cell_type": "code",
   "execution_count": null,
   "id": "cba502b9",
   "metadata": {},
   "outputs": [],
   "source": [
    "%%R\n",
    "print(sample_id_list)"
   ]
  },
  {
   "cell_type": "code",
   "execution_count": null,
   "id": "e5921688",
   "metadata": {},
   "outputs": [],
   "source": [
    "%%R\n",
    "GEO_model_validation.df <- rse_gene_20 %>% SummarizedExperiment::assay() %>% as.data.frame()\n",
    "print(GEO_model_validation.df)"
   ]
  },
  {
   "cell_type": "code",
   "execution_count": null,
   "id": "07ebbba7",
   "metadata": {},
   "outputs": [],
   "source": [
    "%%R\n",
    "ensembl_wo_ids <- gsub(\"\\\\.[0-9]+\",\"\",rownames(GEO_model_validation.df))\n",
    "print(ensembl_wo_ids)"
   ]
  },
  {
   "cell_type": "code",
   "execution_count": null,
   "id": "76e6184b",
   "metadata": {},
   "outputs": [],
   "source": [
    "%%R\n",
    "rownames(GEO_model_validation.df) <- ensembl_wo_ids\n",
    "print(rownames(GEO_model_validation.df))"
   ]
  },
  {
   "cell_type": "code",
   "execution_count": null,
   "id": "2d1f1f4a",
   "metadata": {},
   "outputs": [],
   "source": [
    "%%R\n",
    "print(ensembl2rxns.df$V1)"
   ]
  },
  {
   "cell_type": "code",
   "execution_count": null,
   "id": "88be5262",
   "metadata": {},
   "outputs": [],
   "source": [
    "%%R\n",
    "reactome_ensembl_ids <- intersect(ensembl2rxns.df$V1,ensembl_wo_ids)\n",
    "print(length(reactome_ensembl_ids))"
   ]
  },
  {
   "cell_type": "code",
   "execution_count": null,
   "id": "64d77ea4",
   "metadata": {},
   "outputs": [],
   "source": [
    "%%R\n",
    "saveRDS(reactome_ensembl_ids,file=paste(OUT_DIR,\"reactome_ensembl_ids.Rds\",sep=\"\"))"
   ]
  },
  {
   "cell_type": "code",
   "execution_count": null,
   "id": "7ebeb4fe",
   "metadata": {},
   "outputs": [],
   "source": [
    "%%R\n",
    "GEO_model_validation.df <- GEO_model_validation.df[reactome_ensembl_ids,]\n",
    "length(GEO_model_validation.df)"
   ]
  },
  {
   "cell_type": "code",
   "execution_count": null,
   "id": "670d5e8d",
   "metadata": {},
   "outputs": [],
   "source": [
    "%%R\n",
    "saveRDS(GEO_model_validation.df,file=paste(OUT_DIR,\"GEO_model_validation_df.Rds\",sep=\"\"))"
   ]
  }
 ],
 "metadata": {
  "kernelspec": {
   "display_name": "Python 3 (ipykernel)",
   "language": "python",
   "name": "python3"
  },
  "language_info": {
   "codemirror_mode": {
    "name": "ipython",
    "version": 3
   },
   "file_extension": ".py",
   "mimetype": "text/x-python",
   "name": "python",
   "nbconvert_exporter": "python",
   "pygments_lexer": "ipython3",
   "version": "3.9.21"
  }
 },
 "nbformat": 4,
 "nbformat_minor": 5
}
