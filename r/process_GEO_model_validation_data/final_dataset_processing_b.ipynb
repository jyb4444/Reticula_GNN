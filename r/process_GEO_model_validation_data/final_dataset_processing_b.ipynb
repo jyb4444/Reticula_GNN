{
 "cells": [
  {
   "cell_type": "code",
   "execution_count": null,
   "id": "2169804e",
   "metadata": {},
   "outputs": [],
   "source": [
    "%load_ext rpy2.ipython"
   ]
  },
  {
   "cell_type": "code",
   "execution_count": null,
   "id": "1adf8824",
   "metadata": {},
   "outputs": [],
   "source": [
    "%%R\n",
    "library(DESeq2)\n",
    "library(magrittr)\n",
    "library(SummarizedExperiment)\n",
    "\n",
    "IN_DIR <- \"/mnt/home/yuankeji/RanceLab/reticula_new/reticula/data/GEO_model_validation/input/\"\n",
    "OUT_DIR <- \"/mnt/home/yuankeji/RanceLab/reticula_new/reticula/data/GEO_model_validation/output/\"\n",
    "\n",
    "GEO_model_validation.df <- readRDS(paste(OUT_DIR,\"GEO_model_validation_df.Rds\",sep=\"\"))\n",
    "GEO_model_validation.tissue.vec <- readRDS(paste(OUT_DIR,\"GEO_model_validation_tissue_vec.Rds\",sep=\"\"))"
   ]
  },
  {
   "cell_type": "code",
   "execution_count": null,
   "id": "19ca7c72",
   "metadata": {},
   "outputs": [],
   "source": [
    "%%R\n",
    "print(unique(GEO_model_validation.tissue.vec))"
   ]
  },
  {
   "cell_type": "code",
   "execution_count": null,
   "id": "5e20d616",
   "metadata": {},
   "outputs": [],
   "source": [
    "%%R\n",
    "scale.factor <- (.Machine$integer.max - 1) / max(GEO_model_validation.df)\n",
    "GEO_model_validation.df <- round(GEO_model_validation.df * scale.factor)\n",
    "GEO_model_validation.df <- GEO_model_validation.df + 1"
   ]
  },
  {
   "cell_type": "code",
   "execution_count": null,
   "id": "dc154ebc",
   "metadata": {},
   "outputs": [],
   "source": [
    "%%R\n",
    "dds <- DESeq2::DESeqDataSetFromMatrix(countData = as.matrix(GEO_model_validation.df),\n",
    "                                      colData = data.frame(Sample=colnames(GEO_model_validation.df),\n",
    "                                                           Tissue=GEO_model_validation.tissue.vec),\n",
    "                                      design = ~ Tissue)\n",
    "saveRDS(dds,\n",
    "        paste(OUT_DIR,\"dds.Rds\",sep=\"\"))"
   ]
  }
 ],
 "metadata": {
  "kernelspec": {
   "display_name": "Python 3 (ipykernel)",
   "language": "python",
   "name": "python3"
  },
  "language_info": {
   "codemirror_mode": {
    "name": "ipython",
    "version": 3
   },
   "file_extension": ".py",
   "mimetype": "text/x-python",
   "name": "python",
   "nbconvert_exporter": "python",
   "pygments_lexer": "ipython3",
   "version": "3.11.5"
  }
 },
 "nbformat": 4,
 "nbformat_minor": 5
}
