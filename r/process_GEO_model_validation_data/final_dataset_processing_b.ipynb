{
 "cells": [
  {
   "cell_type": "code",
   "execution_count": 1,
   "id": "2169804e",
   "metadata": {},
   "outputs": [],
   "source": [
    "%load_ext rpy2.ipython"
   ]
  },
  {
   "cell_type": "code",
   "execution_count": 2,
   "id": "1adf8824",
   "metadata": {},
   "outputs": [
    {
     "data": {
      "text/plain": [
       "Loading required package: S4Vectors\n",
       "Loading required package: stats4\n",
       "Loading required package: BiocGenerics\n",
       "\n",
       "Attaching package: ‘BiocGenerics’\n",
       "\n",
       "The following objects are masked from ‘package:stats’:\n",
       "\n",
       "    IQR, mad, sd, var, xtabs\n",
       "\n",
       "The following objects are masked from ‘package:base’:\n",
       "\n",
       "    anyDuplicated, aperm, append, as.data.frame, basename, cbind,\n",
       "    colnames, dirname, do.call, duplicated, eval, evalq, Filter, Find,\n",
       "    get, grep, grepl, intersect, is.unsorted, lapply, Map, mapply,\n",
       "    match, mget, order, paste, pmax, pmax.int, pmin, pmin.int,\n",
       "    Position, rank, rbind, Reduce, rownames, sapply, setdiff, sort,\n",
       "    table, tapply, union, unique, unsplit, which.max, which.min\n",
       "\n",
       "\n",
       "Attaching package: ‘S4Vectors’\n",
       "\n",
       "The following object is masked from ‘package:utils’:\n",
       "\n",
       "    findMatches\n",
       "\n",
       "The following objects are masked from ‘package:base’:\n",
       "\n",
       "    expand.grid, I, unname\n",
       "\n",
       "Loading required package: IRanges\n",
       "Loading required package: GenomicRanges\n",
       "Loading required package: GenomeInfoDb\n",
       "Loading required package: SummarizedExperiment\n",
       "Loading required package: MatrixGenerics\n",
       "Loading required package: matrixStats\n",
       "\n",
       "Attaching package: ‘MatrixGenerics’\n",
       "\n",
       "The following objects are masked from ‘package:matrixStats’:\n",
       "\n",
       "    colAlls, colAnyNAs, colAnys, colAvgsPerRowSet, colCollapse,\n",
       "    colCounts, colCummaxs, colCummins, colCumprods, colCumsums,\n",
       "    colDiffs, colIQRDiffs, colIQRs, colLogSumExps, colMadDiffs,\n",
       "    colMads, colMaxs, colMeans2, colMedians, colMins, colOrderStats,\n",
       "    colProds, colQuantiles, colRanges, colRanks, colSdDiffs, colSds,\n",
       "    colSums2, colTabulates, colVarDiffs, colVars, colWeightedMads,\n",
       "    colWeightedMeans, colWeightedMedians, colWeightedSds,\n",
       "    colWeightedVars, rowAlls, rowAnyNAs, rowAnys, rowAvgsPerColSet,\n",
       "    rowCollapse, rowCounts, rowCummaxs, rowCummins, rowCumprods,\n",
       "    rowCumsums, rowDiffs, rowIQRDiffs, rowIQRs, rowLogSumExps,\n",
       "    rowMadDiffs, rowMads, rowMaxs, rowMeans2, rowMedians, rowMins,\n",
       "    rowOrderStats, rowProds, rowQuantiles, rowRanges, rowRanks,\n",
       "    rowSdDiffs, rowSds, rowSums2, rowTabulates, rowVarDiffs, rowVars,\n",
       "    rowWeightedMads, rowWeightedMeans, rowWeightedMedians,\n",
       "    rowWeightedSds, rowWeightedVars\n",
       "\n",
       "Loading required package: Biobase\n",
       "Welcome to Bioconductor\n",
       "\n",
       "    Vignettes contain introductory material; view with\n",
       "    'browseVignettes()'. To cite Bioconductor, see\n",
       "    'citation(\"Biobase\")', and for packages 'citation(\"pkgname\")'.\n",
       "\n",
       "\n",
       "Attaching package: ‘Biobase’\n",
       "\n",
       "The following object is masked from ‘package:MatrixGenerics’:\n",
       "\n",
       "    rowMedians\n",
       "\n",
       "The following objects are masked from ‘package:matrixStats’:\n",
       "\n",
       "    anyMissing, rowMedians\n",
       "\n",
       "\n",
       "Attaching package: ‘magrittr’\n",
       "\n",
       "The following object is masked from ‘package:GenomicRanges’:\n",
       "\n",
       "    subtract\n",
       "\n"
      ]
     },
     "metadata": {},
     "output_type": "display_data"
    }
   ],
   "source": [
    "%%R\n",
    "library(DESeq2)\n",
    "library(magrittr)\n",
    "library(SummarizedExperiment)\n",
    "\n",
    "IN_DIR <- \"/mnt/home/yuankeji/RanceLab/reticula_new/reticula/data/GEO_model_validation/input/\"\n",
    "OUT_DIR <- \"/mnt/home/yuankeji/RanceLab/reticula_new/reticula/data/GEO_model_validation/output/\"\n",
    "\n",
    "GEO_model_validation.df <- readRDS(paste(OUT_DIR,\"GEO_model_validation_df.Rds\",sep=\"\"))\n",
    "GEO_model_validation.tissue.vec <- readRDS(paste(OUT_DIR,\"GEO_model_validation_tissue_vec.Rds\",sep=\"\"))"
   ]
  },
  {
   "cell_type": "code",
   "execution_count": 3,
   "id": "19ca7c72",
   "metadata": {},
   "outputs": [
    {
     "name": "stdout",
     "output_type": "stream",
     "text": [
      " [1] \"Brain\"     \"Liver\"     \"Intestine\" \"Eye\"       \"Heart\"     \"MOE\"      \n",
      " [7] \"Muscle\"    \"Lung\"      \"Kidney\"    \"Pancreas\"  \"Testes\"    \"Adipose\"  \n",
      "[13] \"Skin\"     \n"
     ]
    }
   ],
   "source": [
    "%%R\n",
    "print(unique(GEO_model_validation.tissue.vec))"
   ]
  },
  {
   "cell_type": "code",
   "execution_count": 4,
   "id": "5e20d616",
   "metadata": {},
   "outputs": [],
   "source": [
    "%%R\n",
    "scale.factor <- (.Machine$integer.max - 1) / max(GEO_model_validation.df)\n",
    "GEO_model_validation.df <- round(GEO_model_validation.df * scale.factor)\n",
    "GEO_model_validation.df <- GEO_model_validation.df + 1"
   ]
  },
  {
   "cell_type": "code",
   "execution_count": 5,
   "id": "dc154ebc",
   "metadata": {},
   "outputs": [
    {
     "data": {
      "text/plain": [
       "converting counts to integer mode\n",
       "In addition: Warning message:\n",
       "In DESeqDataSet(se, design = design, ignoreRank) :\n",
       "  some variables in design formula are characters, converting to factors\n"
      ]
     },
     "metadata": {},
     "output_type": "display_data"
    }
   ],
   "source": [
    "%%R\n",
    "dds <- DESeq2::DESeqDataSetFromMatrix(countData = as.matrix(GEO_model_validation.df),\n",
    "                                      colData = data.frame(Sample=colnames(GEO_model_validation.df),\n",
    "                                                           Tissue=GEO_model_validation.tissue.vec),\n",
    "                                      design = ~ Tissue)\n",
    "saveRDS(dds,\n",
    "        paste(OUT_DIR,\"dds.Rds\",sep=\"\"))"
   ]
  },
  {
   "cell_type": "code",
   "execution_count": null,
   "id": "ecd7c8e1",
   "metadata": {},
   "outputs": [],
   "source": []
  },
  {
   "cell_type": "code",
   "execution_count": null,
   "id": "1f252efd",
   "metadata": {},
   "outputs": [],
   "source": []
  }
 ],
 "metadata": {
  "kernelspec": {
   "display_name": "Python 3 (ipykernel)",
   "language": "python",
   "name": "python3"
  },
  "language_info": {
   "codemirror_mode": {
    "name": "ipython",
    "version": 3
   },
   "file_extension": ".py",
   "mimetype": "text/x-python",
   "name": "python",
   "nbconvert_exporter": "python",
   "pygments_lexer": "ipython3",
   "version": "3.11.5"
  }
 },
 "nbformat": 4,
 "nbformat_minor": 5
}
