{
 "cells": [
  {
   "cell_type": "code",
   "execution_count": null,
   "id": "a693590e",
   "metadata": {},
   "outputs": [],
   "source": [
    "%load_ext rpy2.ipython"
   ]
  },
  {
   "cell_type": "code",
   "execution_count": null,
   "id": "96c3212e",
   "metadata": {},
   "outputs": [],
   "source": [
    "%%R\n",
    "\n",
    "scratch_path <- Sys.getenv(\"SCRATCH\")\n",
    ".libPaths(file.path(scratch_path, \"Rlocal4.3.2\"))"
   ]
  },
  {
   "cell_type": "code",
   "execution_count": null,
   "id": "ba561b95",
   "metadata": {},
   "outputs": [],
   "source": [
    "%%R\n",
    "library(DESeq2)\n",
    "library(magrittr)\n",
    "library(SummarizedExperiment)"
   ]
  },
  {
   "cell_type": "code",
   "execution_count": null,
   "id": "20852424",
   "metadata": {},
   "outputs": [],
   "source": [
    "%%R\n",
    "\n",
    "IN_DIR <- \"../../inputs/\"\n",
    "OUT_DIR <- \"../../outputs/validation/\"\n",
    "\n",
    "dds <- readRDS(paste(OUT_DIR,\"dds.Rds\",sep=\"\"))\n",
    "\n",
    "vst.counts <- DESeq2::vst(dds,\n",
    "                          blind = FALSE,\n",
    "                          fitType = \"local\")\n",
    "\n",
    "saveRDS(vst.counts,\n",
    "        paste(OUT_DIR,\"vst_counts.Rds\",sep=\"\"))"
   ]
  },
  {
   "cell_type": "code",
   "execution_count": null,
   "id": "cf00f725",
   "metadata": {},
   "outputs": [],
   "source": [
    "%%R\n",
    "\n",
    "print(vst.counts)"
   ]
  },
  {
   "cell_type": "code",
   "execution_count": null,
   "id": "d92e548b",
   "metadata": {},
   "outputs": [],
   "source": [
    "%%R\n",
    "\n",
    "ensembl2rxns.df <- read.table(paste(IN_DIR,\"Ensembl2ReactomeReactions.txt\",sep=\"\"),\n",
    "                              sep=\"\\t\")\n",
    "\n",
    "reactome_ensembl_ids <- readRDS(paste(OUT_DIR,\"reactome_ensembl_ids.Rds\",sep=\"\"))\n",
    "\n",
    "rxn2ensembls.nls <- list()\n",
    "rxns_w_GEO_model_validation_ensembls.df <- ensembl2rxns.df %>% dplyr::filter(V1 %in% reactome_ensembl_ids)\n",
    "rxns_w_GEO_model_validation_ensembls.df$V1 <- as.character(rxns_w_GEO_model_validation_ensembls.df$V1)\n",
    "rxns_w_GEO_model_validation_ensembls.df$V2 <- as.character(rxns_w_GEO_model_validation_ensembls.df$V2)\n",
    "for(i in 1:nrow(rxns_w_GEO_model_validation_ensembls.df)){\n",
    "  ens_id <- rxns_w_GEO_model_validation_ensembls.df$V1[i]\n",
    "  rxn_id <- rxns_w_GEO_model_validation_ensembls.df$V2[i]\n",
    "  ensembl_list_for_rxn_id <- rxn2ensembls.nls[[rxn_id]]\n",
    "  if(is.null(ensembl_list_for_rxn_id)){\n",
    "    ensembl_list_for_rxn_id <- c(ens_id)\n",
    "  }\n",
    "  rxn2ensembls.nls[[rxn_id]] <- c(ensembl_list_for_rxn_id,ens_id) %>% unique()\n",
    "}"
   ]
  },
  {
   "cell_type": "code",
   "execution_count": null,
   "id": "31e466cb",
   "metadata": {},
   "outputs": [],
   "source": [
    "%%R\n",
    "\n",
    "print(ensembl2rxns.df)"
   ]
  },
  {
   "cell_type": "code",
   "execution_count": null,
   "id": "6e54006c",
   "metadata": {},
   "outputs": [],
   "source": [
    "%%R\n",
    "\n",
    "print(reactome_ensembl_ids)"
   ]
  },
  {
   "cell_type": "code",
   "execution_count": null,
   "id": "0fcb31ac",
   "metadata": {},
   "outputs": [],
   "source": [
    "%%R\n",
    "\n",
    "rxns_w_GEO_model_validation_ensembls.df <- ensembl2rxns.df %>% dplyr::filter(V1 %in% reactome_ensembl_ids)\n",
    "print(rxns_w_GEO_model_validation_ensembls.df)"
   ]
  },
  {
   "cell_type": "code",
   "execution_count": null,
   "id": "4f404acd",
   "metadata": {},
   "outputs": [],
   "source": [
    "%%R\n",
    "\n",
    "print(length(ensembl2rxns.df))\n",
    "print(length(reactome_ensembl_ids))\n",
    "print(length(rxn2ensembls.nls))"
   ]
  },
  {
   "cell_type": "code",
   "execution_count": null,
   "id": "e5d3ec79",
   "metadata": {},
   "outputs": [],
   "source": [
    "%%R\n",
    "\n",
    "saveRDS(rxn2ensembls.nls,\n",
    "        paste(OUT_DIR,\"rxn2ensembls_nls.Rds\",sep=\"\"))"
   ]
  }
 ],
 "metadata": {
  "kernelspec": {
   "display_name": "Python 3 (ipykernel)",
   "language": "python",
   "name": "python3"
  },
  "language_info": {
   "codemirror_mode": {
    "name": "ipython",
    "version": 3
   },
   "file_extension": ".py",
   "mimetype": "text/x-python",
   "name": "python",
   "nbconvert_exporter": "python",
   "pygments_lexer": "ipython3",
   "version": "3.9.21"
  }
 },
 "nbformat": 4,
 "nbformat_minor": 5
}
