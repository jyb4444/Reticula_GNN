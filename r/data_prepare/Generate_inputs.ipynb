{
 "cells": [
  {
   "cell_type": "markdown",
   "id": "92287732",
   "metadata": {},
   "source": [
    "## Load python packages"
   ]
  },
  {
   "cell_type": "code",
   "execution_count": 1,
   "id": "7a4624ea",
   "metadata": {},
   "outputs": [],
   "source": [
    "import pandas as pd\n",
    "import os\n",
    "import glob\n",
    "import re\n",
    "import csv"
   ]
  },
  {
   "cell_type": "markdown",
   "id": "55d17f85",
   "metadata": {},
   "source": [
    "## Load R packages"
   ]
  },
  {
   "cell_type": "code",
   "execution_count": 4,
   "id": "203e4110",
   "metadata": {},
   "outputs": [
    {
     "name": "stdout",
     "output_type": "stream",
     "text": [
      "The rpy2.ipython extension is already loaded. To reload it, use:\n",
      "  %reload_ext rpy2.ipython\n"
     ]
    }
   ],
   "source": [
    "%load_ext rpy2.ipython"
   ]
  },
  {
   "cell_type": "code",
   "execution_count": 5,
   "id": "187aa375",
   "metadata": {},
   "outputs": [],
   "source": [
    "%%R\n",
    "\n",
    ".libPaths(\"/mnt/gs21/scratch/naultran/Rlocal4.3.2\")"
   ]
  },
  {
   "cell_type": "code",
   "execution_count": null,
   "id": "7f7b6b95",
   "metadata": {},
   "outputs": [],
   "source": [
    "%%R\n",
    "\n",
    "library(SummarizedExperiment)\n",
    "library(recount3)"
   ]
  },
  {
   "cell_type": "markdown",
   "id": "f6666d04",
   "metadata": {},
   "source": [
    "# Test API from Recount3"
   ]
  },
  {
   "cell_type": "code",
   "execution_count": null,
   "id": "296a74aa",
   "metadata": {
    "scrolled": false
   },
   "outputs": [],
   "source": [
    "%%R\n",
    "tryCatch({\n",
    "    rse_gene <- recount3::create_rse_manual(\n",
    "        project = \"SRP104670\",\n",
    "        project_home = \"data_sources/sra\",\n",
    "        organism = \"mouse\",\n",
    "        annotation = \"gencode_v23\",\n",
    "        type = \"gene\")\n",
    "    \n",
    "    colData(rse_gene)$sra.study_title\n",
    "    \n",
    "    },error=function(cond){\n",
    "        print(cond)\n",
    "    })\n"
   ]
  },
  {
   "cell_type": "markdown",
   "id": "fd1c127e",
   "metadata": {},
   "source": [
    "# Produce rse_gene.Rdata File\n",
    "\n",
    "> This generates the input data for the GNN training and validation which contains all the tissues but excludes the treated samoples."
   ]
  },
  {
   "cell_type": "code",
   "execution_count": null,
   "id": "0cb66a57",
   "metadata": {},
   "outputs": [],
   "source": [
    "%%R\n",
    "\n",
    "# Lists all projects\n",
    "recount_data <- read.csv(\"../inputs/recount3_selection_2024-04-12.csv\")\n",
    "\n",
    "# Specifies samples to exclude treated samples\n",
    "cleaned_data <- read.csv('../inputs/CleanedSamplesGNN_v3.csv', sep='.')\n",
    "\n",
    "final_result <- NULL\n",
    "\n",
    "print(nrow(recount_data))\n",
    "\n",
    "for (i in 1:nrow(recount_data)) {\n",
    "      if (recount_data[i, 'study_title'] %in% cleaned_data$Title) {\n",
    "      print(paste(\"Current running\", i))\n",
    "      if (recount_data$n_samples[i] <= 600) {\n",
    "          tryCatch({\n",
    "            rse_gene <- recount3::create_rse_manual(\n",
    "              project = recount_data$project[i],\n",
    "              project_home = recount_data$project_home[i],\n",
    "              organism = recount_data$organism[i],\n",
    "              annotation = \"gencode_v23\",\n",
    "              type = \"gene\"\n",
    "            )\n",
    "\n",
    "            sample_list <- cleaned_data[,'SRR']\n",
    "            keep <- intersect(sample_list, colnames(rse_gene))\n",
    "            temp_rse_gene <- rse_gene[,keep]\n",
    "              \n",
    "            gene_order <- colData(temp_rse_gene)$external_id\n",
    "            cur_obj <- merge(colData(temp_rse_gene), cleaned_data, by.x=\"external_id\", by.y = \"SRR\", all.x=TRUE)\n",
    "            ordered_indices <- match(gene_order, cur_obj$external_id)\n",
    "            cur_obj <- cur_obj[ordered_indices, ]\n",
    "              \n",
    "            colData(temp_rse_gene) <- cur_obj\n",
    "            if (is.null(final_result)) {\n",
    "                final_result <- temp_rse_gene\n",
    "            } else {\n",
    "                final_result <- cbind(final_result, temp_rse_gene)\n",
    "            }\n",
    "          },\n",
    "          error = function(cond){\n",
    "              print(\"-----------------\")\n",
    "              print(recount_data$n_samples[i])\n",
    "              print(recount_data$project[i])\n",
    "              print(i)\n",
    "          }\n",
    "        )\n",
    "      }\n",
    "    }\n",
    "  \n",
    "}\n",
    "\n",
    "save(final_result, file = \"/Users/kejiyuan/Desktop/RanceLab/reticula_new/rse_gene/rse_gene.Rdata\")"
   ]
  },
  {
   "cell_type": "markdown",
   "id": "e0ed6ecc",
   "metadata": {},
   "source": [
    "# Produce GEO_model_validation_rse_gene.Rdata\n",
    "\n",
    "> This is used to produce the rse_gene object for the testing (TCDD treated samples)."
   ]
  },
  {
   "cell_type": "code",
   "execution_count": null,
   "id": "abfcdb58",
   "metadata": {},
   "outputs": [],
   "source": [
    "%%R\n",
    "\n",
    "recount_data <- read.csv(\"../inputs/recount3_selection_2024-04-12.csv\")\n",
    "cleaned_data <- read.csv('../inputs/GEO_model_validation.txt', sep='\\t')\n",
    "\n",
    "final_result <- NULL\n",
    "\n",
    "print(nrow(recount_data))\n",
    "needed_project_ids <- c('SRP131784', 'SRP090688', 'SRP161461', 'SRP075814', 'SRP049440')\n",
    "\n",
    "for (i in 1:nrow(recount_data)) {\n",
    "    print(paste(\"Current running\", i))\n",
    "    # Check if the current project ID is one of the needed ones\n",
    "    if (!(recount_data$project[i] %in% needed_project_ids)) {\n",
    "        next  # Skip the rest of this iteration if the project ID is not needed\n",
    "    }\n",
    "\n",
    "    tryCatch({\n",
    "        rse_gene <- recount3::create_rse_manual(\n",
    "          project = recount_data$project[i],\n",
    "          project_home = recount_data$project_home[i],\n",
    "          organism = recount_data$organism[i],\n",
    "          annotation = \"gencode_v23\",\n",
    "          type = \"gene\"\n",
    "        )\n",
    "\n",
    "        sample_list <- cleaned_data[,'SRR']\n",
    "        keep <- intersect(sample_list, colnames(rse_gene))\n",
    "        temp_rse_gene <- rse_gene[,keep]\n",
    "        \n",
    "        gene_order <- colData(temp_rse_gene)$external_id\n",
    "        cur_obj <- merge(colData(temp_rse_gene), cleaned_data, by.x=\"external_id\", by.y = \"SRR\", all.x=TRUE)\n",
    "        ordered_indices <- match(gene_order, cur_obj$external_id)\n",
    "        cur_obj <- cur_obj[ordered_indices, ]\n",
    "        \n",
    "        colData(temp_rse_gene) <- cur_obj\n",
    "        if (is.null(final_result)) {\n",
    "            final_result <- temp_rse_gene\n",
    "        } else {\n",
    "            final_result <- cbind(final_result, temp_rse_gene)\n",
    "        }\n",
    "    },\n",
    "    error = function(cond){\n",
    "        print(\"-----------------\")\n",
    "        print(recount_data$n_samples[i])\n",
    "        print(recount_data$project[i])\n",
    "        print(i)\n",
    "    })\n",
    "\n",
    "}\n",
    "\n",
    "save(final_result, file = \"/Users/kejiyuan/Desktop/RanceLab/reticula_new/rse_gene/GEO_model_validation_rse_gene.Rdata\")\n"
   ]
  },
  {
   "cell_type": "markdown",
   "id": "a72b64ab",
   "metadata": {},
   "source": [
    "# Generate reaction network mapping from Reactome data\n",
    "\n",
    "## Produce ReactionNetwork_Rel.txt\n",
    "\n",
    "1. Install Docker\n",
    "\n",
    "2. Find `reactome/graphdb` on Docker Hub and run:  \n",
    "   `docker run -p 7474:7474 -p 7687:7687 -e NEO4J_dbms_memory_heap_maxSize=8g reactome/graphdb:latest`\n",
    "\n",
    "3. The username is \"Neo4j\" and the password is \"admin\".\n",
    "\n",
    "4. Use the following two queries to retrieve the data:  \n",
    "   `MATCH (r2:ReactionLikeEvent {speciesName:\"Mus musculus\"})-[:precedingEvent]->(r1:ReactionLikeEvent {speciesName:\"Mus musculus\"}) RETURN r1.stId as Preceding Reaction, r2.stId as Following Reaction`\n",
    "\n",
    "   `MATCH (r1:ReactionLikeEvent {speciesName:\"Mus musculus\"})-[:output]->(PhysicalEntity)<-[:physicalEntity]-(CatalystActivity)<-[:catalystActivity]-(r2:ReactionLikeEvent {speciesName:\"Mus musculus\"}) RETURN r1.stId as Preceding Reaction, r2.stId as Following Reaction`\n",
    "\n",
    "5. Download the result as `Mouse1.csv` and `Mouse2.csv` files and place in inputs folder.\n",
    "\n",
    "6. Use the following code to integrate the data together:"
   ]
  },
  {
   "cell_type": "code",
   "execution_count": null,
   "id": "318e0dbe",
   "metadata": {},
   "outputs": [],
   "source": [
    "file1 = pd.read_csv(\"../inputs/Mouse1.csv\")\n",
    "file2 = pd.read_csv(\"../inputs/Mouse2.csv\")\n",
    "\n",
    "def insertCol(file):\n",
    "    file['Relationship'] = \"Preceding\"\n",
    "    col_names = file.columns.tolist()\n",
    "    new_col_order = [col_names[0], \"Relationship\"] + col_names[1:-1]\n",
    "    file = file[new_col_order]\n",
    "    return file\n",
    "\n",
    "file1 = insertCol(file1)\n",
    "file2 = insertCol(file2)\n",
    "\n",
    "merged_df = pd.concat([file1, file2], ignore_index=True)\n",
    "\n",
    "merged_df.to_csv(\"../inputs/ReactionNetwork_Rel.txt\", sep=\"\\t\", index=False, quoting=csv.QUOTE_NONNUMERIC)"
   ]
  },
  {
   "cell_type": "markdown",
   "id": "b82dc73e",
   "metadata": {},
   "source": [
    "## Produce ReactionToPathway_Rel.csv file\n",
    "\n",
    "1. Install Docker\n",
    "\n",
    "2. Find reactome/graphdb on Docker Hub and run:  \n",
    "   `docker run -p 7474:7474 -p 7687:7687 -e NEO4J_dbms_memory_heap_maxSize=8g reactome/graphdb:latest`\n",
    "\n",
    "3. The username is \"Neo4j\" and the password is \"admin\".\n",
    "\n",
    "4. Use the following query to retrieve the relationship between pathways and reactions:  \n",
    "   `MATCH (p:Pathway {speciesName:\"Mus musculus\"})-[:hasEvent]->(r:ReactionLikeEvent)`  \n",
    "   `RETURN p.stId as Pathway, r.stId as ReactionLikeEvent, r.displayName as Title`\n",
    "\n",
    "5. Download the result as `ReactionToPathway_Rel.csv` and place it in the `inputs` folder.\n"
   ]
  }
 ],
 "metadata": {
  "kernelspec": {
   "display_name": "Python (tox_reticula)",
   "language": "python",
   "name": "tox_reticula"
  },
  "language_info": {
   "codemirror_mode": {
    "name": "ipython",
    "version": 3
   },
   "file_extension": ".py",
   "mimetype": "text/x-python",
   "name": "python",
   "nbconvert_exporter": "python",
   "pygments_lexer": "ipython3",
   "version": "3.9.21"
  }
 },
 "nbformat": 4,
 "nbformat_minor": 5
}
