{
 "cells": [
  {
   "cell_type": "code",
   "execution_count": null,
   "id": "a36537e0",
   "metadata": {},
   "outputs": [],
   "source": [
    "%load_ext rpy2.ipython"
   ]
  },
  {
   "cell_type": "code",
   "execution_count": null,
   "id": "7d72d288",
   "metadata": {},
   "outputs": [],
   "source": [
    "%%R\n",
    "library(DESeq2)\n",
    "library(magrittr)\n",
    "library(SummarizedExperiment)\n",
    "\n",
    "start_time <- Sys.time()\n",
    "\n",
    "IN_DIR <- \"../../../data/GEO_TCDD_Dose_Response/input/\"\n",
    "OUT_DIR <- \"../../../data/GEO_TCDD_Dose_Response/output/\"\n",
    "\n",
    "GEO_TCDD_Dose_Reponse_DATA_FIL <- \"rse_tcdd_data.Rdata\"\n",
    "\n",
    "ensembl2rxns.df <- read.table(paste(IN_DIR,\"Ensembl2ReactomeReactions.txt\",sep=\"\"),\n",
    "                              sep=\"\\t\")\n",
    "\n",
    "load(paste(IN_DIR,GEO_TCDD_Dose_Reponse_DATA_FIL,sep=\"\"))"
   ]
  },
  {
   "cell_type": "code",
   "execution_count": null,
   "id": "f4ae8b7a",
   "metadata": {},
   "outputs": [],
   "source": [
    "%%R\n",
    "variances <- apply(assay(final_result), 1, var)\n",
    "zero_variance_rows <- which(variances == 0)\n",
    "\n",
    "if (length(zero_variance_rows) > 0) {\n",
    "    deleted_data <- assay(final_result)[zero_variance_rows, , drop = FALSE]\n",
    "    save(deleted_data, file=paste0(OUT_DIR, \"deleted_data.RData\"))\n",
    "    new_assays <- assay(final_result)[-zero_variance_rows, , drop = FALSE]\n",
    "    new_row_data <- rowData(final_result)[-zero_variance_rows, , drop = FALSE]\n",
    "\n",
    "    new_final_result <- SummarizedExperiment(\n",
    "        assays = SimpleList(counts = new_assays),\n",
    "        rowData = new_row_data,\n",
    "        colData = colData(final_result)\n",
    "    )\n",
    "    \n",
    "    final_result <- new_final_result\n",
    "    \n",
    "    print(dim(assay(final_result)))\n",
    "    print(dim(rowData(final_result)))\n",
    "} else {\n",
    "    cat(\"No rows with zero variance found.\\n\")\n",
    "}\n",
    "\n",
    "print(head(assay(final_result)))"
   ]
  },
  {
   "cell_type": "code",
   "execution_count": null,
   "id": "36dc8fef",
   "metadata": {},
   "outputs": [],
   "source": [
    "%%R\n",
    "GEO_TCDD_Dose_Response_data <- colData(final_result)\n",
    "\n",
    "dose_counts <- table(GEO_TCDD_Dose_Response_data$dose)\n",
    "\n",
    "print(dose_counts)\n",
    "\n",
    "dose_counts_df <- as.data.frame(dose_counts)\n",
    "\n",
    "colnames(dose_counts_df) <- c(\"Dose\", \"Count\")\n",
    "\n",
    "write.csv(dose_counts_df, paste0(OUT_DIR, \"dose_counts.csv\"), row.names=FALSE)"
   ]
  },
  {
   "cell_type": "code",
   "execution_count": null,
   "id": "53271ba3",
   "metadata": {},
   "outputs": [],
   "source": [
    "%%R\n",
    "combined_gender <- ifelse(GEO_TCDD_Dose_Response_data$Sex != \"\", GEO_TCDD_Dose_Response_data$Sex,GEO_TCDD_Dose_Response_data$gender)\n",
    "\n",
    "write.table(GEO_TCDD_Dose_Response_data$project_id,file=paste(OUT_DIR,\"GEO_TCDD_Dose_Response_project_id.txt\",sep=\"\"), row.names = FALSE, col.names = FALSE, sep = \"\\t\")\n",
    "\n",
    "write.table(combined_gender,file=paste(OUT_DIR,\"GEO_TCDD_Dose_Response_gender.txt\",sep=\"\"), row.names = FALSE, col.names = FALSE, sep = \"\\t\")\n",
    "\n",
    "write.table(GEO_TCDD_Dose_Response_data$SRR,file=paste(OUT_DIR,\"GEO_TCDD_Dose_Response_sample_id.txt\",sep=\"\"), row.names = FALSE, col.names = FALSE, sep = \"\\t\")\n",
    "\n",
    "write.table(GEO_TCDD_Dose_Response_data$dose,file=paste(OUT_DIR,\"GEO_TCDD_Dose_Response_dose.txt\",sep=\"\"), row.names = FALSE, col.names = FALSE, sep = \"\\t\")\n",
    "\n",
    "saveRDS(GEO_TCDD_Dose_Response_data$dose,file=paste(OUT_DIR,\"GEO_TCDD_Dose_Response_dose_detail_vec.Rds\",sep=\"\"))\n",
    "\n",
    "saveRDS(GEO_TCDD_Dose_Response_data$SRR,file=paste(OUT_DIR,\"GEO_TCDD_Dose_Response_sampe_detail_vec.Rds\",sep=\"\"))\n"
   ]
  },
  {
   "cell_type": "code",
   "execution_count": null,
   "id": "432662d8",
   "metadata": {},
   "outputs": [],
   "source": [
    "%%R\n",
    "GEO_TCDD_Dose_Response.df <- final_result %>% SummarizedExperiment::assay() %>% as.data.frame()\n",
    "\n",
    "ensembl_wo_ids <- gsub(\"\\\\.[0-9]+\",\"\",rownames(GEO_TCDD_Dose_Response.df))\n",
    "\n",
    "deleted_ensembl_wo_ids <- gsub(\"\\\\.[0-9]+\",\"\",rownames(deleted_data))\n",
    "\n",
    "rownames(GEO_TCDD_Dose_Response.df) <- ensembl_wo_ids\n",
    "\n",
    "rownames(deleted_data) <- deleted_ensembl_wo_ids\n",
    "\n",
    "reactome_ensembl_ids <- intersect(ensembl2rxns.df$V1,ensembl_wo_ids)\n",
    "\n",
    "saveRDS(reactome_ensembl_ids,file=paste(OUT_DIR,\"reactome_ensembl_ids.Rds\",sep=\"\"))"
   ]
  },
  {
   "cell_type": "code",
   "execution_count": null,
   "id": "70eeb7ed",
   "metadata": {},
   "outputs": [],
   "source": [
    "%%R\n",
    "GEO_TCDD_Dose_Response.df <- GEO_TCDD_Dose_Response.df[reactome_ensembl_ids,]\n",
    "saveRDS(GEO_TCDD_Dose_Response.df,file=paste(OUT_DIR,\"GEO_TCDD_Dose_Response_df.Rds\",sep=\"\"))\n",
    "saveRDS(deleted_data, file=paste(OUT_DIR, \"GEO_TCDD_Dose_Response_format_name_deleted_data.Rds\", sep=\"\"))"
   ]
  }
 ],
 "metadata": {
  "kernelspec": {
   "display_name": "Python 3 (ipykernel)",
   "language": "python",
   "name": "python3"
  },
  "language_info": {
   "codemirror_mode": {
    "name": "ipython",
    "version": 3
   },
   "file_extension": ".py",
   "mimetype": "text/x-python",
   "name": "python",
   "nbconvert_exporter": "python",
   "pygments_lexer": "ipython3",
   "version": "3.9.21"
  }
 },
 "nbformat": 4,
 "nbformat_minor": 5
}
