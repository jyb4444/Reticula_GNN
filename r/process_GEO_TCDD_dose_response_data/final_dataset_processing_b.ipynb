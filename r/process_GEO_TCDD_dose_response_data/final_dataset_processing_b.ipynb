{
 "cells": [
  {
   "cell_type": "code",
   "execution_count": null,
   "id": "115a8699",
   "metadata": {},
   "outputs": [],
   "source": [
    "%load_ext rpy2.ipython"
   ]
  },
  {
   "cell_type": "code",
   "execution_count": null,
   "id": "3f0b461f",
   "metadata": {},
   "outputs": [],
   "source": [
    "%%R\n",
    "library(DESeq2)\n",
    "library(magrittr)\n",
    "library(SummarizedExperiment)\n",
    "\n",
    "start_time <- Sys.time()\n",
    "\n",
    "IN_DIR <- \"/mnt/home/yuankeji/RanceLab/reticula_new/reticula/data/tcdd/input/\"\n",
    "OUT_DIR <- \"/mnt/home/yuankeji/RanceLab/reticula_new/reticula/data/tcdd/output/\"\n",
    "\n",
    "tcdd.df <- readRDS(paste(OUT_DIR,\"tcdd_df.Rds\",sep=\"\"))\n",
    "tcdd.dose.detail.vec <- readRDS(paste(OUT_DIR,\"tcdd_dose_detail_vec.Rds\",sep=\"\"))"
   ]
  },
  {
   "cell_type": "code",
   "execution_count": null,
   "id": "af7a0a3d",
   "metadata": {},
   "outputs": [],
   "source": [
    "%%R\n",
    "print(tcdd.df)"
   ]
  },
  {
   "cell_type": "code",
   "execution_count": null,
   "id": "f11c6664",
   "metadata": {},
   "outputs": [],
   "source": [
    "%%R\n",
    "scale.factor <- (.Machine$integer.max - 1) / max(tcdd.df)\n",
    "print(scale.factor)"
   ]
  },
  {
   "cell_type": "code",
   "execution_count": null,
   "id": "9e0f7353",
   "metadata": {},
   "outputs": [],
   "source": [
    "%%R\n",
    "tcdd.df <- round(tcdd.df * scale.factor)\n",
    "print(tcdd.df)"
   ]
  },
  {
   "cell_type": "code",
   "execution_count": null,
   "id": "7b54fe71",
   "metadata": {},
   "outputs": [],
   "source": [
    "%%R\n",
    "tcdd.df <- tcdd.df + 1\n",
    "print(tcdd.df)"
   ]
  },
  {
   "cell_type": "code",
   "execution_count": null,
   "id": "2ea40929",
   "metadata": {},
   "outputs": [],
   "source": [
    "%%R\n",
    "dds <- DESeq2::DESeqDataSetFromMatrix(countData = as.matrix(tcdd.df),\n",
    "                                      colData = data.frame(Sample=colnames(tcdd.df),\n",
    "                                                           Tissue=tcdd.dose.detail.vec),\n",
    "                                      design = ~ Tissue)\n",
    "print(dds)"
   ]
  },
  {
   "cell_type": "code",
   "execution_count": null,
   "id": "79a0d6ed",
   "metadata": {},
   "outputs": [],
   "source": [
    "%%R\n",
    "saveRDS(dds,\n",
    "        paste(OUT_DIR,\"dds.Rds\",sep=\"\"))"
   ]
  },
  {
   "cell_type": "code",
   "execution_count": null,
   "id": "f660938b",
   "metadata": {},
   "outputs": [],
   "source": []
  }
 ],
 "metadata": {
  "kernelspec": {
   "display_name": "Python 3 (ipykernel)",
   "language": "python",
   "name": "python3"
  },
  "language_info": {
   "codemirror_mode": {
    "name": "ipython",
    "version": 3
   },
   "file_extension": ".py",
   "mimetype": "text/x-python",
   "name": "python",
   "nbconvert_exporter": "python",
   "pygments_lexer": "ipython3",
   "version": "3.9.21"
  }
 },
 "nbformat": 4,
 "nbformat_minor": 5
}
