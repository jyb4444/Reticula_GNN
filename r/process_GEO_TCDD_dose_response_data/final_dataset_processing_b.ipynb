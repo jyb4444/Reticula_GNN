{
 "cells": [
  {
   "cell_type": "code",
   "execution_count": null,
   "id": "115a8699",
   "metadata": {},
   "outputs": [],
   "source": [
    "%load_ext rpy2.ipython"
   ]
  },
  {
   "cell_type": "code",
   "execution_count": null,
   "id": "3f0b461f",
   "metadata": {},
   "outputs": [],
   "source": [
    "%%R\n",
    "library(DESeq2)\n",
    "library(magrittr)\n",
    "library(SummarizedExperiment)\n",
    "\n",
    "start_time <- Sys.time()\n",
    "\n",
    "IN_DIR <- \"../../../data/GEO_TCDD_Dose_Response/input/\"\n",
    "OUT_DIR <- \"../../../data/GEO_TCDD_Dose_Response/output/\"\n",
    "\n",
    "GEO_TCDD_Dose_Response.df <- readRDS(paste(OUT_DIR,\"GEO_TCDD_Dose_Response_df.Rds\",sep=\"\"))\n",
    "GEO_TCDD_Dose_Response.detail.vec <- readRDS(paste(OUT_DIR,\"GEO_TCDD_Dose_Response_dose_detail_vec.Rds\",sep=\"\"))"
   ]
  },
  {
   "cell_type": "code",
   "execution_count": null,
   "id": "af7a0a3d",
   "metadata": {},
   "outputs": [],
   "source": [
    "%%R\n",
    "scale.factor <- (.Machine$integer.max - 1) / max(GEO_TCDD_Dose_Response.df)\n",
    "GEO_TCDD_Dose_Response.df <- round(GEO_TCDD_Dose_Response.df * scale.factor)\n",
    "GEO_TCDD_Dose_Response.df <- GEO_TCDD_Dose_Response.df + 1"
   ]
  },
  {
   "cell_type": "code",
   "execution_count": null,
   "id": "2ea40929",
   "metadata": {},
   "outputs": [],
   "source": [
    "%%R\n",
    "dds <- DESeq2::DESeqDataSetFromMatrix(countData = as.matrix(GEO_TCDD_Dose_Response.df),\n",
    "                                      colData = data.frame(Sample=colnames(GEO_TCDD_Dose_Response.df),\n",
    "                                                           Tissue=GEO_TCDD_Dose_Response.detail.vec),\n",
    "                                      design = ~ Tissue)\n",
    "saveRDS(dds,\n",
    "        paste(OUT_DIR,\"dds.Rds\",sep=\"\"))"
   ]
  },
  {
   "cell_type": "code",
   "execution_count": null,
   "id": "f660938b",
   "metadata": {},
   "outputs": [],
   "source": []
  }
 ],
 "metadata": {
  "kernelspec": {
   "display_name": "Python 3 (ipykernel)",
   "language": "python",
   "name": "python3"
  },
  "language_info": {
   "codemirror_mode": {
    "name": "ipython",
    "version": 3
   },
   "file_extension": ".py",
   "mimetype": "text/x-python",
   "name": "python",
   "nbconvert_exporter": "python",
   "pygments_lexer": "ipython3",
   "version": "3.9.21"
  }
 },
 "nbformat": 4,
 "nbformat_minor": 5
}
