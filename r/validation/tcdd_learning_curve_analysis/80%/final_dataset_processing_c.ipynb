{
 "cells": [
  {
   "cell_type": "code",
   "execution_count": 1,
   "id": "c42b3be9",
   "metadata": {},
   "outputs": [],
   "source": [
    "%load_ext rpy2.ipython"
   ]
  },
  {
   "cell_type": "code",
   "execution_count": 2,
   "id": "0101c424",
   "metadata": {
    "scrolled": true
   },
   "outputs": [
    {
     "data": {
      "text/plain": [
       "Loading required package: S4Vectors\n",
       "Loading required package: stats4\n",
       "Loading required package: BiocGenerics\n",
       "\n",
       "Attaching package: ‘BiocGenerics’\n",
       "\n",
       "The following objects are masked from ‘package:stats’:\n",
       "\n",
       "    IQR, mad, sd, var, xtabs\n",
       "\n",
       "The following objects are masked from ‘package:base’:\n",
       "\n",
       "    anyDuplicated, aperm, append, as.data.frame, basename, cbind,\n",
       "    colnames, dirname, do.call, duplicated, eval, evalq, Filter, Find,\n",
       "    get, grep, grepl, intersect, is.unsorted, lapply, Map, mapply,\n",
       "    match, mget, order, paste, pmax, pmax.int, pmin, pmin.int,\n",
       "    Position, rank, rbind, Reduce, rownames, sapply, setdiff, sort,\n",
       "    table, tapply, union, unique, unsplit, which.max, which.min\n",
       "\n",
       "\n",
       "Attaching package: ‘S4Vectors’\n",
       "\n",
       "The following object is masked from ‘package:utils’:\n",
       "\n",
       "    findMatches\n",
       "\n",
       "The following objects are masked from ‘package:base’:\n",
       "\n",
       "    expand.grid, I, unname\n",
       "\n",
       "Loading required package: IRanges\n",
       "Loading required package: GenomicRanges\n",
       "Loading required package: GenomeInfoDb\n",
       "Loading required package: SummarizedExperiment\n",
       "Loading required package: MatrixGenerics\n",
       "Loading required package: matrixStats\n",
       "\n",
       "Attaching package: ‘MatrixGenerics’\n",
       "\n",
       "The following objects are masked from ‘package:matrixStats’:\n",
       "\n",
       "    colAlls, colAnyNAs, colAnys, colAvgsPerRowSet, colCollapse,\n",
       "    colCounts, colCummaxs, colCummins, colCumprods, colCumsums,\n",
       "    colDiffs, colIQRDiffs, colIQRs, colLogSumExps, colMadDiffs,\n",
       "    colMads, colMaxs, colMeans2, colMedians, colMins, colOrderStats,\n",
       "    colProds, colQuantiles, colRanges, colRanks, colSdDiffs, colSds,\n",
       "    colSums2, colTabulates, colVarDiffs, colVars, colWeightedMads,\n",
       "    colWeightedMeans, colWeightedMedians, colWeightedSds,\n",
       "    colWeightedVars, rowAlls, rowAnyNAs, rowAnys, rowAvgsPerColSet,\n",
       "    rowCollapse, rowCounts, rowCummaxs, rowCummins, rowCumprods,\n",
       "    rowCumsums, rowDiffs, rowIQRDiffs, rowIQRs, rowLogSumExps,\n",
       "    rowMadDiffs, rowMads, rowMaxs, rowMeans2, rowMedians, rowMins,\n",
       "    rowOrderStats, rowProds, rowQuantiles, rowRanges, rowRanks,\n",
       "    rowSdDiffs, rowSds, rowSums2, rowTabulates, rowVarDiffs, rowVars,\n",
       "    rowWeightedMads, rowWeightedMeans, rowWeightedMedians,\n",
       "    rowWeightedSds, rowWeightedVars\n",
       "\n",
       "Loading required package: Biobase\n",
       "Welcome to Bioconductor\n",
       "\n",
       "    Vignettes contain introductory material; view with\n",
       "    'browseVignettes()'. To cite Bioconductor, see\n",
       "    'citation(\"Biobase\")', and for packages 'citation(\"pkgname\")'.\n",
       "\n",
       "\n",
       "Attaching package: ‘Biobase’\n",
       "\n",
       "The following object is masked from ‘package:MatrixGenerics’:\n",
       "\n",
       "    rowMedians\n",
       "\n",
       "The following objects are masked from ‘package:matrixStats’:\n",
       "\n",
       "    anyMissing, rowMedians\n",
       "\n",
       "\n",
       "Attaching package: ‘magrittr’\n",
       "\n",
       "The following object is masked from ‘package:GenomicRanges’:\n",
       "\n",
       "    subtract\n",
       "\n"
      ]
     },
     "metadata": {},
     "output_type": "display_data"
    }
   ],
   "source": [
    "%%R\n",
    "library(DESeq2)\n",
    "library(magrittr)\n",
    "library(SummarizedExperiment)\n",
    "\n",
    "IN_DIR <- \"/mnt/home/yuankeji/RanceLab/reticula_new/reticula/data/tcdd/learning_curve_analysis/input/\"\n",
    "OUT_DIR <- \"/mnt/home/yuankeji/RanceLab/reticula_new/reticula/data/tcdd/learning_curve_analysis/output/\""
   ]
  },
  {
   "cell_type": "code",
   "execution_count": 3,
   "id": "55f84e1d",
   "metadata": {},
   "outputs": [
    {
     "name": "stdout",
     "output_type": "stream",
     "text": [
      "class: DESeqDataSet \n",
      "dim: 9582 6288 \n",
      "metadata(1): version\n",
      "assays(1): counts\n",
      "rownames(9582): ENSMUSG00000000001 ENSMUSG00000000028 ...\n",
      "  ENSMUSG00000118462 ENSMUSG00000118541\n",
      "rowData names(0):\n",
      "colnames(6288): SRR7072952 SRR6676157 ... SRR5121136 SRR9179022\n",
      "colData names(2): Sample Tissue\n"
     ]
    }
   ],
   "source": [
    "%%R\n",
    "gtex_dds <- readRDS(paste(\"/mnt/home/yuankeji/RanceLab/reticula_new/reticula/data/gtex/output/dds.Rds\", sep=\"\"))\n",
    "print(gtex_dds)"
   ]
  },
  {
   "cell_type": "code",
   "execution_count": 4,
   "id": "a1ada118",
   "metadata": {},
   "outputs": [
    {
     "name": "stdout",
     "output_type": "stream",
     "text": [
      "class: DESeqDataSet \n",
      "dim: 9297 108 \n",
      "metadata(1): version\n",
      "assays(1): counts\n",
      "rownames(9297): ENSMUSG00000000001 ENSMUSG00000000028 ...\n",
      "  ENSMUSG00000118462 ENSMUSG00000118541\n",
      "rowData names(0):\n",
      "colnames(108): SRR7817623 SRR7817626 ... SRR3593573 SRR7817701\n",
      "colData names(2): Sample Dose\n"
     ]
    }
   ],
   "source": [
    "%%R\n",
    "dds <- readRDS(paste(OUT_DIR,\"dds030_time_cross_80.Rds\",sep=\"\"))\n",
    "print(dds)"
   ]
  },
  {
   "cell_type": "code",
   "execution_count": 5,
   "id": "ea64f317",
   "metadata": {},
   "outputs": [
    {
     "name": "stdout",
     "output_type": "stream",
     "text": [
      "class: DESeqTransform \n",
      "dim: 9297 108 \n",
      "metadata(1): version\n",
      "assays(1): ''\n",
      "rownames(9297): ENSMUSG00000000001 ENSMUSG00000000028 ...\n",
      "  ENSMUSG00000118462 ENSMUSG00000118541\n",
      "rowData names(4): baseMean baseVar allZero dispFit\n",
      "colnames(108): SRR7817623 SRR7817626 ... SRR3593573 SRR7817701\n",
      "colData names(3): Sample Dose sizeFactor\n"
     ]
    }
   ],
   "source": [
    "%%R\n",
    "vst.counts <- DESeq2::vst(dds,\n",
    "                          blind = FALSE,\n",
    "                          fitType = \"local\")\n",
    "print(vst.counts)"
   ]
  },
  {
   "cell_type": "code",
   "execution_count": 6,
   "id": "9c0e58ea",
   "metadata": {},
   "outputs": [],
   "source": [
    "%%R\n",
    "saveRDS(vst.counts,\n",
    "        paste(OUT_DIR,\"vst_counts030_time_cross_80.Rds\",sep=\"\"))"
   ]
  },
  {
   "cell_type": "code",
   "execution_count": 7,
   "id": "63acc38d",
   "metadata": {},
   "outputs": [
    {
     "name": "stdout",
     "output_type": "stream",
     "text": [
      "            V1            V2                                   V3\n",
      "1 DDB_G0267374 R-DDI-6809003 https://reactome.org/PathwayBrowser/\n",
      "2 DDB_G0267374  R-DDI-879459 https://reactome.org/PathwayBrowser/\n",
      "3 DDB_G0267374  R-DDI-994148 https://reactome.org/PathwayBrowser/\n",
      "4 DDB_G0267378 R-DDI-1237042 https://reactome.org/PathwayBrowser/\n",
      "5 DDB_G0267378 R-DDI-1247649 https://reactome.org/PathwayBrowser/\n"
     ]
    }
   ],
   "source": [
    "%%R\n",
    "ensembl2rxns.df <- read.table(paste(IN_DIR,\"Ensembl2ReactomeReactions.txt\",sep=\"\"),\n",
    "                              sep=\"\\t\")\n",
    "head(ensembl2rxns.df, n=5)"
   ]
  },
  {
   "cell_type": "code",
   "execution_count": 8,
   "id": "865296b4",
   "metadata": {},
   "outputs": [],
   "source": [
    "%%R\n",
    "reactome_ensembl_ids <- readRDS(paste(OUT_DIR,\"reactome_ensembl_ids030_80.Rds\",sep=\"\"))"
   ]
  },
  {
   "cell_type": "code",
   "execution_count": 9,
   "id": "a93c72ee",
   "metadata": {},
   "outputs": [
    {
     "name": "stdout",
     "output_type": "stream",
     "text": [
      "                  V1           V2                                   V3\n",
      "1 ENSMUSG00000000001 R-MMU-170666 https://reactome.org/PathwayBrowser/\n",
      "2 ENSMUSG00000000001 R-MMU-170671 https://reactome.org/PathwayBrowser/\n",
      "3 ENSMUSG00000000001 R-MMU-170674 https://reactome.org/PathwayBrowser/\n",
      "4 ENSMUSG00000000001 R-MMU-170686 https://reactome.org/PathwayBrowser/\n",
      "5 ENSMUSG00000000001 R-MMU-380073 https://reactome.org/PathwayBrowser/\n",
      "6 ENSMUSG00000000001 R-MMU-392187 https://reactome.org/PathwayBrowser/\n",
      "[1] 81047     3\n"
     ]
    }
   ],
   "source": [
    "%%R\n",
    "rxn2ensembls.nls <- list()\n",
    "rxns_w_tcdd_ensembls.df <- ensembl2rxns.df %>% dplyr::filter(V1 %in% reactome_ensembl_ids)\n",
    "print(head(rxns_w_tcdd_ensembls.df))\n",
    "print(dim(rxns_w_tcdd_ensembls.df))"
   ]
  },
  {
   "cell_type": "code",
   "execution_count": 10,
   "id": "9fc8104f",
   "metadata": {},
   "outputs": [
    {
     "name": "stdout",
     "output_type": "stream",
     "text": [
      "[1] 9825\n"
     ]
    }
   ],
   "source": [
    "%%R\n",
    "rxns_w_tcdd_ensembls.df$V1 <- as.character(rxns_w_tcdd_ensembls.df$V1)\n",
    "rxns_w_tcdd_ensembls.df$V2 <- as.character(rxns_w_tcdd_ensembls.df$V2)\n",
    "\n",
    "\n",
    "for(i in 1:nrow(rxns_w_tcdd_ensembls.df)){\n",
    "  ens_id <- rxns_w_tcdd_ensembls.df$V1[i]\n",
    "  rxn_id <- rxns_w_tcdd_ensembls.df$V2[i]\n",
    "#     print(names(rxn2ensembls.nls))\n",
    "\n",
    "  ensembl_list_for_rxn_id <- rxn2ensembls.nls[[rxn_id]]\n",
    "  if(is.null(ensembl_list_for_rxn_id)){\n",
    "#     print(\"null\")\n",
    "    ensembl_list_for_rxn_id <- c(ens_id)\n",
    "  }\n",
    "  rxn2ensembls.nls[[rxn_id]] <- c(ensembl_list_for_rxn_id,ens_id) %>% unique()\n",
    "}\n",
    "print(length(rxn2ensembls.nls))\n",
    "saveRDS(rxn2ensembls.nls,\n",
    "        paste(OUT_DIR,\"rxn2ensembls_nls030_time_cross_80.Rds\",sep=\"\"))"
   ]
  },
  {
   "cell_type": "code",
   "execution_count": null,
   "id": "c218f1c0",
   "metadata": {},
   "outputs": [],
   "source": []
  },
  {
   "cell_type": "code",
   "execution_count": null,
   "id": "dc43a936",
   "metadata": {},
   "outputs": [],
   "source": []
  }
 ],
 "metadata": {
  "kernelspec": {
   "display_name": "Python 3 (ipykernel)",
   "language": "python",
   "name": "python3"
  },
  "language_info": {
   "codemirror_mode": {
    "name": "ipython",
    "version": 3
   },
   "file_extension": ".py",
   "mimetype": "text/x-python",
   "name": "python",
   "nbconvert_exporter": "python",
   "pygments_lexer": "ipython3",
   "version": "3.11.5"
  }
 },
 "nbformat": 4,
 "nbformat_minor": 5
}
