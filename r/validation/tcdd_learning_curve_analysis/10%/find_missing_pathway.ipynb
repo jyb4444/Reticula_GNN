{
 "cells": [
  {
   "cell_type": "code",
   "execution_count": 1,
   "id": "8cfecf6e",
   "metadata": {},
   "outputs": [],
   "source": [
    "%load_ext rpy2.ipython"
   ]
  },
  {
   "cell_type": "code",
   "execution_count": 2,
   "id": "57cb50c5",
   "metadata": {},
   "outputs": [],
   "source": [
    "%%R\n",
    "tcdd_df <- read.csv(\"/mnt/home/yuankeji/RanceLab/reticula_new/reticula/data/tcdd/learning_curve_analysis/input/node_features030_time_course_10.txt\", sep=\"\")"
   ]
  },
  {
   "cell_type": "code",
   "execution_count": 3,
   "id": "28b0ca94",
   "metadata": {},
   "outputs": [],
   "source": [
    "%%R\n",
    "gtex_df <- read.csv(\"/mnt/home/yuankeji/RanceLab/reticula_new/reticula/data/gtex/input/node_features2.txt\",sep=\"\")"
   ]
  },
  {
   "cell_type": "code",
   "execution_count": 4,
   "id": "bfe16793",
   "metadata": {},
   "outputs": [
    {
     "name": "stdout",
     "output_type": "stream",
     "text": [
      "[1]   12 9825\n",
      "[1] 6288 9844\n"
     ]
    }
   ],
   "source": [
    "%%R\n",
    "print(dim(tcdd_df))\n",
    "print(dim(gtex_df))"
   ]
  },
  {
   "cell_type": "code",
   "execution_count": 5,
   "id": "5df40a95",
   "metadata": {},
   "outputs": [
    {
     "name": "stdout",
     "output_type": "stream",
     "text": [
      " [1] \"R.MMU.1299359\" \"R.MMU.429594\"  \"R.MMU.2465924\" \"R.MMU.9656893\"\n",
      " [5] \"R.MMU.9648949\" \"R.MMU.9648983\" \"R.MMU.9649108\" \"R.MMU.981832\" \n",
      " [9] \"R.MMU.9667756\" \"R.MMU.5619420\" \"R.MMU.9007882\" \"R.MMU.9825608\"\n",
      "[13] \"R.MMU.9825624\" \"R.MMU.6788295\" \"R.MMU.8850794\" \"R.MMU.1482679\"\n",
      "[17] \"R.MMU.1482776\" \"R.MMU.1482907\" \"R.MMU.8862771\"\n"
     ]
    }
   ],
   "source": [
    "%%R\n",
    "missing_in_gtex <- setdiff(names(gtex_df), names(tcdd_df))\n",
    "print(missing_in_gtex)"
   ]
  },
  {
   "cell_type": "code",
   "execution_count": 6,
   "id": "9b4c4dc7",
   "metadata": {},
   "outputs": [],
   "source": [
    "%%R\n",
    "missing_in_gtex_df <- data.frame(missing_pathway = missing_in_gtex)\n",
    "write.table(missing_in_gtex, file = \"/mnt/home/yuankeji/RanceLab/reticula_new/reticula/data/tcdd/learning_curve_analysis/output/missing_columns030_time_course_10.txt\", quote = FALSE, row.names = FALSE, col.names = TRUE)\n"
   ]
  },
  {
   "cell_type": "code",
   "execution_count": null,
   "id": "cd80f85b",
   "metadata": {},
   "outputs": [],
   "source": []
  }
 ],
 "metadata": {
  "kernelspec": {
   "display_name": "Python 3 (ipykernel)",
   "language": "python",
   "name": "python3"
  },
  "language_info": {
   "codemirror_mode": {
    "name": "ipython",
    "version": 3
   },
   "file_extension": ".py",
   "mimetype": "text/x-python",
   "name": "python",
   "nbconvert_exporter": "python",
   "pygments_lexer": "ipython3",
   "version": "3.11.5"
  }
 },
 "nbformat": 4,
 "nbformat_minor": 5
}
