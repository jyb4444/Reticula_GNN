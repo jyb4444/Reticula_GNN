{
 "cells": [
  {
   "cell_type": "code",
   "execution_count": 1,
   "id": "62123ffe",
   "metadata": {},
   "outputs": [],
   "source": [
    "%load_ext rpy2.ipython"
   ]
  },
  {
   "cell_type": "code",
   "execution_count": 2,
   "id": "eed1326e",
   "metadata": {},
   "outputs": [
    {
     "data": {
      "text/plain": [
       "Loading required package: S4Vectors\n",
       "Loading required package: stats4\n",
       "Loading required package: BiocGenerics\n",
       "\n",
       "Attaching package: ‘BiocGenerics’\n",
       "\n",
       "The following objects are masked from ‘package:stats’:\n",
       "\n",
       "    IQR, mad, sd, var, xtabs\n",
       "\n",
       "The following objects are masked from ‘package:base’:\n",
       "\n",
       "    anyDuplicated, aperm, append, as.data.frame, basename, cbind,\n",
       "    colnames, dirname, do.call, duplicated, eval, evalq, Filter, Find,\n",
       "    get, grep, grepl, intersect, is.unsorted, lapply, Map, mapply,\n",
       "    match, mget, order, paste, pmax, pmax.int, pmin, pmin.int,\n",
       "    Position, rank, rbind, Reduce, rownames, sapply, setdiff, sort,\n",
       "    table, tapply, union, unique, unsplit, which.max, which.min\n",
       "\n",
       "\n",
       "Attaching package: ‘S4Vectors’\n",
       "\n",
       "The following object is masked from ‘package:utils’:\n",
       "\n",
       "    findMatches\n",
       "\n",
       "The following objects are masked from ‘package:base’:\n",
       "\n",
       "    expand.grid, I, unname\n",
       "\n",
       "Loading required package: IRanges\n",
       "Loading required package: GenomicRanges\n",
       "Loading required package: GenomeInfoDb\n",
       "Loading required package: SummarizedExperiment\n",
       "Loading required package: MatrixGenerics\n",
       "Loading required package: matrixStats\n",
       "\n",
       "Attaching package: ‘MatrixGenerics’\n",
       "\n",
       "The following objects are masked from ‘package:matrixStats’:\n",
       "\n",
       "    colAlls, colAnyNAs, colAnys, colAvgsPerRowSet, colCollapse,\n",
       "    colCounts, colCummaxs, colCummins, colCumprods, colCumsums,\n",
       "    colDiffs, colIQRDiffs, colIQRs, colLogSumExps, colMadDiffs,\n",
       "    colMads, colMaxs, colMeans2, colMedians, colMins, colOrderStats,\n",
       "    colProds, colQuantiles, colRanges, colRanks, colSdDiffs, colSds,\n",
       "    colSums2, colTabulates, colVarDiffs, colVars, colWeightedMads,\n",
       "    colWeightedMeans, colWeightedMedians, colWeightedSds,\n",
       "    colWeightedVars, rowAlls, rowAnyNAs, rowAnys, rowAvgsPerColSet,\n",
       "    rowCollapse, rowCounts, rowCummaxs, rowCummins, rowCumprods,\n",
       "    rowCumsums, rowDiffs, rowIQRDiffs, rowIQRs, rowLogSumExps,\n",
       "    rowMadDiffs, rowMads, rowMaxs, rowMeans2, rowMedians, rowMins,\n",
       "    rowOrderStats, rowProds, rowQuantiles, rowRanges, rowRanks,\n",
       "    rowSdDiffs, rowSds, rowSums2, rowTabulates, rowVarDiffs, rowVars,\n",
       "    rowWeightedMads, rowWeightedMeans, rowWeightedMedians,\n",
       "    rowWeightedSds, rowWeightedVars\n",
       "\n",
       "Loading required package: Biobase\n",
       "Welcome to Bioconductor\n",
       "\n",
       "    Vignettes contain introductory material; view with\n",
       "    'browseVignettes()'. To cite Bioconductor, see\n",
       "    'citation(\"Biobase\")', and for packages 'citation(\"pkgname\")'.\n",
       "\n",
       "\n",
       "Attaching package: ‘Biobase’\n",
       "\n",
       "The following object is masked from ‘package:MatrixGenerics’:\n",
       "\n",
       "    rowMedians\n",
       "\n",
       "The following objects are masked from ‘package:matrixStats’:\n",
       "\n",
       "    anyMissing, rowMedians\n",
       "\n",
       "\n",
       "Attaching package: ‘magrittr’\n",
       "\n",
       "The following object is masked from ‘package:GenomicRanges’:\n",
       "\n",
       "    subtract\n",
       "\n"
      ]
     },
     "metadata": {},
     "output_type": "display_data"
    }
   ],
   "source": [
    "%%R\n",
    "library(DESeq2)\n",
    "library(magrittr)\n",
    "library(SummarizedExperiment)\n",
    "\n",
    "start_time <- Sys.time()\n",
    "\n",
    "IN_DIR <- \"/mnt/home/yuankeji/RanceLab/reticula_new/reticula/data/tcdd/learning_curve_analysis/input/\"\n",
    "OUT_DIR <- \"/mnt/home/yuankeji/RanceLab/reticula_new/reticula/data/tcdd/learning_curve_analysis/output/\"\n",
    "\n",
    "tcdd.df <- readRDS(paste(OUT_DIR,\"tcdd_df030_time_cross_70.Rds\",sep=\"\"))\n",
    "tcdd.dose.detail.vec <- readRDS(paste(OUT_DIR,\"tcdd_dose_detail_vec030_time_cross_70.Rds\",sep=\"\"))"
   ]
  },
  {
   "cell_type": "code",
   "execution_count": 3,
   "id": "bc97774b",
   "metadata": {},
   "outputs": [],
   "source": [
    "%%R\n",
    "tcdd.df <- tcdd.df + 1\n"
   ]
  },
  {
   "cell_type": "code",
   "execution_count": 4,
   "id": "d221307e",
   "metadata": {},
   "outputs": [
    {
     "name": "stdout",
     "output_type": "stream",
     "text": [
      "class: DESeqDataSet \n",
      "dim: 9297 94 \n",
      "metadata(1): version\n",
      "assays(1): counts\n",
      "rownames(9297): ENSMUSG00000000001 ENSMUSG00000000028 ...\n",
      "  ENSMUSG00000118462 ENSMUSG00000118541\n",
      "rowData names(0):\n",
      "colnames(94): SRR7817613 SRR7817695 ... SRR1636675 SRR7817701\n",
      "colData names(2): Sample Dose\n"
     ]
    },
    {
     "data": {
      "text/plain": [
       "converting counts to integer mode\n",
       "  the design formula contains one or more numeric variables with integer values,\n",
       "  specifying a model with increasing fold change for higher values.\n",
       "  did you mean for this to be a factor? if so, first convert\n",
       "  this variable to a factor using the factor() function\n",
       "  the design formula contains one or more numeric variables that have mean or\n",
       "  standard deviation larger than 5 (an arbitrary threshold to trigger this message).\n",
       "  Including numeric variables with large mean can induce collinearity with the intercept.\n",
       "  Users should center and scale numeric variables in the design to improve GLM convergence.\n"
      ]
     },
     "metadata": {},
     "output_type": "display_data"
    }
   ],
   "source": [
    "%%R\n",
    "dds <- DESeq2::DESeqDataSetFromMatrix(countData = as.matrix(tcdd.df),\n",
    "                                      colData = data.frame(Sample=colnames(tcdd.df),\n",
    "                                                           Dose=tcdd.dose.detail.vec),\n",
    "                                      design = ~ Dose)\n",
    "print(dds)"
   ]
  },
  {
   "cell_type": "code",
   "execution_count": 5,
   "id": "fae5b445",
   "metadata": {},
   "outputs": [],
   "source": [
    "%%R\n",
    "saveRDS(dds,\n",
    "        paste(OUT_DIR,\"dds030_time_cross_70.Rds\",sep=\"\"))"
   ]
  },
  {
   "cell_type": "code",
   "execution_count": 6,
   "id": "3309451f",
   "metadata": {},
   "outputs": [
    {
     "name": "stdout",
     "output_type": "stream",
     "text": [
      "class: DESeqDataSet \n",
      "dim: 9297 94 \n",
      "metadata(1): version\n",
      "assays(1): counts\n",
      "rownames(9297): ENSMUSG00000000001 ENSMUSG00000000028 ...\n",
      "  ENSMUSG00000118462 ENSMUSG00000118541\n",
      "rowData names(0):\n",
      "colnames(94): SRR7817613 SRR7817695 ... SRR1636675 SRR7817701\n",
      "colData names(2): Sample Dose\n"
     ]
    }
   ],
   "source": [
    "%%R\n",
    "print(dds)"
   ]
  },
  {
   "cell_type": "code",
   "execution_count": null,
   "id": "fd1751f5",
   "metadata": {},
   "outputs": [],
   "source": []
  }
 ],
 "metadata": {
  "kernelspec": {
   "display_name": "Python 3 (ipykernel)",
   "language": "python",
   "name": "python3"
  },
  "language_info": {
   "codemirror_mode": {
    "name": "ipython",
    "version": 3
   },
   "file_extension": ".py",
   "mimetype": "text/x-python",
   "name": "python",
   "nbconvert_exporter": "python",
   "pygments_lexer": "ipython3",
   "version": "3.11.5"
  }
 },
 "nbformat": 4,
 "nbformat_minor": 5
}
