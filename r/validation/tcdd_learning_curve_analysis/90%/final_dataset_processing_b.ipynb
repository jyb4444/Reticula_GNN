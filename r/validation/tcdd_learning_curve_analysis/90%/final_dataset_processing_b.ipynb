{
 "cells": [
  {
   "cell_type": "code",
   "execution_count": 1,
   "id": "89a11c26",
   "metadata": {},
   "outputs": [],
   "source": [
    "%load_ext rpy2.ipython"
   ]
  },
  {
   "cell_type": "code",
   "execution_count": 8,
   "id": "1808f0f4",
   "metadata": {
    "scrolled": true
   },
   "outputs": [],
   "source": [
    "%%R\n",
    "library(DESeq2)\n",
    "library(magrittr)\n",
    "library(SummarizedExperiment)\n",
    "\n",
    "start_time <- Sys.time()\n",
    "\n",
    "IN_DIR <- \"/mnt/home/yuankeji/RanceLab/reticula_new/reticula/data/tcdd/learning_curve_analysis/input/\"\n",
    "OUT_DIR <- \"/mnt/home/yuankeji/RanceLab/reticula_new/reticula/data/tcdd/learning_curve_analysis/output/\"\n",
    "\n",
    "tcdd.df <- readRDS(paste(OUT_DIR,\"tcdd_df030_time_cross_90.Rds\",sep=\"\"))\n",
    "tcdd.dose.detail.vec <- readRDS(paste(OUT_DIR,\"tcdd_dose_detail_vec030_time_cross_90.Rds\",sep=\"\"))"
   ]
  },
  {
   "cell_type": "code",
   "execution_count": 11,
   "id": "e8d13d0f",
   "metadata": {},
   "outputs": [],
   "source": [
    "%%R\n",
    "scale.factor <- (.Machine$integer.max - 1) / max(tcdd.df)\n",
    "tcdd.df <- round(tcdd.df * scale.factor)\n",
    "tcdd.df <- tcdd.df + 1"
   ]
  },
  {
   "cell_type": "code",
   "execution_count": 12,
   "id": "28cbac3d",
   "metadata": {},
   "outputs": [
    {
     "name": "stdout",
     "output_type": "stream",
     "text": [
      "class: DESeqDataSet \n",
      "dim: 9297 122 \n",
      "metadata(1): version\n",
      "assays(1): counts\n",
      "rownames(9297): ENSMUSG00000000001 ENSMUSG00000000028 ...\n",
      "  ENSMUSG00000118462 ENSMUSG00000118541\n",
      "rowData names(0):\n",
      "colnames(122): SRR7817613 SRR7817625 ... SRR7817630 SRR7817679\n",
      "colData names(2): Sample Dose\n"
     ]
    },
    {
     "data": {
      "text/plain": [
       "converting counts to integer mode\n",
       "  the design formula contains one or more numeric variables with integer values,\n",
       "  specifying a model with increasing fold change for higher values.\n",
       "  did you mean for this to be a factor? if so, first convert\n",
       "  this variable to a factor using the factor() function\n",
       "  the design formula contains one or more numeric variables that have mean or\n",
       "  standard deviation larger than 5 (an arbitrary threshold to trigger this message).\n",
       "  Including numeric variables with large mean can induce collinearity with the intercept.\n",
       "  Users should center and scale numeric variables in the design to improve GLM convergence.\n"
      ]
     },
     "metadata": {},
     "output_type": "display_data"
    }
   ],
   "source": [
    "%%R\n",
    "dds <- DESeq2::DESeqDataSetFromMatrix(countData = as.matrix(tcdd.df),\n",
    "                                      colData = data.frame(Sample=colnames(tcdd.df),\n",
    "                                                           Dose=tcdd.dose.detail.vec),\n",
    "                                      design = ~ Dose)\n",
    "print(dds)"
   ]
  },
  {
   "cell_type": "code",
   "execution_count": 13,
   "id": "14db2ddc",
   "metadata": {},
   "outputs": [],
   "source": [
    "%%R\n",
    "saveRDS(dds,\n",
    "        paste(OUT_DIR,\"dds030_time_cross_90.Rds\",sep=\"\"))"
   ]
  },
  {
   "cell_type": "code",
   "execution_count": 14,
   "id": "38602ecb",
   "metadata": {},
   "outputs": [
    {
     "name": "stdout",
     "output_type": "stream",
     "text": [
      "class: DESeqDataSet \n",
      "dim: 9297 122 \n",
      "metadata(1): version\n",
      "assays(1): counts\n",
      "rownames(9297): ENSMUSG00000000001 ENSMUSG00000000028 ...\n",
      "  ENSMUSG00000118462 ENSMUSG00000118541\n",
      "rowData names(0):\n",
      "colnames(122): SRR7817613 SRR7817625 ... SRR7817630 SRR7817679\n",
      "colData names(2): Sample Dose\n"
     ]
    }
   ],
   "source": [
    "%%R\n",
    "print(dds)"
   ]
  },
  {
   "cell_type": "code",
   "execution_count": null,
   "id": "6247ed70",
   "metadata": {},
   "outputs": [],
   "source": []
  }
 ],
 "metadata": {
  "kernelspec": {
   "display_name": "Python 3 (ipykernel)",
   "language": "python",
   "name": "python3"
  },
  "language_info": {
   "codemirror_mode": {
    "name": "ipython",
    "version": 3
   },
   "file_extension": ".py",
   "mimetype": "text/x-python",
   "name": "python",
   "nbconvert_exporter": "python",
   "pygments_lexer": "ipython3",
   "version": "3.11.5"
  }
 },
 "nbformat": 4,
 "nbformat_minor": 5
}
