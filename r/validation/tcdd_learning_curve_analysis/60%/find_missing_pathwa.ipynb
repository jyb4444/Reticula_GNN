{
 "cells": [
  {
   "cell_type": "code",
   "execution_count": 3,
   "id": "5eb875ed",
   "metadata": {},
   "outputs": [
    {
     "name": "stdout",
     "output_type": "stream",
     "text": [
      "The rpy2.ipython extension is already loaded. To reload it, use:\n",
      "  %reload_ext rpy2.ipython\n"
     ]
    }
   ],
   "source": [
    "%load_ext rpy2.ipython"
   ]
  },
  {
   "cell_type": "code",
   "execution_count": 19,
   "id": "7d9a871c",
   "metadata": {},
   "outputs": [],
   "source": [
    "%%R\n",
    "tcdd_df <- read.csv(\"/mnt/home/yuankeji/RanceLab/reticula_new/reticula/data/tcdd/learning_curve_analysis/input/node_features030_time_course_60.txt\", sep=\"\")"
   ]
  },
  {
   "cell_type": "code",
   "execution_count": 11,
   "id": "f9ecf5ed",
   "metadata": {},
   "outputs": [],
   "source": [
    "%%R\n",
    "gtex_df <- read.csv(\"/mnt/home/yuankeji/RanceLab/reticula_new/reticula/data/gtex/input/node_features2.txt\",sep=\"\")"
   ]
  },
  {
   "cell_type": "code",
   "execution_count": 20,
   "id": "ddeab8dc",
   "metadata": {},
   "outputs": [
    {
     "name": "stdout",
     "output_type": "stream",
     "text": [
      "The history saving thread hit an unexpected error (OperationalError('database is locked')).History will not be written to the database.\n",
      "[1]   80 9825\n",
      "[1] 6288 9844\n"
     ]
    }
   ],
   "source": [
    "%%R\n",
    "print(dim(tcdd_df))\n",
    "print(dim(gtex_df))"
   ]
  },
  {
   "cell_type": "code",
   "execution_count": 21,
   "id": "3f7e5863",
   "metadata": {},
   "outputs": [
    {
     "name": "stdout",
     "output_type": "stream",
     "text": [
      " [1] \"R.MMU.1299359\" \"R.MMU.429594\"  \"R.MMU.2465924\" \"R.MMU.9656893\"\n",
      " [5] \"R.MMU.9648949\" \"R.MMU.9648983\" \"R.MMU.9649108\" \"R.MMU.981832\" \n",
      " [9] \"R.MMU.9667756\" \"R.MMU.5619420\" \"R.MMU.9007882\" \"R.MMU.9825608\"\n",
      "[13] \"R.MMU.9825624\" \"R.MMU.6788295\" \"R.MMU.8850794\" \"R.MMU.1482679\"\n",
      "[17] \"R.MMU.1482776\" \"R.MMU.1482907\" \"R.MMU.8862771\"\n"
     ]
    }
   ],
   "source": [
    "%%R\n",
    "missing_in_gtex <- setdiff(names(gtex_df), names(tcdd_df))\n",
    "print(missing_in_gtex)"
   ]
  },
  {
   "cell_type": "code",
   "execution_count": 22,
   "id": "0e2d0c6d",
   "metadata": {},
   "outputs": [],
   "source": [
    "%%R\n",
    "missing_in_gtex_df <- data.frame(missing_pathway = missing_in_gtex)\n",
    "write.table(missing_in_gtex, file = \"/mnt/home/yuankeji/RanceLab/reticula_new/reticula/data/tcdd/learning_curve_analysis/output/missing_columns030_time_course_60.txt\", quote = FALSE, row.names = FALSE, col.names = TRUE)\n"
   ]
  },
  {
   "cell_type": "code",
   "execution_count": null,
   "id": "cc749142",
   "metadata": {},
   "outputs": [],
   "source": []
  }
 ],
 "metadata": {
  "kernelspec": {
   "display_name": "Python 3 (ipykernel)",
   "language": "python",
   "name": "python3"
  },
  "language_info": {
   "codemirror_mode": {
    "name": "ipython",
    "version": 3
   },
   "file_extension": ".py",
   "mimetype": "text/x-python",
   "name": "python",
   "nbconvert_exporter": "python",
   "pygments_lexer": "ipython3",
   "version": "3.11.5"
  }
 },
 "nbformat": 4,
 "nbformat_minor": 5
}
