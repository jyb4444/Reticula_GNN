{
 "cells": [
  {
   "cell_type": "code",
   "execution_count": 1,
   "id": "ac3e551f",
   "metadata": {},
   "outputs": [],
   "source": [
    "%load_ext rpy2.ipython"
   ]
  },
  {
   "cell_type": "code",
   "execution_count": 18,
   "id": "568add82",
   "metadata": {},
   "outputs": [],
   "source": [
    "%%R\n",
    "library(mltools)\n",
    "library(data.table)\n",
    "library(dplyr)\n",
    "library(ggplot2)\n",
    "library(ggiraph)\n",
    "library('mclust')\n",
    "\n",
    "IN_DIR <- '/mnt/home/yuankeji/RanceLab/reticula_new/reticula/data/tcdd/output/'\n",
    "OUT_DIR <- '/mnt/home/yuankeji/RanceLab/reticula_new/reticula/data/tcdd/validation/'\n",
    "\n",
    "gnn_data <- read.csv(paste0(IN_DIR, 'predictions2.tsv'), sep = \"\\t\", row.names = NULL)"
   ]
  },
  {
   "cell_type": "code",
   "execution_count": 7,
   "id": "e404e18f",
   "metadata": {},
   "outputs": [
    {
     "name": "stdout",
     "output_type": "stream",
     "text": [
      "'data.frame':\t383 obs. of  15 variables:\n",
      " $ project_ids       : chr  \"SRP161461\" \"SRP161461\" \"SRP161461\" \"SRP161461\" ...\n",
      " $ sample_ids        : chr  \"SRR7817611\" \"SRR7817612\" \"SRR7817614\" \"SRR7817615\" ...\n",
      " $ genders           : chr  \"male\" \"male\" \"male\" \"male\" ...\n",
      " $ doses             : num  0 0 0 0 0 30 30 30 30 30 ...\n",
      " $ target            : int  0 0 0 0 0 1 1 1 1 1 ...\n",
      " $ prediction        : int  0 0 0 0 0 1 1 1 1 1 ...\n",
      " $ confidence_class_0: num  0.812 0.865 0.911 0.826 0.765 ...\n",
      " $ confidence_class_1: num  0.1879 0.1345 0.0885 0.1742 0.2353 ...\n",
      " $ confidence_class_2: num  5.83e-06 1.16e-05 2.54e-06 3.88e-06 9.97e-06 ...\n",
      " $ confidence_class_3: num  7.35e-06 1.52e-05 3.44e-06 4.81e-06 1.39e-05 ...\n",
      " $ confidence_class_4: num  1.12e-05 2.34e-05 5.26e-06 6.87e-06 1.78e-05 ...\n",
      " $ confidence_class_5: num  6.03e-06 1.21e-05 3.16e-06 5.05e-06 1.40e-05 ...\n",
      " $ confidence_class_6: num  5.03e-06 1.09e-05 2.24e-06 3.33e-06 9.95e-06 ...\n",
      " $ confidence_class_7: num  5.18e-06 1.04e-05 2.67e-06 4.17e-06 1.06e-05 ...\n",
      " $ confidence_class_8: num  5.66e-06 1.18e-05 2.78e-06 4.18e-06 1.12e-05 ...\n"
     ]
    }
   ],
   "source": [
    "%%R\n",
    "str(gnn_data)"
   ]
  },
  {
   "cell_type": "code",
   "execution_count": 19,
   "id": "7b6a9ae3",
   "metadata": {},
   "outputs": [
    {
     "name": "stdout",
     "output_type": "stream",
     "text": [
      "[1] \"gnn_ari: 0.434441205432818\"\n"
     ]
    }
   ],
   "source": [
    "%%R\n",
    "gnn_ari <- adjustedRandIndex(gnn_data$target, gnn_data$prediction)\n",
    "print(paste0(\"gnn_ari: \", gnn_ari))"
   ]
  },
  {
   "cell_type": "code",
   "execution_count": 21,
   "id": "54af2fe2",
   "metadata": {},
   "outputs": [
    {
     "name": "stdout",
     "output_type": "stream",
     "text": [
      "  names dose TP  TN FP FN POSITIVES       MCC        TPR         FPR       TNR\n",
      "1  0.00    0 92 211 62 18       110 0.5622124 0.83636364 0.227106227 0.7728938\n",
      "2 30.00    1 91 254 19 19       110 0.7576757 0.82727273 0.069597070 0.9304029\n",
      "3  0.01    2  2 358  2 21        23 0.1902371 0.08695652 0.005555556 0.9944444\n",
      "4  0.03    3  5 355  5 18        23 0.3032008 0.21739130 0.013888889 0.9861111\n",
      "5  0.30    4  3 355  5 20        23 0.1936206 0.13043478 0.013888889 0.9861111\n",
      "6  1.00    5 16 344 13 10        26 0.5505240 0.61538462 0.036414566 0.9635854\n",
      "7  3.00    6 13 346 13 11        24 0.4869838 0.54166667 0.036211699 0.9637883\n",
      "8  0.10    7  7 355  6 15        22 0.3874967 0.31818182 0.016620499 0.9833795\n",
      "9 10.00    8 20 352  9  2        22 0.7776698 0.90909091 0.024930748 0.9750693\n",
      "         FNR Precision     Recall  F1_score\n",
      "1 0.16363636 0.5974026 0.83636364 0.6969697\n",
      "2 0.17272727 0.8272727 0.82727273 0.8272727\n",
      "3 0.91304348 0.5000000 0.08695652 0.1481481\n",
      "4 0.78260870 0.5000000 0.21739130 0.3030303\n",
      "5 0.86956522 0.3750000 0.13043478 0.1935484\n",
      "6 0.38461538 0.5517241 0.61538462 0.5818182\n",
      "7 0.45833333 0.5000000 0.54166667 0.5200000\n",
      "8 0.68181818 0.5384615 0.31818182 0.4000000\n",
      "9 0.09090909 0.6896552 0.90909091 0.7843137\n"
     ]
    }
   ],
   "source": [
    "%%R\n",
    "unique_dose <- unique(c(gnn_data$target, gnn_data$prediction))\n",
    "names <- unique(gnn_data$dose)\n",
    "gnn_results <- data.frame(names = names, dose = unique_dose)\n",
    "\n",
    "gnn_results$TP <- 0\n",
    "gnn_results$TN <- 0\n",
    "gnn_results$FP <- 0\n",
    "gnn_results$FN <- 0\n",
    "\n",
    "for (dose in unique_dose) {\n",
    "  for (i in 1:nrow(gnn_data)) {\n",
    "    if (gnn_data$target[i] == dose) {\n",
    "      if (gnn_data$prediction[i] == dose) {\n",
    "          \n",
    "        gnn_results[gnn_results$dose == dose, \"TP\"] <- gnn_results[gnn_results$dose == dose, \"TP\"] + 1\n",
    "      } else {\n",
    "        gnn_results[gnn_results$dose == dose, \"FN\"] <- gnn_results[gnn_results$dose == dose, \"FN\"] + 1\n",
    "      }\n",
    "    } else {\n",
    "      if (gnn_data$prediction[i] == dose) {\n",
    "        gnn_results[gnn_results$dose == dose, \"FP\"] <- gnn_results[gnn_results$dose == dose, \"FP\"] + 1\n",
    "      } else {\n",
    "        gnn_results[gnn_results$dose == dose, \"TN\"] <- gnn_results[gnn_results$dose == dose, \"TN\"] + 1\n",
    "      }\n",
    "    }\n",
    "  }\n",
    "}\n",
    "\n",
    "gnn_results$POSITIVES <- gnn_results$TP + gnn_results$FN\n",
    "\n",
    "gnn_results$MCC <- (gnn_results$TP * gnn_results$TN - gnn_results$FP * gnn_results$FN) / \n",
    "  sqrt((gnn_results$TP + gnn_results$FP) * (gnn_results$TP + gnn_results$FN) * (gnn_results$TN + gnn_results$FP) * (gnn_results$TN + gnn_results$FN))\n",
    "\n",
    "gnn_results$TPR <- gnn_results$TP / (gnn_results$TP + gnn_results$FN)\n",
    "\n",
    "gnn_results$FPR <- gnn_results$FP / (gnn_results$FP + gnn_results$TN)\n",
    "\n",
    "gnn_results$TNR <- gnn_results$TN / (gnn_results$TN + gnn_results$FP)\n",
    "\n",
    "gnn_results$FNR <- gnn_results$FN / (gnn_results$FN + gnn_results$TP)\n",
    "\n",
    "gnn_results$Precision <- gnn_results$TP / (gnn_results$TP + gnn_results$FP)\n",
    "\n",
    "gnn_results$Recall <- gnn_results$TP / (gnn_results$TP + gnn_results$FN)\n",
    "\n",
    "gnn_results$F1_score <- 2 * (gnn_results$Precision * gnn_results$Recall)/(gnn_results$Precision + gnn_results$Recall)\n",
    "\n",
    "print(gnn_results)\n",
    "\n",
    "write.table(gnn_results, file = paste(OUT_DIR, \"gnn_MCC_Result.txt\"), sep=\"\\t\", row.names = FALSE, quote = FALSE)"
   ]
  },
  {
   "cell_type": "code",
   "execution_count": null,
   "id": "96d91f7b",
   "metadata": {},
   "outputs": [],
   "source": []
  }
 ],
 "metadata": {
  "kernelspec": {
   "display_name": "Python 3 (ipykernel)",
   "language": "python",
   "name": "python3"
  },
  "language_info": {
   "codemirror_mode": {
    "name": "ipython",
    "version": 3
   },
   "file_extension": ".py",
   "mimetype": "text/x-python",
   "name": "python",
   "nbconvert_exporter": "python",
   "pygments_lexer": "ipython3",
   "version": "3.11.5"
  }
 },
 "nbformat": 4,
 "nbformat_minor": 5
}
