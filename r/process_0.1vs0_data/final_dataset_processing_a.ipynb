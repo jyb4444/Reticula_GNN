{
 "cells": [
  {
   "cell_type": "code",
   "execution_count": 1,
   "id": "198f64ef",
   "metadata": {},
   "outputs": [],
   "source": [
    "%load_ext rpy2.ipython"
   ]
  },
  {
   "cell_type": "code",
   "execution_count": 2,
   "id": "ba2c812c",
   "metadata": {},
   "outputs": [
    {
     "data": {
      "text/plain": [
       "Loading required package: S4Vectors\n",
       "Loading required package: stats4\n",
       "Loading required package: BiocGenerics\n",
       "\n",
       "Attaching package: ‘BiocGenerics’\n",
       "\n",
       "The following objects are masked from ‘package:stats’:\n",
       "\n",
       "    IQR, mad, sd, var, xtabs\n",
       "\n",
       "The following objects are masked from ‘package:base’:\n",
       "\n",
       "    anyDuplicated, aperm, append, as.data.frame, basename, cbind,\n",
       "    colnames, dirname, do.call, duplicated, eval, evalq, Filter, Find,\n",
       "    get, grep, grepl, intersect, is.unsorted, lapply, Map, mapply,\n",
       "    match, mget, order, paste, pmax, pmax.int, pmin, pmin.int,\n",
       "    Position, rank, rbind, Reduce, rownames, sapply, setdiff, sort,\n",
       "    table, tapply, union, unique, unsplit, which.max, which.min\n",
       "\n",
       "\n",
       "Attaching package: ‘S4Vectors’\n",
       "\n",
       "The following object is masked from ‘package:utils’:\n",
       "\n",
       "    findMatches\n",
       "\n",
       "The following objects are masked from ‘package:base’:\n",
       "\n",
       "    expand.grid, I, unname\n",
       "\n",
       "Loading required package: IRanges\n",
       "Loading required package: GenomicRanges\n",
       "Loading required package: GenomeInfoDb\n",
       "Loading required package: SummarizedExperiment\n",
       "Loading required package: MatrixGenerics\n",
       "Loading required package: matrixStats\n",
       "\n",
       "Attaching package: ‘MatrixGenerics’\n",
       "\n",
       "The following objects are masked from ‘package:matrixStats’:\n",
       "\n",
       "    colAlls, colAnyNAs, colAnys, colAvgsPerRowSet, colCollapse,\n",
       "    colCounts, colCummaxs, colCummins, colCumprods, colCumsums,\n",
       "    colDiffs, colIQRDiffs, colIQRs, colLogSumExps, colMadDiffs,\n",
       "    colMads, colMaxs, colMeans2, colMedians, colMins, colOrderStats,\n",
       "    colProds, colQuantiles, colRanges, colRanks, colSdDiffs, colSds,\n",
       "    colSums2, colTabulates, colVarDiffs, colVars, colWeightedMads,\n",
       "    colWeightedMeans, colWeightedMedians, colWeightedSds,\n",
       "    colWeightedVars, rowAlls, rowAnyNAs, rowAnys, rowAvgsPerColSet,\n",
       "    rowCollapse, rowCounts, rowCummaxs, rowCummins, rowCumprods,\n",
       "    rowCumsums, rowDiffs, rowIQRDiffs, rowIQRs, rowLogSumExps,\n",
       "    rowMadDiffs, rowMads, rowMaxs, rowMeans2, rowMedians, rowMins,\n",
       "    rowOrderStats, rowProds, rowQuantiles, rowRanges, rowRanks,\n",
       "    rowSdDiffs, rowSds, rowSums2, rowTabulates, rowVarDiffs, rowVars,\n",
       "    rowWeightedMads, rowWeightedMeans, rowWeightedMedians,\n",
       "    rowWeightedSds, rowWeightedVars\n",
       "\n",
       "Loading required package: Biobase\n",
       "Welcome to Bioconductor\n",
       "\n",
       "    Vignettes contain introductory material; view with\n",
       "    'browseVignettes()'. To cite Bioconductor, see\n",
       "    'citation(\"Biobase\")', and for packages 'citation(\"pkgname\")'.\n",
       "\n",
       "\n",
       "Attaching package: ‘Biobase’\n",
       "\n",
       "The following object is masked from ‘package:MatrixGenerics’:\n",
       "\n",
       "    rowMedians\n",
       "\n",
       "The following objects are masked from ‘package:matrixStats’:\n",
       "\n",
       "    anyMissing, rowMedians\n",
       "\n",
       "\n",
       "Attaching package: ‘magrittr’\n",
       "\n",
       "The following object is masked from ‘package:GenomicRanges’:\n",
       "\n",
       "    subtract\n",
       "\n",
       "\n",
       "Attaching package: ‘dplyr’\n",
       "\n",
       "The following object is masked from ‘package:Biobase’:\n",
       "\n",
       "    combine\n",
       "\n",
       "The following object is masked from ‘package:matrixStats’:\n",
       "\n",
       "    count\n",
       "\n",
       "The following objects are masked from ‘package:GenomicRanges’:\n",
       "\n",
       "    intersect, setdiff, union\n",
       "\n",
       "The following object is masked from ‘package:GenomeInfoDb’:\n",
       "\n",
       "    intersect\n",
       "\n",
       "The following objects are masked from ‘package:IRanges’:\n",
       "\n",
       "    collapse, desc, intersect, setdiff, slice, union\n",
       "\n",
       "The following objects are masked from ‘package:S4Vectors’:\n",
       "\n",
       "    first, intersect, rename, setdiff, setequal, union\n",
       "\n",
       "The following objects are masked from ‘package:BiocGenerics’:\n",
       "\n",
       "    combine, intersect, setdiff, union\n",
       "\n",
       "The following objects are masked from ‘package:stats’:\n",
       "\n",
       "    filter, lag\n",
       "\n",
       "The following objects are masked from ‘package:base’:\n",
       "\n",
       "    intersect, setdiff, setequal, union\n",
       "\n"
      ]
     },
     "metadata": {},
     "output_type": "display_data"
    }
   ],
   "source": [
    "%%R\n",
    "library(DESeq2)\n",
    "library(magrittr)\n",
    "library(SummarizedExperiment)\n",
    "library(dplyr)\n",
    "\n",
    "start_time <- Sys.time()\n",
    "\n",
    "IN_DIR <- \"/mnt/home/yuankeji/RanceLab/reticula_new/reticula/data/tcdd/input/\"\n",
    "OUT_DIR <- \"/mnt/home/yuankeji/RanceLab/reticula_new/reticula/data/tcdd/output/\"\n",
    "\n",
    "GTEx_DATA_DIR <- IN_DIR\n",
    "GTEx_DATA_FIL <- \"rse_tcdd_data.Rdata\"\n",
    "\n",
    "ensembl2rxns.df <- read.table(paste(IN_DIR,\"Ensembl2ReactomeReactions.txt\",sep=\"\"),\n",
    "                              sep=\"\\t\")\n",
    "\n",
    "load(paste(GTEx_DATA_DIR,GTEx_DATA_FIL,sep=\"\"))"
   ]
  },
  {
   "cell_type": "code",
   "execution_count": null,
   "id": "435e71e9",
   "metadata": {},
   "outputs": [],
   "source": [
    "%%R\n",
    "\n",
    "variances <- apply(assay(final_result), 1, var)\n",
    "\n",
    "zero_variance_rows <- which(variances == 0)\n",
    "\n",
    "if (length(zero_variance_rows) > 0) {\n",
    "    deleted_data <- assay(final_result)[zero_variance_rows, , drop = FALSE]\n",
    "    save(deleted_data, file=paste0(OUT_DIR, \"deleted_data.RData\"))\n",
    "    new_assays <- assay(final_result)[-zero_variance_rows, , drop = FALSE]\n",
    "    new_row_data <- rowData(final_result)[-zero_variance_rows, , drop = FALSE]\n",
    "\n",
    "    new_final_result <- SummarizedExperiment(\n",
    "        assays = SimpleList(counts = new_assays),\n",
    "        rowData = new_row_data,\n",
    "        colData = colData(final_result)\n",
    "    )\n",
    "    \n",
    "    final_result <- new_final_result\n",
    "    \n",
    "    print(dim(assay(final_result)))\n",
    "    print(dim(rowData(final_result)))\n",
    "} else {\n",
    "    cat(\"No rows with zero variance found.\\n\")\n",
    "}\n",
    "\n",
    "print(head(assay(final_result)))"
   ]
  },
  {
   "cell_type": "code",
   "execution_count": null,
   "id": "56a62b80",
   "metadata": {},
   "outputs": [],
   "source": [
    "%%R\n",
    "library(tibble)\n",
    "\n",
    "keep_samples <- colData(final_result)$dose %in% c(0.00, 0.1)\n",
    "\n",
    "final_result <- final_result[, keep_samples]\n",
    "\n",
    "temp_df <- as_tibble(colData(final_result)) %>%\n",
    "  filter(!grepl(\"SRP131784\", study))\n",
    "\n",
    "tcdd_data <- temp_df\n",
    "final_result <- final_result[, colData(final_result)$external_id %in% temp_df$external_id]\n",
    "\n",
    "print(dim(final_result))\n",
    "print(assay(final_result))\n",
    "print(dim(tcdd_data))\n",
    "print(tcdd_data)"
   ]
  },
  {
   "cell_type": "code",
   "execution_count": null,
   "id": "e8c2c830",
   "metadata": {},
   "outputs": [
    {
     "name": "stdout",
     "output_type": "stream",
     "text": [
      "\n",
      "  0 0.1 \n",
      " 68  22 \n"
     ]
    }
   ],
   "source": [
    "%%R\n",
    "dose_counts <- table(tcdd_data$dose)\n",
    "\n",
    "print(dose_counts)\n",
    "\n",
    "dose_counts_df <- as.data.frame(dose_counts)\n",
    "\n",
    "colnames(dose_counts_df) <- c(\"Dose\", \"Count\")\n",
    "\n",
    "write.csv(dose_counts_df, paste0(OUT_DIR, \"dose_counts0.1vs0_time_cross.csv\"), row.names=FALSE)"
   ]
  },
  {
   "cell_type": "code",
   "execution_count": 6,
   "id": "5d2d12a1",
   "metadata": {},
   "outputs": [
    {
     "name": "stdout",
     "output_type": "stream",
     "text": [
      " [1] \"male\"   \"male\"   \"male\"   \"male\"   \"male\"   \"male\"   \"male\"   \"male\"  \n",
      " [9] \"male\"   \"male\"   \"male\"   \"male\"   \"male\"   \"male\"   \"male\"   \"male\"  \n",
      "[17] \"male\"   \"male\"   \"male\"   \"male\"   \"male\"   \"male\"   \"male\"   \"male\"  \n",
      "[25] \"male\"   \"male\"   \"male\"   \"male\"   \"male\"   \"male\"   \"male\"   \"male\"  \n",
      "[33] \"male\"   \"male\"   \"male\"   \"male\"   \"male\"   \"male\"   \"male\"   \"male\"  \n",
      "[41] \"male\"   \"male\"   \"male\"   \"male\"   \"male\"   \"male\"   \"male\"   \"male\"  \n",
      "[49] \"female\" \"female\" \"female\" \"female\" \"female\" \"female\" \"female\" \"female\"\n",
      "[57] \"female\" \"female\" \"female\" \"female\" \"female\" \"female\" \"female\" \"female\"\n",
      "[65] \"female\" \"female\" \"female\" \"female\" \"female\" \"female\" \"female\" \"female\"\n",
      "[73] \"female\" \"female\" \"female\" \"female\" \"female\" \"female\" \"male\"   \"male\"  \n",
      "[81] \"male\"   \"male\"   \"male\"   \"male\"   \"male\"   \"male\"   \"male\"   \"male\"  \n",
      "[89] \"male\"   \"male\"  \n"
     ]
    }
   ],
   "source": [
    "%%R\n",
    "combined_gender <- ifelse(tcdd_data$Sex != \"\", tcdd_data$Sex, tcdd_data$gender)\n",
    "print(combined_gender)"
   ]
  },
  {
   "cell_type": "code",
   "execution_count": 7,
   "id": "ccfa9644",
   "metadata": {},
   "outputs": [],
   "source": [
    "%%R\n",
    "write.table(tcdd_data$project_id,file=paste(OUT_DIR,\"tcdd_project_id0.1vs0_time_cross.txt\",sep=\"\"), row.names = FALSE, col.names = FALSE, sep = \"\\t\")"
   ]
  },
  {
   "cell_type": "code",
   "execution_count": 8,
   "id": "a64e4bcb",
   "metadata": {},
   "outputs": [],
   "source": [
    "%%R\n",
    "write.table(combined_gender,file=paste(OUT_DIR,\"tcdd_gender0.1vs0_time_cross.txt\",sep=\"\"), row.names = FALSE, col.names = FALSE, sep = \"\\t\")"
   ]
  },
  {
   "cell_type": "code",
   "execution_count": 9,
   "id": "0a36260e",
   "metadata": {},
   "outputs": [],
   "source": [
    "%%R\n",
    "write.table(tcdd_data$external_id,file=paste(OUT_DIR,\"tcdd_sample_id0.1vs0_time_cross.txt\",sep=\"\"), row.names = FALSE, col.names = FALSE, sep = \"\\t\")"
   ]
  },
  {
   "cell_type": "code",
   "execution_count": 10,
   "id": "03ba44dc",
   "metadata": {},
   "outputs": [],
   "source": [
    "%%R\n",
    "write.table(tcdd_data$dose,file=paste(OUT_DIR,\"tcdd_dose0.1vs0_time_cross.txt\",sep=\"\"), row.names = FALSE, col.names = FALSE, sep = \"\\t\")"
   ]
  },
  {
   "cell_type": "code",
   "execution_count": 11,
   "id": "b4c10cba",
   "metadata": {},
   "outputs": [],
   "source": [
    "%%R\n",
    "saveRDS(tcdd_data$dose,file=paste(OUT_DIR,\"tcdd_dose_detail_vec0.1vs0_time_cross.Rds\",sep=\"\"))"
   ]
  },
  {
   "cell_type": "code",
   "execution_count": 12,
   "id": "b68f2960",
   "metadata": {},
   "outputs": [],
   "source": [
    "%%R\n",
    "saveRDS(tcdd_data$external_id,file=paste(OUT_DIR,\"tcdd_sample_detail_vec0.1vs0_time_cross.Rds\",sep=\"\"))"
   ]
  },
  {
   "cell_type": "code",
   "execution_count": 13,
   "id": "a721abc2",
   "metadata": {},
   "outputs": [],
   "source": [
    "%%R\n",
    "tcdd.df <- final_result %>% SummarizedExperiment::assay() %>% as.data.frame()"
   ]
  },
  {
   "cell_type": "code",
   "execution_count": 14,
   "id": "807a25b3",
   "metadata": {},
   "outputs": [],
   "source": [
    "%%R\n",
    "colnames(tcdd.df) <- colData(final_result)$external_id"
   ]
  },
  {
   "cell_type": "code",
   "execution_count": null,
   "id": "5bef88b1",
   "metadata": {},
   "outputs": [],
   "source": [
    "%%R\n",
    "ensembl_wo_ids <- gsub(\"\\\\.[0-9]+\",\"\",rownames(tcdd.df))"
   ]
  },
  {
   "cell_type": "code",
   "execution_count": 16,
   "id": "9d4b06db",
   "metadata": {},
   "outputs": [
    {
     "name": "stdout",
     "output_type": "stream",
     "text": [
      "[1] 12169\n"
     ]
    }
   ],
   "source": [
    "%%R\n",
    "deleted_ensembl_wo_ids <- gsub(\"\\\\.[0-9]+\",\"\",rownames(deleted_data))\n",
    "print(length(deleted_ensembl_wo_ids))"
   ]
  },
  {
   "cell_type": "code",
   "execution_count": null,
   "id": "92ef8176",
   "metadata": {},
   "outputs": [],
   "source": [
    "%%R\n",
    "rownames(tcdd.df) <- ensembl_wo_ids"
   ]
  },
  {
   "cell_type": "code",
   "execution_count": null,
   "id": "4d4e12ac",
   "metadata": {},
   "outputs": [],
   "source": [
    "%%R\n",
    "rownames(deleted_data) <- deleted_ensembl_wo_ids\n",
    "print(rownames(deleted_data))"
   ]
  },
  {
   "cell_type": "code",
   "execution_count": null,
   "id": "c7842254",
   "metadata": {},
   "outputs": [],
   "source": [
    "%%R\n",
    "reactome_ensembl_ids <- intersect(ensembl2rxns.df$V1,ensembl_wo_ids)\n",
    "print(reactome_ensembl_ids)"
   ]
  },
  {
   "cell_type": "code",
   "execution_count": 20,
   "id": "95ffe37e",
   "metadata": {},
   "outputs": [],
   "source": [
    "%%R\n",
    "saveRDS(reactome_ensembl_ids,file=paste(OUT_DIR,\"reactome_ensembl_ids0.1vs0.Rds\",sep=\"\"))"
   ]
  },
  {
   "cell_type": "code",
   "execution_count": null,
   "id": "b337a273",
   "metadata": {},
   "outputs": [],
   "source": [
    "%%R\n",
    "tcdd.df <- tcdd.df[reactome_ensembl_ids,]\n",
    "print(tcdd.df)"
   ]
  },
  {
   "cell_type": "code",
   "execution_count": 22,
   "id": "91bc7a04",
   "metadata": {},
   "outputs": [],
   "source": [
    "%%R\n",
    "saveRDS(tcdd.df,file=paste(OUT_DIR,\"tcdd_df0.1vs0_time_cross.Rds\",sep=\"\"))"
   ]
  },
  {
   "cell_type": "code",
   "execution_count": 23,
   "id": "dbde4790",
   "metadata": {},
   "outputs": [],
   "source": [
    "%%R\n",
    "saveRDS(deleted_data, file=paste(OUT_DIR, \"format_name_deleted_data0.1vs0_time_cross.Rds\", sep=\"\"))"
   ]
  },
  {
   "cell_type": "code",
   "execution_count": null,
   "id": "d3c05302",
   "metadata": {},
   "outputs": [],
   "source": []
  }
 ],
 "metadata": {
  "kernelspec": {
   "display_name": "Python 3 (ipykernel)",
   "language": "python",
   "name": "python3"
  },
  "language_info": {
   "codemirror_mode": {
    "name": "ipython",
    "version": 3
   },
   "file_extension": ".py",
   "mimetype": "text/x-python",
   "name": "python",
   "nbconvert_exporter": "python",
   "pygments_lexer": "ipython3",
   "version": "3.11.5"
  }
 },
 "nbformat": 4,
 "nbformat_minor": 5
}
