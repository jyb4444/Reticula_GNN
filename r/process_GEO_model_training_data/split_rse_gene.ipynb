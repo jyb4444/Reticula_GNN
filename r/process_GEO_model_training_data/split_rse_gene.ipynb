{
 "cells": [
  {
   "cell_type": "code",
   "execution_count": 4,
   "id": "491d3f6d",
   "metadata": {},
   "outputs": [
    {
     "name": "stdout",
     "output_type": "stream",
     "text": [
      "The rpy2.ipython extension is already loaded. To reload it, use:\n",
      "  %reload_ext rpy2.ipython\n"
     ]
    }
   ],
   "source": [
    "%load_ext rpy2.ipython"
   ]
  },
  {
   "cell_type": "code",
   "execution_count": 5,
   "id": "b1eec45a",
   "metadata": {},
   "outputs": [],
   "source": [
    "%%R\n",
    "\n",
    ".libPaths(\"/mnt/gs21/scratch/naultran/Rlocal4.3.2\")\n",
    "library(SummarizedExperiment)\n",
    "load(\"../../outputs/rse_gene.Rdata\")"
   ]
  },
  {
   "cell_type": "code",
   "execution_count": 6,
   "id": "b64365f9",
   "metadata": {},
   "outputs": [
    {
     "name": "stdout",
     "output_type": "stream",
     "text": [
      "class: RangedSummarizedExperiment \n",
      "dim: 55421 7903 \n",
      "metadata(6688): time_created recount3_version ... annotation\n",
      "  recount3_url\n",
      "assays(1): raw_counts\n",
      "rownames(55421): ENSMUSG00000079800.2 ENSMUSG00000095092.1 ...\n",
      "  ENSMUSG00000096850.1 ENSMUSG00000099871.1\n",
      "rowData names(11): source type ... havana_gene tag\n",
      "colnames: NULL\n",
      "colData names(203): external_id rail_id ... genotype project_id\n"
     ]
    }
   ],
   "source": [
    "%%R\n",
    "print(final_result)"
   ]
  },
  {
   "cell_type": "code",
   "execution_count": 10,
   "id": "b3bddd41",
   "metadata": {},
   "outputs": [
    {
     "name": "stdout",
     "output_type": "stream",
     "text": [
      "[1] 7903\n"
     ]
    }
   ],
   "source": [
    "%%R\n",
    "\n",
    "num_samples <- ncol(final_result)\n",
    "print(num_samples)"
   ]
  },
  {
   "cell_type": "code",
   "execution_count": 11,
   "id": "df26400b",
   "metadata": {},
   "outputs": [],
   "source": [
    "%%R\n",
    "set.seed(8888)\n",
    "sample_indices <- sample(seq_len(num_samples))\n",
    "split_index <- floor(0.8 * num_samples)\n",
    "rse_gene_80 <- final_result[, sample_indices[1:split_index]]\n",
    "rse_gene_20 <- final_result[, sample_indices[(split_index + 1):num_samples]]"
   ]
  },
  {
   "cell_type": "code",
   "execution_count": 12,
   "id": "ff9469de",
   "metadata": {},
   "outputs": [
    {
     "name": "stdout",
     "output_type": "stream",
     "text": [
      "[1] \"Data saved. 80% data has 6322 samples.\"\n",
      "[1] \"Data saved. 20% data has 1581 samples.\"\n"
     ]
    }
   ],
   "source": [
    "%%R\n",
    "save(rse_gene_80, file = \"../../outputs/rse_gene_80.Rdata\")\n",
    "save(rse_gene_20, file = \"../../outputs/rse_gene_20.Rdata\")\n",
    "\n",
    "print(paste(\"Data saved. 80% data has\", ncol(rse_gene_80), \"samples.\"))\n",
    "print(paste(\"Data saved. 20% data has\", ncol(rse_gene_20), \"samples.\"))"
   ]
  }
 ],
 "metadata": {
  "kernelspec": {
   "display_name": "Python 3 (ipykernel)",
   "language": "python",
   "name": "python3"
  },
  "language_info": {
   "codemirror_mode": {
    "name": "ipython",
    "version": 3
   },
   "file_extension": ".py",
   "mimetype": "text/x-python",
   "name": "python",
   "nbconvert_exporter": "python",
   "pygments_lexer": "ipython3",
   "version": "3.9.21"
  }
 },
 "nbformat": 4,
 "nbformat_minor": 5
}
