{
 "cells": [
  {
   "cell_type": "code",
   "execution_count": 1,
   "id": "491d3f6d",
   "metadata": {},
   "outputs": [],
   "source": [
    "%load_ext rpy2.ipython"
   ]
  },
  {
   "cell_type": "code",
   "execution_count": 2,
   "id": "b1eec45a",
   "metadata": {},
   "outputs": [
    {
     "data": {
      "text/plain": [
       "Loading required package: MatrixGenerics\n",
       "Loading required package: matrixStats\n",
       "\n",
       "Attaching package: ‘MatrixGenerics’\n",
       "\n",
       "The following objects are masked from ‘package:matrixStats’:\n",
       "\n",
       "    colAlls, colAnyNAs, colAnys, colAvgsPerRowSet, colCollapse,\n",
       "    colCounts, colCummaxs, colCummins, colCumprods, colCumsums,\n",
       "    colDiffs, colIQRDiffs, colIQRs, colLogSumExps, colMadDiffs,\n",
       "    colMads, colMaxs, colMeans2, colMedians, colMins, colOrderStats,\n",
       "    colProds, colQuantiles, colRanges, colRanks, colSdDiffs, colSds,\n",
       "    colSums2, colTabulates, colVarDiffs, colVars, colWeightedMads,\n",
       "    colWeightedMeans, colWeightedMedians, colWeightedSds,\n",
       "    colWeightedVars, rowAlls, rowAnyNAs, rowAnys, rowAvgsPerColSet,\n",
       "    rowCollapse, rowCounts, rowCummaxs, rowCummins, rowCumprods,\n",
       "    rowCumsums, rowDiffs, rowIQRDiffs, rowIQRs, rowLogSumExps,\n",
       "    rowMadDiffs, rowMads, rowMaxs, rowMeans2, rowMedians, rowMins,\n",
       "    rowOrderStats, rowProds, rowQuantiles, rowRanges, rowRanks,\n",
       "    rowSdDiffs, rowSds, rowSums2, rowTabulates, rowVarDiffs, rowVars,\n",
       "    rowWeightedMads, rowWeightedMeans, rowWeightedMedians,\n",
       "    rowWeightedSds, rowWeightedVars\n",
       "\n",
       "Loading required package: GenomicRanges\n",
       "Loading required package: stats4\n",
       "Loading required package: BiocGenerics\n",
       "\n",
       "Attaching package: ‘BiocGenerics’\n",
       "\n",
       "The following objects are masked from ‘package:stats’:\n",
       "\n",
       "    IQR, mad, sd, var, xtabs\n",
       "\n",
       "The following objects are masked from ‘package:base’:\n",
       "\n",
       "    anyDuplicated, aperm, append, as.data.frame, basename, cbind,\n",
       "    colnames, dirname, do.call, duplicated, eval, evalq, Filter, Find,\n",
       "    get, grep, grepl, intersect, is.unsorted, lapply, Map, mapply,\n",
       "    match, mget, order, paste, pmax, pmax.int, pmin, pmin.int,\n",
       "    Position, rank, rbind, Reduce, rownames, sapply, setdiff, sort,\n",
       "    table, tapply, union, unique, unsplit, which.max, which.min\n",
       "\n",
       "Loading required package: S4Vectors\n",
       "\n",
       "Attaching package: ‘S4Vectors’\n",
       "\n",
       "The following object is masked from ‘package:utils’:\n",
       "\n",
       "    findMatches\n",
       "\n",
       "The following objects are masked from ‘package:base’:\n",
       "\n",
       "    expand.grid, I, unname\n",
       "\n",
       "Loading required package: IRanges\n",
       "Loading required package: GenomeInfoDb\n",
       "Loading required package: Biobase\n",
       "Welcome to Bioconductor\n",
       "\n",
       "    Vignettes contain introductory material; view with\n",
       "    'browseVignettes()'. To cite Bioconductor, see\n",
       "    'citation(\"Biobase\")', and for packages 'citation(\"pkgname\")'.\n",
       "\n",
       "\n",
       "Attaching package: ‘Biobase’\n",
       "\n",
       "The following object is masked from ‘package:MatrixGenerics’:\n",
       "\n",
       "    rowMedians\n",
       "\n",
       "The following objects are masked from ‘package:matrixStats’:\n",
       "\n",
       "    anyMissing, rowMedians\n",
       "\n"
      ]
     },
     "metadata": {},
     "output_type": "display_data"
    }
   ],
   "source": [
    "%%R\n",
    "library(SummarizedExperiment)\n",
    "load(\"/mnt/home/yuankeji/RanceLab/reticula_new/reticula/data/GEO_model_training/input/rse_gene.Rdata\")"
   ]
  },
  {
   "cell_type": "code",
   "execution_count": 3,
   "id": "b64365f9",
   "metadata": {},
   "outputs": [
    {
     "name": "stdout",
     "output_type": "stream",
     "text": [
      "class: RangedSummarizedExperiment \n",
      "dim: 55421 7903 \n",
      "metadata(6688): time_created recount3_version ... annotation\n",
      "  recount3_url\n",
      "assays(1): raw_counts\n",
      "rownames(55421): ENSMUSG00000079800.2 ENSMUSG00000095092.1 ...\n",
      "  ENSMUSG00000096850.1 ENSMUSG00000099871.1\n",
      "rowData names(11): source type ... havana_gene tag\n",
      "colnames: NULL\n",
      "colData names(203): external_id rail_id ... genotype project_id\n"
     ]
    }
   ],
   "source": [
    "%%R\n",
    "print(final_result)\n",
    "# head(colData(final_result))\n",
    "# print(colData(final_result)$study)"
   ]
  },
  {
   "cell_type": "code",
   "execution_count": 4,
   "id": "652b41b4",
   "metadata": {},
   "outputs": [
    {
     "name": "stdout",
     "output_type": "stream",
     "text": [
      "class: RangedSummarizedExperiment \n",
      "dim: 55421 7903 \n",
      "metadata(6688): time_created recount3_version ... annotation\n",
      "  recount3_url\n",
      "assays(1): raw_counts\n",
      "rownames(55421): ENSMUSG00000079800.2 ENSMUSG00000095092.1 ...\n",
      "  ENSMUSG00000096850.1 ENSMUSG00000099871.1\n",
      "rowData names(11): source type ... havana_gene tag\n",
      "colnames: NULL\n",
      "colData names(203): external_id rail_id ... genotype project_id\n"
     ]
    },
    {
     "data": {
      "text/plain": [
       "\n",
       "Attaching package: ‘dplyr’\n",
       "\n",
       "The following object is masked from ‘package:Biobase’:\n",
       "\n",
       "    combine\n",
       "\n",
       "The following objects are masked from ‘package:GenomicRanges’:\n",
       "\n",
       "    intersect, setdiff, union\n",
       "\n",
       "The following object is masked from ‘package:GenomeInfoDb’:\n",
       "\n",
       "    intersect\n",
       "\n",
       "The following objects are masked from ‘package:IRanges’:\n",
       "\n",
       "    collapse, desc, intersect, setdiff, slice, union\n",
       "\n",
       "The following objects are masked from ‘package:S4Vectors’:\n",
       "\n",
       "    first, intersect, rename, setdiff, setequal, union\n",
       "\n",
       "The following objects are masked from ‘package:BiocGenerics’:\n",
       "\n",
       "    combine, intersect, setdiff, union\n",
       "\n",
       "The following object is masked from ‘package:matrixStats’:\n",
       "\n",
       "    count\n",
       "\n",
       "The following objects are masked from ‘package:stats’:\n",
       "\n",
       "    filter, lag\n",
       "\n",
       "The following objects are masked from ‘package:base’:\n",
       "\n",
       "    intersect, setdiff, setequal, union\n",
       "\n"
      ]
     },
     "metadata": {},
     "output_type": "display_data"
    }
   ],
   "source": [
    "%%R\n",
    "library(dplyr)\n",
    "project_ids_to_remove <- c(\"ERP004906\", \"SRP007359\", \"SRP007412\", \"SRP015997\", \"SRP017611\", \"SRP018127\", \n",
    "                           \"SRP023485\", \"SRP045495\", \"SRP045501\", \"SRP056576\", \"SRP062636\", \"SRP065878\", \n",
    "                           \"SRP065895\", \"SRP065955\", \"SRP066425\", \"SRP074765\", \"SRP089713\", \"SRP091987\", \n",
    "                           \"SRP097129\", \"SRP102989\", \"SRP104153\", \"SRP110015\", \"SRP115343\", \"SRP117285\", \n",
    "                           \"SRP120583\", \"SRP124265\", \"SRP127250\", \"SRP131055\", \"SRP131855\", \"SRP145002\", \n",
    "                           \"SRP156268\", \"SRP167865\")\n",
    "\n",
    "final_result_filtered <- final_result[, !colData(final_result)$study %in% project_ids_to_remove]\n",
    "print(final_result_filtered)"
   ]
  },
  {
   "cell_type": "code",
   "execution_count": 5,
   "id": "b3bddd41",
   "metadata": {},
   "outputs": [
    {
     "name": "stdout",
     "output_type": "stream",
     "text": [
      "[1] 7903\n"
     ]
    }
   ],
   "source": [
    "%%R\n",
    "num_samples <- ncol(final_result_filtered)\n",
    "print(num_samples)"
   ]
  },
  {
   "cell_type": "code",
   "execution_count": 6,
   "id": "df26400b",
   "metadata": {},
   "outputs": [],
   "source": [
    "%%R\n",
    "set.seed(8888)\n",
    "sample_indices <- sample(seq_len(num_samples))\n",
    "split_index <- floor(0.8 * num_samples)\n",
    "rse_gene_80 <- final_result_filtered[, sample_indices[1:split_index]]\n",
    "rse_gene_20 <- final_result_filtered[, sample_indices[(split_index + 1):num_samples]]"
   ]
  },
  {
   "cell_type": "code",
   "execution_count": 7,
   "id": "ff9469de",
   "metadata": {},
   "outputs": [
    {
     "name": "stdout",
     "output_type": "stream",
     "text": [
      "[1] \"Data saved. 80% data has 6322 samples.\"\n",
      "[1] \"Data saved. 20% data has 1581 samples.\"\n"
     ]
    }
   ],
   "source": [
    "%%R\n",
    "save(rse_gene_80, file = \"/mnt/home/yuankeji/RanceLab/reticula_new/reticula/data/GEO_model_training/input/rse_gene_80.Rdata\")\n",
    "save(rse_gene_20, file = \"/mnt/home/yuankeji/RanceLab/reticula_new/reticula/data/GEO_model_validation/input/rse_gene_20.Rdata\")\n",
    "\n",
    "print(paste(\"Data saved. 80% data has\", ncol(rse_gene_80), \"samples.\"))\n",
    "print(paste(\"Data saved. 20% data has\", ncol(rse_gene_20), \"samples.\"))"
   ]
  },
  {
   "cell_type": "code",
   "execution_count": null,
   "id": "8e42f684",
   "metadata": {},
   "outputs": [],
   "source": []
  }
 ],
 "metadata": {
  "kernelspec": {
   "display_name": "Python 3 (ipykernel)",
   "language": "python",
   "name": "python3"
  },
  "language_info": {
   "codemirror_mode": {
    "name": "ipython",
    "version": 3
   },
   "file_extension": ".py",
   "mimetype": "text/x-python",
   "name": "python",
   "nbconvert_exporter": "python",
   "pygments_lexer": "ipython3",
   "version": "3.11.5"
  }
 },
 "nbformat": 4,
 "nbformat_minor": 5
}
