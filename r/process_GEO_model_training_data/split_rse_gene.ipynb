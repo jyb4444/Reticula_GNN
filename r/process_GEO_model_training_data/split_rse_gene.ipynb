{
 "cells": [
  {
   "cell_type": "code",
   "execution_count": null,
   "id": "491d3f6d",
   "metadata": {},
   "outputs": [],
   "source": [
    "%load_ext rpy2.ipython"
   ]
  },
  {
   "cell_type": "code",
   "execution_count": null,
   "id": "b1eec45a",
   "metadata": {},
   "outputs": [],
   "source": [
    "%%R\n",
    "library(SummarizedExperiment)\n",
    "load(\"/mnt/home/yuankeji/RanceLab/reticula_new/reticula/data/GEO_model_training/input/rse_gene.Rdata\")"
   ]
  },
  {
   "cell_type": "code",
   "execution_count": null,
   "id": "b64365f9",
   "metadata": {},
   "outputs": [],
   "source": [
    "%%R\n",
    "print(final_result)\n",
    "# head(colData(final_result))\n",
    "# print(colData(final_result)$study)"
   ]
  },
  {
   "cell_type": "code",
   "execution_count": null,
   "id": "652b41b4",
   "metadata": {},
   "outputs": [],
   "source": [
    "%%R\n",
    "library(dplyr)\n",
    "project_ids_to_remove <- c(\"ERP004906\", \"SRP007359\", \"SRP007412\", \"SRP015997\", \"SRP017611\", \"SRP018127\", \n",
    "                           \"SRP023485\", \"SRP045495\", \"SRP045501\", \"SRP056576\", \"SRP062636\", \"SRP065878\", \n",
    "                           \"SRP065895\", \"SRP065955\", \"SRP066425\", \"SRP074765\", \"SRP089713\", \"SRP091987\", \n",
    "                           \"SRP097129\", \"SRP102989\", \"SRP104153\", \"SRP110015\", \"SRP115343\", \"SRP117285\", \n",
    "                           \"SRP120583\", \"SRP124265\", \"SRP127250\", \"SRP131055\", \"SRP131855\", \"SRP145002\", \n",
    "                           \"SRP156268\", \"SRP167865\")\n",
    "\n",
    "final_result_filtered <- final_result[, !colData(final_result)$study %in% project_ids_to_remove]\n",
    "print(final_result_filtered)"
   ]
  },
  {
   "cell_type": "code",
   "execution_count": null,
   "id": "b3bddd41",
   "metadata": {},
   "outputs": [],
   "source": [
    "%%R\n",
    "num_samples <- ncol(final_result_filtered)\n",
    "print(num_samples)"
   ]
  },
  {
   "cell_type": "code",
   "execution_count": null,
   "id": "df26400b",
   "metadata": {},
   "outputs": [],
   "source": [
    "%%R\n",
    "set.seed(8888)\n",
    "sample_indices <- sample(seq_len(num_samples))\n",
    "split_index <- floor(0.8 * num_samples)\n",
    "rse_gene_80 <- final_result_filtered[, sample_indices[1:split_index]]\n",
    "rse_gene_20 <- final_result_filtered[, sample_indices[(split_index + 1):num_samples]]"
   ]
  },
  {
   "cell_type": "code",
   "execution_count": null,
   "id": "ff9469de",
   "metadata": {},
   "outputs": [],
   "source": [
    "%%R\n",
    "save(rse_gene_80, file = \"/mnt/home/yuankeji/RanceLab/reticula_new/reticula/data/GEO_model_training/input/rse_gene_80.Rdata\")\n",
    "save(rse_gene_20, file = \"/mnt/home/yuankeji/RanceLab/reticula_new/reticula/data/GEO_model_validation/input/rse_gene_20.Rdata\")\n",
    "\n",
    "print(paste(\"Data saved. 80% data has\", ncol(rse_gene_80), \"samples.\"))\n",
    "print(paste(\"Data saved. 20% data has\", ncol(rse_gene_20), \"samples.\"))"
   ]
  }
 ],
 "metadata": {
  "kernelspec": {
   "display_name": "Python 3 (ipykernel)",
   "language": "python",
   "name": "python3"
  },
  "language_info": {
   "codemirror_mode": {
    "name": "ipython",
    "version": 3
   },
   "file_extension": ".py",
   "mimetype": "text/x-python",
   "name": "python",
   "nbconvert_exporter": "python",
   "pygments_lexer": "ipython3",
   "version": "3.11.5"
  }
 },
 "nbformat": 4,
 "nbformat_minor": 5
}
