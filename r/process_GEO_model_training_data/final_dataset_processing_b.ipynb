{
 "cells": [
  {
   "cell_type": "code",
   "execution_count": null,
   "id": "0516a65e",
   "metadata": {},
   "outputs": [],
   "source": [
    "%load_ext rpy2.ipython"
   ]
  },
  {
   "cell_type": "code",
   "execution_count": null,
   "id": "edf9cfe0",
   "metadata": {},
   "outputs": [],
   "source": [
    "%%R\n",
    "\n",
    "scratch_path <- Sys.getenv(\"SCRATCH\")\n",
    ".libPaths(file.path(scratch_path, \"Rlocal4.3.2\"))"
   ]
  },
  {
   "cell_type": "code",
   "execution_count": null,
   "id": "69a0df2a",
   "metadata": {},
   "outputs": [],
   "source": [
    "%%R\n",
    "library(DESeq2)\n",
    "library(magrittr)\n",
    "library(SummarizedExperiment)\n",
    "\n",
    "IN_DIR <- \"../../inputs/\"\n",
    "OUT_DIR <- \"../../outputs/\"\n",
    "\n",
    "GEO_model_training.df <- readRDS(paste(OUT_DIR,\"GEO_model_training_df.Rds\",sep=\"\"))\n",
    "GEO_model_training.tissue.detail.vec <- readRDS(paste(OUT_DIR,\"GEO_model_training_tissue_detail_vec.Rds\",sep=\"\"))"
   ]
  },
  {
   "cell_type": "code",
   "execution_count": null,
   "id": "27070369",
   "metadata": {},
   "outputs": [],
   "source": [
    "%%R\n",
    "print(GEO_model_training.tissue.detail.vec)"
   ]
  },
  {
   "cell_type": "code",
   "execution_count": null,
   "id": "31014936",
   "metadata": {},
   "outputs": [],
   "source": [
    "%%R\n",
    "scale.factor <- (.Machine$integer.max - 1) / max(GEO_model_training.df)\n",
    "print(scale.factor)"
   ]
  },
  {
   "cell_type": "code",
   "execution_count": null,
   "id": "061a2ef5",
   "metadata": {},
   "outputs": [],
   "source": [
    "%%R\n",
    "GEO_model_training.df <- round(GEO_model_training.df * scale.factor)\n",
    "print(GEO_model_training.df)"
   ]
  },
  {
   "cell_type": "code",
   "execution_count": null,
   "id": "1d69d091",
   "metadata": {},
   "outputs": [],
   "source": [
    "%%R\n",
    "GEO_model_training.df <- GEO_model_training.df + 1\n",
    "print(GEO_model_training.df)"
   ]
  },
  {
   "cell_type": "code",
   "execution_count": null,
   "id": "ae40bfea",
   "metadata": {},
   "outputs": [],
   "source": [
    "%%R\n",
    "dds <- DESeq2::DESeqDataSetFromMatrix(countData = as.matrix(GEO_model_training.df),\n",
    "                                      colData = data.frame(Sample=colnames(GEO_model_training.df),\n",
    "                                                           Tissue=GEO_model_training.tissue.detail.vec),\n",
    "                                      design = ~ Tissue)\n",
    "print(dds)"
   ]
  },
  {
   "cell_type": "code",
   "execution_count": null,
   "id": "699bffe1",
   "metadata": {},
   "outputs": [],
   "source": [
    "%%R\n",
    "saveRDS(dds,\n",
    "        paste(OUT_DIR,\"dds.Rds\",sep=\"\"))"
   ]
  }
 ],
 "metadata": {
  "kernelspec": {
   "display_name": "Python 3 (ipykernel)",
   "language": "python",
   "name": "python3"
  },
  "language_info": {
   "codemirror_mode": {
    "name": "ipython",
    "version": 3
   },
   "file_extension": ".py",
   "mimetype": "text/x-python",
   "name": "python",
   "nbconvert_exporter": "python",
   "pygments_lexer": "ipython3",
   "version": "3.9.21"
  }
 },
 "nbformat": 4,
 "nbformat_minor": 5
}
