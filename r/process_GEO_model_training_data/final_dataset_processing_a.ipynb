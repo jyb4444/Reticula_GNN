{
 "cells": [
  {
   "cell_type": "code",
   "execution_count": null,
   "id": "4e4132fd",
   "metadata": {},
   "outputs": [],
   "source": [
    "%load_ext rpy2.ipython"
   ]
  },
  {
   "cell_type": "code",
   "execution_count": null,
   "id": "1a99f3df",
   "metadata": {},
   "outputs": [],
   "source": [
    "%%R\n",
    "\n",
    "scratch_path <- Sys.getenv(\"SCRATCH\")\n",
    ".libPaths(file.path(scratch_path, \"Rlocal4.3.2\"))"
   ]
  },
  {
   "cell_type": "code",
   "execution_count": null,
   "id": "09ebd207",
   "metadata": {},
   "outputs": [],
   "source": [
    "%%R\n",
    "library(DESeq2)\n",
    "library(magrittr)\n",
    "library(SummarizedExperiment)\n",
    "\n",
    "IN_DIR <- \"../../inputs/\"\n",
    "OUT_DIR <- \"../../outputs/training/\"\n",
    "\n",
    "GEO_model_training_DATA_DIR <- IN_DIR\n",
    "GEO_model_training_DATA_FIL <- \"rse_gene_80.Rdata\"\n",
    "\n",
    "ensembl2rxns.df <- read.table(paste(IN_DIR,\"Ensembl2ReactomeReactions.txt\",sep=\"\"),\n",
    "                              sep=\"\\t\")\n",
    "\n",
    "load(paste(GEO_model_training_DATA_DIR,GEO_model_training_DATA_FIL,sep=\"\"))"
   ]
  },
  {
   "cell_type": "code",
   "execution_count": null,
   "id": "27ed5088",
   "metadata": {},
   "outputs": [],
   "source": [
    "%%R\n",
    "tissue_data <- colData(rse_gene_80)\n",
    "print(tissue_data)"
   ]
  },
  {
   "cell_type": "code",
   "execution_count": null,
   "id": "b0a3adf7",
   "metadata": {},
   "outputs": [],
   "source": [
    "%%R\n",
    "tissue_data <- colData(rse_gene_80)\n",
    "\n",
    "tissue_counts <- table(tissue_data$Major_tissue)\n",
    "\n",
    "tissues_to_remove <- names(tissue_counts[tissue_counts <= 20])\n",
    "\n",
    "rse_gene_80 <- rse_gene_80[, !(tissue_data$Major_tissue %in% c(tissues_to_remove, 'Spleen'))]\n",
    "\n",
    "new_tissue_counts <- table(colData(rse_gene_80)$Major_tissue)\n",
    "print(new_tissue_counts)\n",
    "\n",
    "row_totals <- rowSums(assays(rse_gene_80)$raw_counts)\n",
    "\n",
    "rse_gene_80 <- rse_gene_80[row_totals > 0, ]"
   ]
  },
  {
   "cell_type": "code",
   "execution_count": null,
   "id": "ec7c7be0",
   "metadata": {},
   "outputs": [],
   "source": [
    "%%R\n",
    "new_tissue_counts_df <- as.data.frame(new_tissue_counts)\n",
    "colnames(new_tissue_counts_df) <- c(\"Tissue\", \"Number\")\n",
    "write.csv(new_tissue_counts_df, paste0(OUT_DIR, \"chart/tissue_counts.csv\"), row.names = FALSE)"
   ]
  },
  {
   "cell_type": "code",
   "execution_count": null,
   "id": "05bc34a0",
   "metadata": {},
   "outputs": [],
   "source": [
    "%%R\n",
    "min(rowSums(assays(rse_gene_80)$raw_count))"
   ]
  },
  {
   "cell_type": "code",
   "execution_count": null,
   "id": "88d1d952",
   "metadata": {},
   "outputs": [],
   "source": [
    "%%R\n",
    "GEO_model_training.cols <- rse_gene_80 %>% colData()\n",
    "print(GEO_model_training.cols$Major_tissue)"
   ]
  },
  {
   "cell_type": "code",
   "execution_count": null,
   "id": "5a9fe5a2",
   "metadata": {},
   "outputs": [],
   "source": [
    "%%R\n",
    "saveRDS(GEO_model_training.cols$Major_tissue,file=paste(OUT_DIR,\"GEO_model_training_tissue_detail_vec.Rds\",sep=\"\"))"
   ]
  },
  {
   "cell_type": "code",
   "execution_count": null,
   "id": "a3207753",
   "metadata": {},
   "outputs": [],
   "source": [
    "%%R\n",
    "saveRDS(GEO_model_training.cols$Row.names,file=paste(OUT_DIR,\"GEO_model_training_sample_detail_vec.Rds\",sep=\"\"))"
   ]
  },
  {
   "cell_type": "code",
   "execution_count": null,
   "id": "c59fbce0",
   "metadata": {},
   "outputs": [],
   "source": [
    "%%R\n",
    "GEO_model_training_df_col_data <- colData(rse_gene_80)\n",
    "print(GEO_model_training_df_col_data$external_id)\n",
    "sample_id_list <- GEO_model_training_df_col_data$external_id"
   ]
  },
  {
   "cell_type": "code",
   "execution_count": null,
   "id": "d5da417f",
   "metadata": {},
   "outputs": [],
   "source": [
    "%%R\n",
    "GEO_model_training.df <- rse_gene_80 %>% SummarizedExperiment::assay() %>% as.data.frame()\n",
    "print(GEO_model_training.df)"
   ]
  },
  {
   "cell_type": "code",
   "execution_count": null,
   "id": "91674130",
   "metadata": {},
   "outputs": [],
   "source": [
    "%%R\n",
    "ensembl_wo_ids <- gsub(\"\\\\.[0-9]+\",\"\",rownames(GEO_model_training.df))\n",
    "print(ensembl_wo_ids)"
   ]
  },
  {
   "cell_type": "code",
   "execution_count": null,
   "id": "e1886543",
   "metadata": {},
   "outputs": [],
   "source": [
    "%%R\n",
    "rownames(GEO_model_training.df) <- ensembl_wo_ids\n",
    "print(rownames(GEO_model_training.df))"
   ]
  },
  {
   "cell_type": "code",
   "execution_count": null,
   "id": "a4e58cf0",
   "metadata": {},
   "outputs": [],
   "source": [
    "%%R\n",
    "reactome_ensembl_ids <- intersect(ensembl2rxns.df$V1,ensembl_wo_ids)\n",
    "print(reactome_ensembl_ids)"
   ]
  },
  {
   "cell_type": "code",
   "execution_count": null,
   "id": "9bcc7311",
   "metadata": {},
   "outputs": [],
   "source": [
    "%%R\n",
    "saveRDS(reactome_ensembl_ids,file=paste(OUT_DIR,\"reactome_ensembl_ids.Rds\",sep=\"\"))"
   ]
  },
  {
   "cell_type": "code",
   "execution_count": null,
   "id": "17acb5d9",
   "metadata": {},
   "outputs": [],
   "source": [
    "%%R\n",
    "GEO_model_training.df <- GEO_model_training.df[reactome_ensembl_ids,]\n",
    "print(GEO_model_training.df)"
   ]
  },
  {
   "cell_type": "code",
   "execution_count": null,
   "id": "8521db43",
   "metadata": {},
   "outputs": [],
   "source": [
    "%%R\n",
    "saveRDS(GEO_model_training.df,file=paste(OUT_DIR,\"GEO_model_training_df.Rds\",sep=\"\"))"
   ]
  }
 ],
 "metadata": {
  "kernelspec": {
   "display_name": "Python 3 (ipykernel)",
   "language": "python",
   "name": "python3"
  },
  "language_info": {
   "codemirror_mode": {
    "name": "ipython",
    "version": 3
   },
   "file_extension": ".py",
   "mimetype": "text/x-python",
   "name": "python",
   "nbconvert_exporter": "python",
   "pygments_lexer": "ipython3",
   "version": "3.9.21"
  }
 },
 "nbformat": 4,
 "nbformat_minor": 5
}
