{
 "cells": [
  {
   "cell_type": "code",
   "execution_count": null,
   "id": "5e213d05",
   "metadata": {},
   "outputs": [],
   "source": [
    "%load_ext rpy2.ipython"
   ]
  },
  {
   "cell_type": "code",
   "execution_count": null,
   "id": "dad49778",
   "metadata": {},
   "outputs": [],
   "source": [
    "%%R\n",
    "\n",
    "scratch_path <- Sys.getenv(\"SCRATCH\")\n",
    ".libPaths(file.path(scratch_path, \"Rlocal4.3.2\"))"
   ]
  },
  {
   "cell_type": "code",
   "execution_count": null,
   "id": "a53f7204",
   "metadata": {},
   "outputs": [],
   "source": [
    "%%R\n",
    "\n",
    "library(DESeq2)\n",
    "library(magrittr)\n",
    "library(SummarizedExperiment)\n",
    "\n",
    "IN_DIR <- \"../../inputs/\"\n",
    "OUT_DIR <- \"../../outputs/\""
   ]
  },
  {
   "cell_type": "code",
   "execution_count": null,
   "id": "503686f1",
   "metadata": {},
   "outputs": [],
   "source": [
    "%%R\n",
    "\n",
    "dds <- readRDS(paste(OUT_DIR,\"dds.Rds\",sep=\"\"))\n",
    "print(dds)"
   ]
  },
  {
   "cell_type": "code",
   "execution_count": null,
   "id": "657fddd3",
   "metadata": {},
   "outputs": [],
   "source": [
    "%%R\n",
    "\n",
    "vst.counts <- DESeq2::vst(dds,\n",
    "                          blind = FALSE,\n",
    "                          fitType = \"local\")\n",
    "print(vst.counts)"
   ]
  },
  {
   "cell_type": "code",
   "execution_count": null,
   "id": "02e992fe",
   "metadata": {},
   "outputs": [],
   "source": [
    "%%R\n",
    "\n",
    "print(colData(vst.counts))"
   ]
  },
  {
   "cell_type": "code",
   "execution_count": null,
   "id": "6808c3eb",
   "metadata": {},
   "outputs": [],
   "source": [
    "%%R\n",
    "\n",
    "saveRDS(vst.counts,\n",
    "        paste(OUT_DIR,\"vst_counts.Rds\",sep=\"\"))"
   ]
  },
  {
   "cell_type": "code",
   "execution_count": null,
   "id": "fb8b2c43",
   "metadata": {},
   "outputs": [],
   "source": [
    "%%R\n",
    "\n",
    "ensembl2rxns.df <- read.table(paste(IN_DIR,\"Ensembl2ReactomeReactions.txt\",sep=\"\"),\n",
    "                              sep=\"\\t\")\n",
    "head(ensembl2rxns.df, n=5)"
   ]
  },
  {
   "cell_type": "code",
   "execution_count": null,
   "id": "0ad31693",
   "metadata": {},
   "outputs": [],
   "source": [
    "%%R\n",
    "\n",
    "reactome_ensembl_ids <- readRDS(paste(OUT_DIR,\"reactome_ensembl_ids.Rds\",sep=\"\"))\n",
    "print(reactome_ensembl_ids)"
   ]
  },
  {
   "cell_type": "code",
   "execution_count": null,
   "id": "13ab926b",
   "metadata": {},
   "outputs": [],
   "source": [
    "%%R\n",
    "\n",
    "rxn2ensembls.nls <- list()\n",
    "rxns_w_GEO_model_training_ensembls.df <- ensembl2rxns.df %>% dplyr::filter(V1 %in% reactome_ensembl_ids)\n",
    "print(rxns_w_GEO_model_training_ensembls.df)"
   ]
  },
  {
   "cell_type": "code",
   "execution_count": null,
   "id": "bc5938ca",
   "metadata": {},
   "outputs": [],
   "source": [
    "%%R\n",
    "\n",
    "rxns_w_GEO_model_training_ensembls.df$V1 <- as.character(rxns_w_GEO_model_training_ensembls.df$V1)\n",
    "rxns_w_GEO_model_training_ensembls.df$V2 <- as.character(rxns_w_GEO_model_training_ensembls.df$V2)\n",
    "for(i in 1:nrow(rxns_w_GEO_model_training_ensembls.df)){\n",
    "  ens_id <- rxns_w_GEO_model_training_ensembls.df$V1[i]\n",
    "  rxn_id <- rxns_w_GEO_model_training_ensembls.df$V2[i]\n",
    "  ensembl_list_for_rxn_id <- rxn2ensembls.nls[[rxn_id]]\n",
    "  if(is.null(ensembl_list_for_rxn_id)){\n",
    "    ensembl_list_for_rxn_id <- c(ens_id)\n",
    "  }\n",
    "  rxn2ensembls.nls[[rxn_id]] <- c(ensembl_list_for_rxn_id,ens_id) %>% unique()\n",
    "}\n",
    "saveRDS(rxn2ensembls.nls,\n",
    "        paste(OUT_DIR,\"rxn2ensembls_nls.Rds\",sep=\"\"))"
   ]
  },
  {
   "cell_type": "code",
   "execution_count": null,
   "id": "d4939dfd",
   "metadata": {},
   "outputs": [],
   "source": [
    "%%R\n",
    "length(rxn2ensembls.nls)"
   ]
  }
 ],
 "metadata": {
  "kernelspec": {
   "display_name": "Python 3 (ipykernel)",
   "language": "python",
   "name": "python3"
  },
  "language_info": {
   "codemirror_mode": {
    "name": "ipython",
    "version": 3
   },
   "file_extension": ".py",
   "mimetype": "text/x-python",
   "name": "python",
   "nbconvert_exporter": "python",
   "pygments_lexer": "ipython3",
   "version": "3.9.21"
  }
 },
 "nbformat": 4,
 "nbformat_minor": 5
}
