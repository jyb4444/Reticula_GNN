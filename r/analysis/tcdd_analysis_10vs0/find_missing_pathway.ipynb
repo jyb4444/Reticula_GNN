{
 "cells": [
  {
   "cell_type": "code",
   "execution_count": 6,
   "id": "5cb01f88",
   "metadata": {},
   "outputs": [
    {
     "name": "stdout",
     "output_type": "stream",
     "text": [
      "The rpy2.ipython extension is already loaded. To reload it, use:\n",
      "  %reload_ext rpy2.ipython\n"
     ]
    }
   ],
   "source": [
    "%load_ext rpy2.ipython"
   ]
  },
  {
   "cell_type": "code",
   "execution_count": 7,
   "id": "96684d27",
   "metadata": {},
   "outputs": [],
   "source": [
    "%%R\n",
    "tcdd_df <- read.csv(\"/mnt/home/yuankeji/RanceLab/reticula_new/reticula/data/tcdd/input/node_features10vs0_time_course.txt\", sep=\"\")"
   ]
  },
  {
   "cell_type": "code",
   "execution_count": 8,
   "id": "f29bec21",
   "metadata": {},
   "outputs": [],
   "source": [
    "%%R\n",
    "gtex_df <- read.csv(\"/mnt/home/yuankeji/RanceLab/reticula_new/reticula/data/gtex/input/node_features2.txt\",sep=\"\")"
   ]
  },
  {
   "cell_type": "code",
   "execution_count": 9,
   "id": "d04061b0",
   "metadata": {},
   "outputs": [
    {
     "name": "stdout",
     "output_type": "stream",
     "text": [
      " [1] \"R.MMU.1299359\" \"R.MMU.429594\"  \"R.MMU.2465924\" \"R.MMU.9656893\"\n",
      " [5] \"R.MMU.9648949\" \"R.MMU.9648983\" \"R.MMU.9649108\" \"R.MMU.981832\" \n",
      " [9] \"R.MMU.9667756\" \"R.MMU.5619420\" \"R.MMU.9007882\" \"R.MMU.9825608\"\n",
      "[13] \"R.MMU.9825624\" \"R.MMU.6788295\" \"R.MMU.8850794\" \"R.MMU.1482679\"\n",
      "[17] \"R.MMU.1482776\" \"R.MMU.1482907\" \"R.MMU.8862771\"\n"
     ]
    }
   ],
   "source": [
    "%%R\n",
    "missing_in_gtex <- setdiff(names(gtex_df), names(tcdd_df))\n",
    "print(missing_in_gtex)"
   ]
  },
  {
   "cell_type": "code",
   "execution_count": 10,
   "id": "aff77c15",
   "metadata": {},
   "outputs": [],
   "source": [
    "%%R\n",
    "missing_in_gtex_df <- data.frame(missing_pathway = missing_in_gtex)\n",
    "write.table(missing_in_gtex, file = \"/mnt/home/yuankeji/RanceLab/reticula_new/reticula/data/tcdd/output/missing_columns10vs0_time_course.txt\", quote = FALSE, row.names = FALSE, col.names = TRUE)\n"
   ]
  },
  {
   "cell_type": "code",
   "execution_count": null,
   "id": "60286540",
   "metadata": {},
   "outputs": [],
   "source": []
  }
 ],
 "metadata": {
  "kernelspec": {
   "display_name": "Python 3 (ipykernel)",
   "language": "python",
   "name": "python3"
  },
  "language_info": {
   "codemirror_mode": {
    "name": "ipython",
    "version": 3
   },
   "file_extension": ".py",
   "mimetype": "text/x-python",
   "name": "python",
   "nbconvert_exporter": "python",
   "pygments_lexer": "ipython3",
   "version": "3.11.5"
  }
 },
 "nbformat": 4,
 "nbformat_minor": 5
}
