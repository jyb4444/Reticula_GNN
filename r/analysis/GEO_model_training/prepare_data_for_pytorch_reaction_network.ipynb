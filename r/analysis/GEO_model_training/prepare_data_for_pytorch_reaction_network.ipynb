{
 "cells": [
  {
   "cell_type": "code",
   "execution_count": null,
   "id": "934fea1e",
   "metadata": {},
   "outputs": [],
   "source": [
    "%load_ext rpy2.ipython"
   ]
  },
  {
   "cell_type": "code",
   "execution_count": null,
   "id": "8ef7b99b",
   "metadata": {},
   "outputs": [],
   "source": [
    "%%R\n",
    "\n",
    "scratch_path <- Sys.getenv(\"SCRATCH\")\n",
    ".libPaths(file.path(scratch_path, \"Rlocal4.3.2\"))"
   ]
  },
  {
   "cell_type": "code",
   "execution_count": null,
   "id": "3d7f1d79",
   "metadata": {},
   "outputs": [],
   "source": [
    "%%R\n",
    "\n",
    "library(magrittr)\n",
    "OUT_DIR <- \"../../../outputs/training/\"\n",
    "IN_DIR <- \"../../../inputs/\"\n",
    "\n",
    "X <- readRDS(paste(OUT_DIR, \"rxn_pca_nls.Rds\", sep = \"\"))\n",
    "Y <- readRDS(paste(OUT_DIR,\"GEO_model_training_tissue_detail_vec_train.Rds\",sep=\"\"))\n",
    "E <- read.table(paste(IN_DIR,\"ReactionNetwork_Rel.txt\",sep=\"\"))"
   ]
  },
  {
   "cell_type": "code",
   "execution_count": null,
   "id": "bf201283",
   "metadata": {},
   "outputs": [],
   "source": [
    "%%R\n",
    "rxn2nodeLabel.nls <- list()\n",
    "nodeLabel2rxn.nls <- list()\n",
    "for(i in 1:length(X)){\n",
    "  rxn2nodeLabel.nls[[names(X)[i]]] <- i\n",
    "  nodeLabel2rxn.nls[[i]] <- names(X)[i]\n",
    "}"
   ]
  },
  {
   "cell_type": "code",
   "execution_count": null,
   "id": "1b1ef297",
   "metadata": {},
   "outputs": [],
   "source": [
    "%%R\n",
    "E <- E %>%\n",
    "  dplyr::filter(V1 %in% names(rxn2nodeLabel.nls))\n",
    "head(E)"
   ]
  },
  {
   "cell_type": "code",
   "execution_count": null,
   "id": "bb1b70ca",
   "metadata": {},
   "outputs": [],
   "source": [
    "%%R\n",
    "E <- E %>%\n",
    "  dplyr::filter(V3 %in% names(rxn2nodeLabel.nls))\n",
    "head(E)"
   ]
  },
  {
   "cell_type": "code",
   "execution_count": null,
   "id": "b8c4cbaa",
   "metadata": {},
   "outputs": [],
   "source": [
    "%%R\n",
    "E <- E %>%\n",
    "  dplyr::filter(V1 %in% names(rxn2nodeLabel.nls)) %>%\n",
    "  dplyr::filter(V3 %in% names(rxn2nodeLabel.nls)) %>%\n",
    "  dplyr::select(V1,V3)"
   ]
  },
  {
   "cell_type": "code",
   "execution_count": null,
   "id": "47660fb4",
   "metadata": {},
   "outputs": [],
   "source": [
    "%%R\n",
    "write.table(E,\n",
    "            file=paste(IN_DIR,\"edgeLabels.csv\",sep=\"\"),\n",
    "            row.names = FALSE,\n",
    "            col.names = FALSE)"
   ]
  },
  {
   "cell_type": "code",
   "execution_count": null,
   "id": "975b9cb8",
   "metadata": {},
   "outputs": [],
   "source": [
    "%%R\n",
    "node1 <- numeric()\n",
    "node2 <- numeric()\n",
    "for(i in 1:nrow(E)){\n",
    "  node1 <- c(node1,rxn2nodeLabel.nls[[as.character(E$V1[i])]])\n",
    "  node2 <- c(node2,rxn2nodeLabel.nls[[as.character(E$V3[i])]])\n",
    "}"
   ]
  },
  {
   "cell_type": "code",
   "execution_count": null,
   "id": "2e129276",
   "metadata": {},
   "outputs": [],
   "source": [
    "%%R\n",
    "z <- unlist(rxn2nodeLabel.nls)\n",
    "y <- unlist(nodeLabel2rxn.nls)\n",
    "assertthat::are_equal(length(z),length(y))\n",
    "head(z)"
   ]
  },
  {
   "cell_type": "code",
   "execution_count": null,
   "id": "8cd390d3",
   "metadata": {},
   "outputs": [],
   "source": [
    "%%R\n",
    "write.table(z,\n",
    "            file=paste(IN_DIR,\"rxn2nodeLabel_nls.csv\",sep=\"\"),\n",
    "            row.names = TRUE,\n",
    "            col.names = FALSE)\n",
    "write.table(y,\n",
    "            file=paste(IN_DIR,\"nodeLabel2rxn_nls.csv\",sep=\"\"),\n",
    "            row.names = TRUE,\n",
    "            col.names = FALSE)\n"
   ]
  },
  {
   "cell_type": "code",
   "execution_count": null,
   "id": "15e29d80",
   "metadata": {},
   "outputs": [],
   "source": [
    "%%R\n",
    "E <- data.frame(node1 = node1,\n",
    "                node2 = node2)\n",
    "\n",
    "X <- as.data.frame(X)\n",
    "\n",
    "Y <- as.data.frame(Y)"
   ]
  },
  {
   "cell_type": "code",
   "execution_count": null,
   "id": "4320bbce",
   "metadata": {},
   "outputs": [],
   "source": [
    "%%R\n",
    "write.table(E,\n",
    "          file=paste(IN_DIR,\"edges.txt\",sep=\"\"),\n",
    "          row.names = FALSE,\n",
    "          col.names = FALSE)\n",
    "write.table(X,\n",
    "          file=paste(IN_DIR,\"node_features.txt\",sep=\"\"),\n",
    "          row.names = FALSE,\n",
    "          col.names = FALSE)\n",
    "write.table(Y,\n",
    "          file=paste(IN_DIR,\"graph_targets.txt\",sep=\"\"),\n",
    "          row.names = FALSE,\n",
    "          col.names = FALSE)"
   ]
  },
  {
   "cell_type": "code",
   "execution_count": null,
   "id": "b7e4fbc6",
   "metadata": {},
   "outputs": [],
   "source": [
    "%%R\n",
    "write.table(X,\n",
    "          file=paste(IN_DIR,\"node_features2.txt\",sep=\"\"),\n",
    "          row.names = TRUE,\n",
    "          col.names = TRUE)"
   ]
  }
 ],
 "metadata": {
  "kernelspec": {
   "display_name": "Python 3 (ipykernel)",
   "language": "python",
   "name": "python3"
  },
  "language_info": {
   "codemirror_mode": {
    "name": "ipython",
    "version": 3
   },
   "file_extension": ".py",
   "mimetype": "text/x-python",
   "name": "python",
   "nbconvert_exporter": "python",
   "pygments_lexer": "ipython3",
   "version": "3.9.21"
  }
 },
 "nbformat": 4,
 "nbformat_minor": 5
}
