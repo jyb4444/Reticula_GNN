{
 "cells": [
  {
   "cell_type": "code",
   "execution_count": 1,
   "id": "f3d09582",
   "metadata": {},
   "outputs": [],
   "source": [
    "%load_ext rpy2.ipython"
   ]
  },
  {
   "cell_type": "code",
   "execution_count": 2,
   "id": "56bb073e",
   "metadata": {},
   "outputs": [],
   "source": [
    "%%R\n",
    "OUT_DIR <- \"/mnt/home/yuankeji/RanceLab/reticula_new/reticula/data/GEO_model_training/output/\"\n",
    "IN_DIR <- \"/mnt/home/yuankeji/RanceLab/reticula_new/reticula/data/GEO_model_training/input/\""
   ]
  },
  {
   "cell_type": "code",
   "execution_count": 3,
   "id": "c0f3781d",
   "metadata": {},
   "outputs": [],
   "source": [
    "%%R\n",
    "X <- readRDS(paste(OUT_DIR, \"rxn_pca_nls.Rds\", sep = \"\"))\n",
    "Y <- readRDS(paste(OUT_DIR,\"GEO_model_training_tissue_detail_vec_train.Rds\",sep=\"\"))\n",
    "\n",
    "X <- as.data.frame(X)\n",
    "\n",
    "Y <- as.data.frame(Y)"
   ]
  },
  {
   "cell_type": "code",
   "execution_count": 4,
   "id": "23c920a0",
   "metadata": {},
   "outputs": [
    {
     "name": "stdout",
     "output_type": "stream",
     "text": [
      "[1] 26\n",
      "[1] 7856\n"
     ]
    }
   ],
   "source": [
    "%%R\n",
    "print(length(unique(Y$Y)))\n",
    "print(length(X))"
   ]
  },
  {
   "cell_type": "code",
   "execution_count": 6,
   "id": "46ad65b3",
   "metadata": {},
   "outputs": [
    {
     "name": "stdout",
     "output_type": "stream",
     "text": [
      "[1] 6288\n",
      "[1] 7856\n"
     ]
    }
   ],
   "source": [
    "%%R\n",
    "print(length(Y$Y))\n",
    "print(length(X))"
   ]
  },
  {
   "cell_type": "code",
   "execution_count": 7,
   "id": "14f50534",
   "metadata": {},
   "outputs": [],
   "source": [
    "%%R\n",
    "write.table(X,\n",
    "          file=paste(\"/mnt/home/yuankeji/RanceLab/reticula_new/reticula/data/GEO_model_training/input/resnet_node_features.txt\",sep=\"\"),\n",
    "          row.names = FALSE,\n",
    "          col.names = FALSE)\n",
    "write.table(Y,\n",
    "          file=paste(IN_DIR,\"resnet_graph_targets.txt\",sep=\"\"),\n",
    "          row.names = FALSE,\n",
    "          col.names = FALSE)"
   ]
  },
  {
   "cell_type": "code",
   "execution_count": null,
   "id": "289ba696",
   "metadata": {},
   "outputs": [],
   "source": []
  }
 ],
 "metadata": {
  "kernelspec": {
   "display_name": "Python 3 (ipykernel)",
   "language": "python",
   "name": "python3"
  },
  "language_info": {
   "codemirror_mode": {
    "name": "ipython",
    "version": 3
   },
   "file_extension": ".py",
   "mimetype": "text/x-python",
   "name": "python",
   "nbconvert_exporter": "python",
   "pygments_lexer": "ipython3",
   "version": "3.11.5"
  }
 },
 "nbformat": 4,
 "nbformat_minor": 5
}
