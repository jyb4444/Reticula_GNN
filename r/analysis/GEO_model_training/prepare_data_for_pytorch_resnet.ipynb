{
 "cells": [
  {
   "cell_type": "code",
   "execution_count": 1,
   "id": "f3d09582",
   "metadata": {},
   "outputs": [],
   "source": [
    "%load_ext rpy2.ipython"
   ]
  },
  {
   "cell_type": "code",
   "execution_count": 2,
   "id": "a4e4cc5d",
   "metadata": {},
   "outputs": [],
   "source": [
    "%%R\n",
    "\n",
    "scratch_path <- Sys.getenv(\"SCRATCH\")\n",
    ".libPaths(file.path(scratch_path, \"Rlocal4.3.2\"))"
   ]
  },
  {
   "cell_type": "code",
   "execution_count": 3,
   "id": "56bb073e",
   "metadata": {},
   "outputs": [],
   "source": [
    "%%R\n",
    "\n",
    "OUT_DIR <- \"../../../outputs/training/\"\n",
    "IN_DIR <- \"../../../inputs/\""
   ]
  },
  {
   "cell_type": "code",
   "execution_count": 4,
   "id": "c0f3781d",
   "metadata": {},
   "outputs": [],
   "source": [
    "%%R\n",
    "X <- readRDS(paste(OUT_DIR, \"rxn_pca_nls.Rds\", sep = \"\"))\n",
    "Y <- readRDS(paste(OUT_DIR,\"GEO_model_training_tissue_detail_vec_train.Rds\",sep=\"\"))\n",
    "\n",
    "X <- as.data.frame(X)\n",
    "\n",
    "Y <- as.data.frame(Y)"
   ]
  },
  {
   "cell_type": "code",
   "execution_count": 5,
   "id": "14f50534",
   "metadata": {},
   "outputs": [],
   "source": [
    "%%R\n",
    "write.table(X,\n",
    "          file=paste(IN_DIR, \"resnet_node_features.txt\", sep=\"\"),\n",
    "          row.names = FALSE,\n",
    "          col.names = FALSE)\n",
    "write.table(Y,\n",
    "          file=paste(IN_DIR,\"resnet_graph_targets.txt\", sep=\"\"),\n",
    "          row.names = FALSE,\n",
    "          col.names = FALSE)"
   ]
  }
 ],
 "metadata": {
  "kernelspec": {
   "display_name": "Python 3 (ipykernel)",
   "language": "python",
   "name": "python3"
  },
  "language_info": {
   "codemirror_mode": {
    "name": "ipython",
    "version": 3
   },
   "file_extension": ".py",
   "mimetype": "text/x-python",
   "name": "python",
   "nbconvert_exporter": "python",
   "pygments_lexer": "ipython3",
   "version": "3.9.21"
  }
 },
 "nbformat": 4,
 "nbformat_minor": 5
}
