{
 "cells": [
  {
   "cell_type": "code",
   "execution_count": null,
   "id": "1eb6ce01",
   "metadata": {},
   "outputs": [],
   "source": [
    "%load_ext rpy2.ipython"
   ]
  },
  {
   "cell_type": "code",
   "execution_count": null,
   "id": "f95a28dd",
   "metadata": {},
   "outputs": [],
   "source": [
    "%%R\n",
    "\n",
    "scratch_path <- Sys.getenv(\"SCRATCH\")\n",
    ".libPaths(file.path(scratch_path, \"Rlocal4.3.2\"))"
   ]
  },
  {
   "cell_type": "code",
   "execution_count": null,
   "id": "e34b4559",
   "metadata": {},
   "outputs": [],
   "source": [
    "%%R\n",
    "set.seed(88888888) # maximum luck\n",
    "\n",
    "library(DESeq2)\n",
    "library(plotly)\n",
    "library(ggplot2)\n",
    "library(viridis)\n",
    "library(magrittr)\n",
    "library(pheatmap)\n",
    "library(DescTools)\n",
    "library(pdfCluster)\n",
    "library(RColorBrewer)\n",
    "library(SummarizedExperiment)\n",
    "library(caret)\n",
    "library(class)\n",
    "library(htmlwidgets)"
   ]
  },
  {
   "cell_type": "code",
   "execution_count": null,
   "id": "56f6da82",
   "metadata": {},
   "outputs": [],
   "source": [
    "%%R\n",
    "OUT_DIR <- \"../../../outputs/training/\"\n",
    "N_FOLDS <- 10"
   ]
  },
  {
   "cell_type": "code",
   "execution_count": null,
   "id": "f66b9eee",
   "metadata": {},
   "outputs": [],
   "source": [
    "%%R\n",
    "vst.counts <- readRDS(paste(OUT_DIR, \"vst_counts.Rds\", sep = \"\"))\n",
    "print(vst.counts)"
   ]
  },
  {
   "cell_type": "code",
   "execution_count": null,
   "id": "d06a848d",
   "metadata": {},
   "outputs": [],
   "source": [
    "%%R\n",
    "sample <- colData(vst.counts)\n",
    "print(sample)"
   ]
  },
  {
   "cell_type": "code",
   "execution_count": null,
   "id": "f4382353",
   "metadata": {},
   "outputs": [],
   "source": [
    "%%R\n",
    "vst.count.mtx <-\n",
    "   vst.counts %>% SummarizedExperiment::assay() %>% as.data.frame()\n",
    "print(vst.count.mtx)"
   ]
  },
  {
   "cell_type": "code",
   "execution_count": null,
   "id": "6798362d",
   "metadata": {},
   "outputs": [],
   "source": [
    "%%R\n",
    "GEO_model_training_tissue_detail.vec <-\n",
    "   readRDS(paste(OUT_DIR, \"GEO_model_training_tissue_detail_vec.Rds\", sep = \"\"))\n",
    "print(GEO_model_training_tissue_detail.vec)"
   ]
  },
  {
   "cell_type": "code",
   "execution_count": null,
   "id": "f51a45c4",
   "metadata": {},
   "outputs": [],
   "source": [
    "%%R\n",
    "rxn2ensembls.nls <-\n",
    "   readRDS(paste(OUT_DIR, \"rxn2ensembls_nls.Rds\", sep = \"\"))\n",
    "print(rxn2ensembls.nls)"
   ]
  },
  {
   "cell_type": "code",
   "execution_count": null,
   "id": "9719f7b9",
   "metadata": {},
   "outputs": [],
   "source": [
    "%%R\n",
    "rxns <- rxn2ensembls.nls %>% names()\n",
    "print(rxns)"
   ]
  },
  {
   "cell_type": "code",
   "execution_count": null,
   "id": "87cdccd2",
   "metadata": {},
   "outputs": [],
   "source": [
    "%%R\n",
    "rxn_knn_misclass_rate.nls <- list()\n",
    "rxn_knn_ari.nls <- list()\n",
    "rxn_knn_ecount.nls <- list()\n",
    "rxn_pca.nls <- list()\n",
    "count <- 0"
   ]
  },
  {
   "cell_type": "code",
   "execution_count": null,
   "id": "fd6ceb54",
   "metadata": {},
   "outputs": [],
   "source": [
    "%%R\n",
    "toi_indices <- seq(1,length(GEO_model_training_tissue_detail.vec))\n",
    "print(toi_indices)"
   ]
  },
  {
   "cell_type": "code",
   "execution_count": null,
   "id": "ca73b244",
   "metadata": {},
   "outputs": [],
   "source": [
    "%%R\n",
    "GEO_model_training_tissue_detail_vec_tis_of_interest <-\n",
    "   GEO_model_training_tissue_detail.vec[toi_indices]\n",
    "print(GEO_model_training_tissue_detail_vec_tis_of_interest)"
   ]
  },
  {
   "cell_type": "code",
   "execution_count": null,
   "id": "df5d069d",
   "metadata": {},
   "outputs": [],
   "source": [
    "%%R\n",
    "vst.count.mtx.tis_of_interest <- vst.count.mtx[, toi_indices]\n",
    "print(vst.count.mtx.tis_of_interest)"
   ]
  },
  {
   "cell_type": "code",
   "execution_count": null,
   "id": "e11c3f1d",
   "metadata": {},
   "outputs": [],
   "source": [
    "%%R\n",
    "training_indices <-\n",
    "   caret::createDataPartition(\n",
    "      GEO_model_training_tissue_detail_vec_tis_of_interest,\n",
    "      times = 1,\n",
    "      p = 1.0, # no data will be held out when set to \"1.0\"\n",
    "      list = FALSE\n",
    "   )\n",
    "print(training_indices)"
   ]
  },
  {
   "cell_type": "code",
   "execution_count": null,
   "id": "9f41825c",
   "metadata": {},
   "outputs": [],
   "source": [
    "%%R\n",
    "vst.count.mtx.train <-\n",
    "   vst.count.mtx.tis_of_interest[, training_indices] #9/10ths of data\n",
    "vst.count.mtx.test  <-\n",
    "   vst.count.mtx.tis_of_interest[, -training_indices] #1/10th of data\n",
    "\n",
    "print(vst.count.mtx.train)\n",
    "print(length(vst.count.mtx.test))"
   ]
  },
  {
   "cell_type": "code",
   "execution_count": null,
   "id": "c0f75ae3",
   "metadata": {},
   "outputs": [],
   "source": [
    "%%R\n",
    "GEO_model_training_tissue_detail.vec.train <-\n",
    "   GEO_model_training_tissue_detail_vec_tis_of_interest[training_indices]\n",
    "GEO_model_training_tissue_detail.vec.test <-\n",
    "   GEO_model_training_tissue_detail_vec_tis_of_interest[-training_indices]\n",
    "\n",
    "# print(GEO_model_training_tissue_detail.vec.train)\n",
    "print(length(unique(GEO_model_training_tissue_detail.vec.train)))"
   ]
  },
  {
   "cell_type": "code",
   "execution_count": null,
   "id": "3c0719bd",
   "metadata": {},
   "outputs": [],
   "source": [
    "%%R\n",
    "saveRDS(GEO_model_training_tissue_detail.vec.train,file=paste(OUT_DIR,\"GEO_model_training_tissue_detail_vec_train.Rds\",sep=\"\"))"
   ]
  },
  {
   "cell_type": "code",
   "execution_count": null,
   "id": "869254cf",
   "metadata": {},
   "outputs": [],
   "source": [
    "%%R\n",
    "cv_fold_indices <- caret::createFolds(GEO_model_training_tissue_detail.vec.train,\n",
    "                                      k = N_FOLDS)\n",
    "print(cv_fold_indices)"
   ]
  },
  {
   "cell_type": "code",
   "execution_count": null,
   "id": "5f6f46a6",
   "metadata": {},
   "outputs": [],
   "source": [
    "%%R\n",
    "binary_GEO_model_training_tissue_annotations <- unique(GEO_model_training_tissue_detail.vec)\n",
    "print(binary_GEO_model_training_tissue_annotations)"
   ]
  },
  {
   "cell_type": "code",
   "execution_count": null,
   "id": "606b92e2",
   "metadata": {},
   "outputs": [],
   "source": [
    "%%R\n",
    "full_rxn_pca_results.nls <- list()\n",
    "rxn_id_2_result_file_idx.nls <- list()"
   ]
  },
  {
   "cell_type": "code",
   "execution_count": null,
   "id": "73d9d959",
   "metadata": {},
   "outputs": [],
   "source": [
    "%%R\n",
    "print(vst.count.mtx.train[rxn2ensembls.nls[[\"R-MMU-450466\"]], ])"
   ]
  },
  {
   "cell_type": "code",
   "execution_count": null,
   "id": "5807fe5a",
   "metadata": {},
   "outputs": [],
   "source": [
    "%%R\n",
    "test <- prcomp(t(vst.count.mtx.train[rxn2ensembls.nls[[\"R-MMU-450466\"]], ]))\n",
    "print(test)"
   ]
  },
  {
   "cell_type": "code",
   "execution_count": null,
   "id": "73666aef",
   "metadata": {},
   "outputs": [],
   "source": [
    "%%R\n",
    "test$x[,1]"
   ]
  },
  {
   "cell_type": "code",
   "execution_count": null,
   "id": "b34a16d7",
   "metadata": {
    "scrolled": true
   },
   "outputs": [],
   "source": [
    "%%R\n",
    "n_rxns <- length(rxns)\n",
    "print(n_rxns)\n",
    "result_idx <- 1\n",
    "for(rxn_id_idx in seq(1:n_rxns)){\n",
    "   rxn_id <- rxns[rxn_id_idx]\n",
    "   rxn_pca <-\n",
    "      prcomp(t(vst.count.mtx.train[rxn2ensembls.nls[[rxn_id]], ]), scale. = T)\n",
    "   full_rxn_pca_results.nls[[rxn_id]] <- rxn_pca\n",
    "   rxn_id_2_result_file_idx.nls[[rxn_id]] <- result_idx\n",
    "   rxn_pca.nls[[rxn_id]] <-\n",
    "      rxn_pca$x[, 1] # 1st principal component coordinate within this reaction-space for each sample\n",
    "   if(mod(rxn_id_idx,100) == 0){\n",
    "      print(paste(\"Processed \",rxn_id_idx,\n",
    "                  \" of \",n_rxns,\n",
    "                  \" reactions (\",round((rxn_id_idx + 1)/n_rxns,digits = 3) * 100,\"%)...\",\n",
    "                  sep=\"\"))\n",
    "      flush.console()\n",
    "   }\n",
    "   if(mod(rxn_id_idx,1000) == 0){\n",
    "      print(paste(\"Storing PCA objects containing reactions \",rxn_id_idx-1000,\n",
    "                  \"-\",rxn_id_idx,\n",
    "                  \" of \",n_rxns,\n",
    "                  \" reactions (\",round((rxn_id_idx + 1)/n_rxns,digits = 3) * 100,\"%)...\",\n",
    "                  sep=\"\"))\n",
    "      saveRDS(full_rxn_pca_results.nls,\n",
    "              paste(OUT_DIR, \"full_rxn_pca_results_nls\",rxn_id_idx-1000,\n",
    "                    \"-\",rxn_id_idx,\".Rds\", sep=\"\"))\n",
    "      full_rxn_pca_results.nls <- list()\n",
    "      gc()\n",
    "      result_idx <- result_idx + 1\n",
    "   }\n",
    "}"
   ]
  },
  {
   "cell_type": "code",
   "execution_count": null,
   "id": "525494f6",
   "metadata": {
    "scrolled": true
   },
   "outputs": [],
   "source": [
    "%%R\n",
    "# store remaining PCA objects and removing from RAM\n",
    "saveRDS(rxn_id_2_result_file_idx.nls,\n",
    "        paste(OUT_DIR,\"rxn_id_2_result_file_idx_nls.Rds\",sep=\"\"))\n",
    "saveRDS(full_rxn_pca_results.nls,\n",
    "        paste(OUT_DIR, \"full_rxn_pca_results_nls.Rds\", sep=\"\"))\n",
    "rm(full_rxn_pca_results.nls)\n",
    "gc()"
   ]
  },
  {
   "cell_type": "code",
   "execution_count": null,
   "id": "0146f7c1",
   "metadata": {},
   "outputs": [],
   "source": [
    "%%R\n",
    "# compare informaction content of below files with pca plots or similar\n",
    "saveRDS(rxn_pca.nls, paste(OUT_DIR, \"rxn_pca_nls.Rds\", sep = \"\"))\n",
    "saveRDS(vst.count.mtx.train,\n",
    "        paste(OUT_DIR, \"vst_count_mtx_train.Rds\", sep = \"\"))"
   ]
  },
  {
   "cell_type": "code",
   "execution_count": null,
   "id": "f99868fa",
   "metadata": {},
   "outputs": [],
   "source": [
    "%%R\n",
    "for (cv_fold in names(cv_fold_indices)) {\n",
    "  cur_cv_fold_indices <- cv_fold_indices[[cv_fold]]\n",
    "  print(cur_cv_fold_indices)\n",
    "  print(\"----------\")\n",
    "}"
   ]
  },
  {
   "cell_type": "code",
   "execution_count": null,
   "id": "9a34d594",
   "metadata": {},
   "outputs": [],
   "source": []
  },
  {
   "cell_type": "code",
   "execution_count": null,
   "id": "9814c485",
   "metadata": {
    "scrolled": true
   },
   "outputs": [],
   "source": [
    "%%R\n",
    "# main loop\n",
    "for (rxn_id_idx in seq(1:length(rxns))) {\n",
    "   rxn_id <- rxns[rxn_id_idx]\n",
    "   ensembl_ids <- rxn2ensembls.nls[[rxn_id]]\n",
    "   \n",
    "   mean_misclass_rate <- list()\n",
    "   sum_ari <- 0\n",
    "   \n",
    "   for (cv_fold in names(cv_fold_indices)) {\n",
    "      cur_cv_fold_indices <- cv_fold_indices[[cv_fold]]\n",
    "      \n",
    "      vst.count.mtx.train.cv_train <-\n",
    "         vst.count.mtx.train[, -cur_cv_fold_indices] \n",
    "      vst.count.mtx.train.cv_test <-\n",
    "         vst.count.mtx.train[, cur_cv_fold_indices] \n",
    "      \n",
    "      GEO_model_training_tissue_detail.vec.train.cv_train <-\n",
    "         GEO_model_training_tissue_detail.vec.train[-cur_cv_fold_indices] \n",
    "      GEO_model_training_tissue_detail.vec.train.cv_test <-\n",
    "         GEO_model_training_tissue_detail.vec.train[cur_cv_fold_indices] \n",
    "       \n",
    "      binary_GEO_model_training_tissue_detail_vec.test.cv_test_list <- list()\n",
    "      for (tissue_annotation in binary_GEO_model_training_tissue_annotations) {\n",
    "         binary_GEO_model_training_tissue_detail_vec.test.cv_test_list[[tissue_annotation]] <-\n",
    "            (GEO_model_training_tissue_detail.vec.train.cv_test == tissue_annotation)\n",
    "      }\n",
    "      \n",
    "      cv_train.expr_mat <-\n",
    "         t(vst.count.mtx.train.cv_train[ensembl_ids, ])\n",
    "      cv_test.expr_mat <-\n",
    "         t(vst.count.mtx.train.cv_test[ensembl_ids, ])\n",
    "      \n",
    "      rxn_knn_calls <- class::knn(train = cv_train.expr_mat,\n",
    "                                  test = cv_test.expr_mat,\n",
    "                                  cl = GEO_model_training_tissue_detail.vec.train.cv_train)\n",
    "      \n",
    "      # calculate & store adjusted rand index\n",
    "      cur_ari <- pdfCluster::adj.rand.index(rxn_knn_calls,\n",
    "                                            GEO_model_training_tissue_detail.vec.train.cv_test)\n",
    "      sum_ari <- cur_ari + sum_ari\n",
    "      \n",
    "      # for each tissue, calculate misclassification rate\n",
    "      for (tissue_annotation in binary_GEO_model_training_tissue_annotations) {\n",
    "         cur_rxn_knn_calls <- (rxn_knn_calls == tissue_annotation)\n",
    "            \n",
    "         tab <- table(cur_rxn_knn_calls,\n",
    "                      binary_GEO_model_training_tissue_detail_vec.test.cv_test_list[[tissue_annotation]])\n",
    "\n",
    "         cur_misclass_rate <- 1 - sum(diag(tab)) / sum(tab)\n",
    "         sum_misclass_rate <- cur_misclass_rate\n",
    "         if (!is.null(mean_misclass_rate[[tissue_annotation]])) {\n",
    "           sum_misclass_rate <- sum_misclass_rate + mean_misclass_rate[[tissue_annotation]]\n",
    "         }\n",
    "         mean_misclass_rate[[tissue_annotation]] <- sum_misclass_rate\n",
    "      }\n",
    "   }\n",
    "   for(tissue_annotation in binary_GEO_model_training_tissue_annotations){\n",
    "      mean_misclass_rate[[tissue_annotation]] <- (mean_misclass_rate[[tissue_annotation]] / N_FOLDS)\n",
    "   }\n",
    "   mean_ari <- sum_ari / N_FOLDS\n",
    "   ecount <- length(ensembl_ids)\n",
    "   \n",
    "   rxn_knn_misclass_rate.nls[[rxn_id]] <- mean_misclass_rate\n",
    "   assign(\"mean_misclass_rate\",NULL,envir = .GlobalEnv)\n",
    "   \n",
    "   rxn_knn_ari.nls[[rxn_id]] <- mean_ari\n",
    "   rxn_knn_ecount.nls[[rxn_id]] <- ecount\n",
    "   \n",
    "   count <- count + 1\n",
    "   if (mod(count, 10) == 0) {\n",
    "      print(\n",
    "         paste(\n",
    "            \"Last RXN_ID = \",\n",
    "            rxn_id,\n",
    "            \": Last ARI = \",\n",
    "            mean_ari,\n",
    "            \": Last ECOUNT = \",\n",
    "            ecount,\n",
    "            \": Last Lung MISCLASS = \",\n",
    "            rxn_knn_misclass_rate.nls[[rxn_id]][[\"Lung\"]],\n",
    "            \": Last Uterus MISCLASS = \",\n",
    "            rxn_knn_misclass_rate.nls[[rxn_id]][[\"Uterus\"]],\n",
    "            \". Now \",\n",
    "            round(1.0 - count / length(rxns),3) * 100,\n",
    "            \"% remaining...\"\n",
    "         )\n",
    "      )\n",
    "      flush.console()\n",
    "   }\n",
    "}"
   ]
  },
  {
   "cell_type": "code",
   "execution_count": null,
   "id": "35636f46",
   "metadata": {},
   "outputs": [],
   "source": [
    "%%R\n",
    "saveRDS(\n",
    "   rxn_knn_misclass_rate.nls,\n",
    "   paste(OUT_DIR, \"toi_rxn_knn_misclass_rate_nls.Rds\", sep = \"\")\n",
    ")\n",
    "saveRDS(rxn_knn_ari.nls,\n",
    "        paste(OUT_DIR, \"toi_rxn_knn_ari_nls.Rds\", sep = \"\"))\n",
    "saveRDS(rxn_knn_ecount.nls,\n",
    "        paste(OUT_DIR, \"toi_rxn_knn_ecount_nls.Rds\", sep = \"\"))"
   ]
  },
  {
   "cell_type": "code",
   "execution_count": null,
   "id": "f824ee5f",
   "metadata": {},
   "outputs": [],
   "source": [
    "%%R\n",
    "d <- data.frame(\n",
    "   RXN_ID = names(rxn2ensembls.nls),\n",
    "   MISCLASS = unlist(rxn_knn_misclass_rate.nls),\n",
    "   ARI = unlist(rxn_knn_ari.nls),\n",
    "   ECOUNT = unlist(rxn_knn_ecount.nls)\n",
    ")\n",
    "print(d)\n",
    "saveRDS(d, paste(OUT_DIR, \"toi_summary_df.Rds\", sep = \"\"))"
   ]
  },
  {
   "cell_type": "code",
   "execution_count": null,
   "id": "75845057",
   "metadata": {},
   "outputs": [],
   "source": [
    "%%R\n",
    "\n",
    "library(htmlwidgets)\n",
    "\n",
    "min_misclass_pca <-\n",
    "   prcomp(t(vst.count.mtx.train[rxn2ensembls.nls[[\"R-MMU-450466\"]], ]), scale. = T)\n",
    "pca.d <- data.frame(\n",
    "   PC1 = min_misclass_pca$x[, 1],\n",
    "   PC2 = min_misclass_pca$x[, 2],\n",
    "   PC3 = min_misclass_pca$x[, 3],\n",
    "   Section = GEO_model_training_tissue_detail.vec.train\n",
    ")\n",
    "ggplot(pca.d) +\n",
    "   geom_point(aes(x = PC1, y = PC2, colour = Section)) +\n",
    "   theme_bw()\n",
    "p <- plot_ly(\n",
    "   x = pca.d$PC1,\n",
    "   y = pca.d$PC2,\n",
    "   z = pca.d$PC3,\n",
    "   type = \"scatter3d\",\n",
    "   mode = \"markers\",\n",
    "   color = pca.d$Section,\n",
    "   size = 1\n",
    ")\n",
    "\n",
    "saveWidget(p, \"plotly_chart_80.html\", selfcontained = TRUE)"
   ]
  }
 ],
 "metadata": {
  "kernelspec": {
   "display_name": "Python 3 (ipykernel)",
   "language": "python",
   "name": "python3"
  },
  "language_info": {
   "codemirror_mode": {
    "name": "ipython",
    "version": 3
   },
   "file_extension": ".py",
   "mimetype": "text/x-python",
   "name": "python",
   "nbconvert_exporter": "python",
   "pygments_lexer": "ipython3",
   "version": "3.9.21"
  }
 },
 "nbformat": 4,
 "nbformat_minor": 5
}
