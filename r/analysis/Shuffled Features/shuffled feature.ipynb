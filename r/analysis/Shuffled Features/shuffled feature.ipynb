{
 "cells": [
  {
   "cell_type": "code",
   "execution_count": 1,
   "id": "38faeba5",
   "metadata": {},
   "outputs": [],
   "source": [
    "%load_ext rpy2.ipython"
   ]
  },
  {
   "cell_type": "code",
   "execution_count": 2,
   "id": "6e2e8686",
   "metadata": {},
   "outputs": [],
   "source": [
    "%%R\n",
    "library(magrittr)\n",
    "\n",
    "IN_DIR <- \"/mnt/home/yuankeji/RanceLab/reticula_new/reticula/data/GEO_model_training/output/\"\n",
    "IN_DIR2 <- \"/mnt/home/yuankeji/RanceLab/reticula_new/reticula/data/GEO_model_training/input_shuffled_feature/\"\n",
    "\n",
    "pc1_values.nls <- readRDS(paste(IN_DIR, \"rxn_pca_nls.Rds\", sep = \"\"))"
   ]
  },
  {
   "cell_type": "code",
   "execution_count": 6,
   "id": "c65ccb57",
   "metadata": {},
   "outputs": [],
   "source": [
    "%%R\n",
    "shuffled_pc1_values.nls <- list()\n",
    "\n",
    "for (sample_name in names(pc1_values.nls)){\n",
    "  shuffled_pc1_values.nls[[sample_name]] <- sample(pc1_values.nls[[sample_name]])\n",
    "}\n",
    "\n",
    "shuffled_pc1_values.mtx <- as.data.frame(shuffled_pc1_values.nls)\n",
    "\n",
    "write.table(shuffled_pc1_values.mtx,\n",
    "            file=paste(IN_DIR2, \"shuffled_graph_features.txt\", sep=\"\"),\n",
    "            row.names=FALSE,\n",
    "            col.names=FALSE)"
   ]
  }
 ],
 "metadata": {
  "kernelspec": {
   "display_name": "Python 3 (ipykernel)",
   "language": "python",
   "name": "python3"
  },
  "language_info": {
   "codemirror_mode": {
    "name": "ipython",
    "version": 3
   },
   "file_extension": ".py",
   "mimetype": "text/x-python",
   "name": "python",
   "nbconvert_exporter": "python",
   "pygments_lexer": "ipython3",
   "version": "3.11.5"
  }
 },
 "nbformat": 4,
 "nbformat_minor": 5
}
