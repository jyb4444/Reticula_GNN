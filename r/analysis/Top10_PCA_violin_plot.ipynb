{
 "cells": [
  {
   "cell_type": "code",
   "execution_count": 1,
   "id": "518d5978",
   "metadata": {},
   "outputs": [],
   "source": [
    "%load_ext rpy2.ipython"
   ]
  },
  {
   "cell_type": "code",
   "execution_count": null,
   "id": "7f422bab",
   "metadata": {
    "scrolled": false
   },
   "outputs": [
    {
     "name": "stderr",
     "output_type": "stream",
     "text": [
      "R[write to console]: \n",
      "Attaching package: ‘dplyr’\n",
      "\n",
      "\n",
      "R[write to console]: The following objects are masked from ‘package:stats’:\n",
      "\n",
      "    filter, lag\n",
      "\n",
      "\n",
      "R[write to console]: The following objects are masked from ‘package:base’:\n",
      "\n",
      "    intersect, setdiff, setequal, union\n",
      "\n",
      "\n"
     ]
    },
    {
     "name": "stdout",
     "output_type": "stream",
     "text": [
      "[1] 9844\n"
     ]
    }
   ],
   "source": [
    "%%R\n",
    "library(ggplot2)\n",
    "library(dplyr)\n",
    "OUT_DIR <- \"/mnt/home/yuankeji/RanceLab/reticula_new/reticula/data/GEO_model_training/output/\"\n",
    "rxn_pca_list <- readRDS(paste(OUT_DIR, \"rxn_pca_nls.Rds\", sep = \"\"))\n",
    "print(length(names(rxn_pca_list)))\n",
    "vst.count.mtx.train <- readRDS(paste(OUT_DIR, \"vst_count_mtx_train.Rds\", sep = \"\"))\n",
    "rxn2ensembls.nls <- readRDS(paste(OUT_DIR, \"rxn2ensembls_nls.Rds\", sep = \"\"))\n",
    "pca_var_explained <- data.frame(PC = integer(), PVE = numeric(), Reaction = character())\n",
    "\n",
    "for (rxn_id in names(rxn_pca_list)) {\n",
    "  rxn_pca <- prcomp(t(vst.count.mtx.train[rxn2ensembls.nls[[rxn_id]], ]), scale. = TRUE)\n",
    "  summary_pca <- summary(rxn_pca)\n",
    "  \n",
    "  n_pcs <- min(10, ncol(summary_pca$importance))\n",
    "  \n",
    "  pve <- summary_pca$importance[2, 1:n_pcs]  \n",
    "  \n",
    "  pca_var_explained <- rbind(\n",
    "    pca_var_explained,\n",
    "    data.frame(PC = 1:n_pcs, PVE = pve, Reaction = rxn_id)\n",
    "  )\n",
    "}\n"
   ]
  },
  {
   "cell_type": "code",
   "execution_count": null,
   "id": "5cc2752f",
   "metadata": {},
   "outputs": [],
   "source": [
    "%%R\n",
    "p <- ggplot(pca_var_explained, aes(x = factor(PC), y = PVE)) +\n",
    "  geom_violin(trim = FALSE) +                     \n",
    "  geom_boxplot(width = 0.1, outlier.shape = NA) + \n",
    "  labs(x = \"Reaction Principal Component\", y = \"Proportion of Variance Explained\") +\n",
    "  theme_minimal(base_size = 14) +                \n",
    "  theme(\n",
    "    panel.border = element_rect(color = \"black\", fill = NA, size = 1), \n",
    "    axis.text = element_text(size = 14),        \n",
    "    axis.title = element_text(size = 14)       \n",
    "  )\n",
    "\n",
    "ggsave(\"Top10_PCA_violin_boxplot.pdf\", plot = p, width = 8, height = 6, dpi = 300)"
   ]
  },
  {
   "cell_type": "code",
   "execution_count": null,
   "id": "0fda6e13",
   "metadata": {},
   "outputs": [],
   "source": [
    "%%R\n",
    "library(scales)\n",
    "violin_plot <- ggplot(pca_var_explained, aes(x = factor(PC), y = PVE)) +\n",
    "  geom_violin(trim = FALSE) +              \n",
    "  geom_boxplot(width = 0.1, outlier.shape = NA) +  \n",
    "  labs(x = \"Reaction Principal Component\", y = \"Proportion of Variance Explained\") +\n",
    "  scale_x_discrete(labels = paste0(\"PC\", 1:10)) +  \n",
    "  scale_y_continuous(labels = percent, breaks = seq(0, 1, by = 0.1)) + \n",
    "  theme_minimal()"
   ]
  },
  {
   "cell_type": "code",
   "execution_count": 8,
   "id": "62336beb",
   "metadata": {},
   "outputs": [],
   "source": [
    "%%R\n",
    "ggsave(filename = paste(OUT_DIR, \"top10_PCA_violin_plot.pdf\", sep = \"\"),\n",
    "       plot = violin_plot,\n",
    "       device = \"pdf\",\n",
    "       width = 10, height = 6, units = \"in\", dpi = 300)"
   ]
  },
  {
   "cell_type": "code",
   "execution_count": null,
   "id": "e7694cd0",
   "metadata": {},
   "outputs": [],
   "source": []
  }
 ],
 "metadata": {
  "kernelspec": {
   "display_name": "Python 3 (ipykernel)",
   "language": "python",
   "name": "python3"
  },
  "language_info": {
   "codemirror_mode": {
    "name": "ipython",
    "version": 3
   },
   "file_extension": ".py",
   "mimetype": "text/x-python",
   "name": "python",
   "nbconvert_exporter": "python",
   "pygments_lexer": "ipython3",
   "version": "3.9.21"
  }
 },
 "nbformat": 4,
 "nbformat_minor": 5
}
