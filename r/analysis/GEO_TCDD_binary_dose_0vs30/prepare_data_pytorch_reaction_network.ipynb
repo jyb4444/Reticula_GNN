{
 "cells": [
  {
   "cell_type": "code",
   "execution_count": 1,
   "id": "39391918",
   "metadata": {},
   "outputs": [],
   "source": [
    "%load_ext rpy2.ipython"
   ]
  },
  {
   "cell_type": "code",
   "execution_count": null,
   "id": "b9fa31e8",
   "metadata": {},
   "outputs": [],
   "source": [
    "%%R\n",
    "library(magrittr)\n",
    "OUT_DIR <- \"../../../../data/GEO_TCDD_Binary_Dose/output/\"\n",
    "IN_DIR <- \"../../../..//data/GEO_TCDD_Binary_Dose/input/\"\n",
    "\n",
    "X <- readRDS(paste(OUT_DIR, \"rxn_pca_nls.Rds\", sep = \"\"))\n",
    "Y <- readRDS(paste(OUT_DIR,\"GEO_TCDD_Binary_Dose_detail_vec.Rds\",sep=\"\"))\n",
    "E <- read.table(paste(IN_DIR,\"ReactionNetwork_Rel.txt\",sep=\"\"))"
   ]
  },
  {
   "cell_type": "code",
   "execution_count": 7,
   "id": "08bb7f4f",
   "metadata": {},
   "outputs": [],
   "source": [
    "%%R\n",
    "rxn2nodeLabel.nls <- list()\n",
    "nodeLabel2rxn.nls <- list()\n",
    "for(i in 1:length(X)){\n",
    "  rxn2nodeLabel.nls[[names(X)[i]]] <- i\n",
    "  nodeLabel2rxn.nls[[i]] <- names(X)[i]\n",
    "}"
   ]
  },
  {
   "cell_type": "code",
   "execution_count": 11,
   "id": "8a5fb811",
   "metadata": {},
   "outputs": [],
   "source": [
    "%%R\n",
    "E <- E %>%\n",
    "  dplyr::filter(V1 %in% names(rxn2nodeLabel.nls)) %>%\n",
    "  dplyr::filter(V3 %in% names(rxn2nodeLabel.nls)) %>%\n",
    "  dplyr::select(V1,V3)"
   ]
  },
  {
   "cell_type": "code",
   "execution_count": 13,
   "id": "f384cfc6",
   "metadata": {},
   "outputs": [],
   "source": [
    "%%R\n",
    "write.table(E,\n",
    "            file=paste(IN_DIR,\"edgeLabels.csv\",sep=\"\"),\n",
    "            row.names = FALSE,\n",
    "            col.names = FALSE)"
   ]
  },
  {
   "cell_type": "code",
   "execution_count": 14,
   "id": "e4a495ce",
   "metadata": {},
   "outputs": [],
   "source": [
    "%%R\n",
    "node1 <- numeric()\n",
    "node2 <- numeric()\n",
    "for(i in 1:nrow(E)){\n",
    "  node1 <- c(node1,rxn2nodeLabel.nls[[as.character(E$V1[i])]])\n",
    "  node2 <- c(node2,rxn2nodeLabel.nls[[as.character(E$V3[i])]])\n",
    "}"
   ]
  },
  {
   "cell_type": "code",
   "execution_count": null,
   "id": "5fdadabc",
   "metadata": {},
   "outputs": [
    {
     "name": "stdout",
     "output_type": "stream",
     "text": [
      "R-MMU-170666 R-MMU-170671 R-MMU-170674 R-MMU-170686 R-MMU-380073 R-MMU-392187 \n",
      "           1            2            3            4            5            6 \n"
     ]
    }
   ],
   "source": [
    "%%R\n",
    "z <- unlist(rxn2nodeLabel.nls)\n",
    "y <- unlist(nodeLabel2rxn.nls)\n",
    "assertthat::are_equal(length(z),length(y))"
   ]
  },
  {
   "cell_type": "code",
   "execution_count": 16,
   "id": "bc0c6ec4",
   "metadata": {},
   "outputs": [],
   "source": [
    "%%R\n",
    "write.table(z,\n",
    "            file=paste(IN_DIR,\"rxn2nodeLabel_nls.csv\",sep=\"\"),\n",
    "            row.names = TRUE,\n",
    "            col.names = FALSE)\n",
    "write.table(y,\n",
    "            file=paste(IN_DIR,\"nodeLabel2rxn_nls.csv\",sep=\"\"),\n",
    "            row.names = TRUE,\n",
    "            col.names = FALSE)\n"
   ]
  },
  {
   "cell_type": "code",
   "execution_count": null,
   "id": "38e3bc4a",
   "metadata": {},
   "outputs": [],
   "source": [
    "%%R\n",
    "E <- data.frame(node1 = node1,\n",
    "                node2 = node2)\n",
    "\n",
    "X <- as.data.frame(X)\n",
    "\n",
    "Y <- as.data.frame(Y)"
   ]
  },
  {
   "cell_type": "code",
   "execution_count": null,
   "id": "df1dc5ff",
   "metadata": {},
   "outputs": [
    {
     "name": "stdout",
     "output_type": "stream",
     "text": [
      "[1] 8537\n"
     ]
    }
   ],
   "source": [
    "%%R\n",
    "write.table(X,\n",
    "          file=paste(IN_DIR,\"node_features.txt\",sep=\"\"),\n",
    "          row.names = TRUE,\n",
    "          col.names = TRUE)\n",
    "write.table(Y,\n",
    "          file=paste(IN_DIR,\"graph_targets.txt\",sep=\"\"),\n",
    "          row.names = FALSE,\n",
    "          col.names = FALSE)"
   ]
  },
  {
   "cell_type": "code",
   "execution_count": null,
   "id": "f6ad9ed0",
   "metadata": {},
   "outputs": [],
   "source": [
    "%%R\n",
    "missing_pathway <- read.csv(paste(OUT_DIR, \"missing_columns.txt\",sep=\"\"))\n",
    "all_values <- as.vector(as.matrix(X))\n",
    "median_value <- median(all_values, na.rm = TRUE)\n",
    "for (col in missing_pathway$x) {\n",
    "  X[[col]] <- median_value\n",
    "}"
   ]
  },
  {
   "cell_type": "code",
   "execution_count": null,
   "id": "17ded6b8",
   "metadata": {},
   "outputs": [],
   "source": [
    "%%R\n",
    "write.table(X,\n",
    "          file=paste(IN_DIR,\"node_features.txt\",sep=\"\"),\n",
    "          row.names = FALSE,\n",
    "          col.names = FALSE)"
   ]
  }
 ],
 "metadata": {
  "kernelspec": {
   "display_name": "Python 3 (ipykernel)",
   "language": "python",
   "name": "python3"
  },
  "language_info": {
   "codemirror_mode": {
    "name": "ipython",
    "version": 3
   },
   "file_extension": ".py",
   "mimetype": "text/x-python",
   "name": "python",
   "nbconvert_exporter": "python",
   "pygments_lexer": "ipython3",
   "version": "3.11.5"
  }
 },
 "nbformat": 4,
 "nbformat_minor": 5
}
