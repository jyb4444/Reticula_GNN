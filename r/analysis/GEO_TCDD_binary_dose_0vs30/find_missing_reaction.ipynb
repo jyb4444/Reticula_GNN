{
 "cells": [
  {
   "cell_type": "code",
   "execution_count": null,
   "metadata": {},
   "outputs": [],
   "source": [
    "%load_ext rpy2.ipython"
   ]
  },
  {
   "cell_type": "code",
   "execution_count": null,
   "metadata": {},
   "outputs": [],
   "source": [
    "%%R\n",
    "OUT_DIR <- \"../../../../data/GEO_TCDD_Binary_Dose/output/\"\n",
    "OUT_DIR2 <- \"../../../../data/GEO_TCDD_Binary_Dose/outputs/training/\"\n",
    "\n",
    "GEO_TCDD_Binary_Dose_df <- read.csv(paste(OUT_DIR, \"node_features.txt\", sep=\"\"))\n",
    "GEO_Model_training <- read.csv(paste(OUT_DIR2, \"node_features.txt\",sep=\"\"))\n",
    "missing_in_GEO_Model_training <- setdiff(names(GEO_Model_training), names(GEO_TCDD_Binary_Dose_df))\n",
    "missing_in_GEO_Model_training_df <- data.frame(missing_pathway = missing_in_GEO_Model_training)\n",
    "write.table(missing_in_GEO_Model_training, file = paste(OUT_DIR, \"missing_columns.txt\", sep=\"\"), quote = FALSE, row.names = FALSE, col.names = TRUE)"
   ]
  },
  {
   "cell_type": "code",
   "execution_count": null,
   "metadata": {},
   "outputs": [],
   "source": []
  }
 ],
 "metadata": {
  "kernelspec": {
   "display_name": "Python 3",
   "language": "python",
   "name": "python3"
  },
  "language_info": {
   "name": "python",
   "version": "3.12.9"
  }
 },
 "nbformat": 4,
 "nbformat_minor": 2
}
