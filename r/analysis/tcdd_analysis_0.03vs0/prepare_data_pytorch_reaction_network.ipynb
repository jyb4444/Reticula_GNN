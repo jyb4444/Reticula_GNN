{
 "cells": [
  {
   "cell_type": "code",
   "execution_count": 1,
   "id": "d0aac633",
   "metadata": {},
   "outputs": [],
   "source": [
    "%load_ext rpy2.ipython"
   ]
  },
  {
   "cell_type": "code",
   "execution_count": 2,
   "id": "cd853985",
   "metadata": {},
   "outputs": [],
   "source": [
    "%%R\n",
    "library(magrittr)\n",
    "OUT_DIR <- \"/mnt/home/yuankeji/RanceLab/reticula_new/reticula/data/tcdd/output/\"\n",
    "IN_DIR <- \"/mnt/home/yuankeji/RanceLab/reticula_new/reticula/data/tcdd/input/\"\n",
    "\n",
    "X <- readRDS(paste(OUT_DIR, \"rxn_pca_nls0.03vs0_time_course.Rds\", sep = \"\"))\n",
    "Y <- readRDS(paste(OUT_DIR,\"tcdd_dose_detail_vec_train0.03vs0_time_course.Rds\",sep=\"\"))\n",
    "E <- read.table(paste(IN_DIR,\"ReactionNetwork_Rel.txt\",sep=\"\"))"
   ]
  },
  {
   "cell_type": "code",
   "execution_count": 3,
   "id": "8305b114",
   "metadata": {},
   "outputs": [],
   "source": [
    "%%R\n",
    "rxn2nodeLabel.nls <- list()\n",
    "nodeLabel2rxn.nls <- list()\n",
    "for(i in 1:length(X)){\n",
    "  rxn2nodeLabel.nls[[names(X)[i]]] <- i\n",
    "  nodeLabel2rxn.nls[[i]] <- names(X)[i]\n",
    "}"
   ]
  },
  {
   "cell_type": "code",
   "execution_count": 4,
   "id": "0cc5642b",
   "metadata": {},
   "outputs": [
    {
     "name": "stdout",
     "output_type": "stream",
     "text": [
      "             V1        V2            V3\n",
      "1 R-MMU-9613507 Preceding R-MMU-9613545\n",
      "2 R-MMU-9613545 Preceding R-MMU-9613562\n",
      "3 R-MMU-9613562 Preceding R-MMU-9613670\n",
      "4 R-MMU-9639715 Preceding R-MMU-9640117\n",
      "5 R-MMU-9641089 Preceding R-MMU-9641096\n",
      "6 R-MMU-9641096 Preceding R-MMU-9641111\n"
     ]
    }
   ],
   "source": [
    "%%R\n",
    "E <- E %>%\n",
    "  dplyr::filter(V1 %in% names(rxn2nodeLabel.nls))\n",
    "head(E)"
   ]
  },
  {
   "cell_type": "code",
   "execution_count": 5,
   "id": "9cf58aff",
   "metadata": {},
   "outputs": [
    {
     "name": "stdout",
     "output_type": "stream",
     "text": [
      "             V1        V2            V3\n",
      "1 R-MMU-9613507 Preceding R-MMU-9613545\n",
      "2 R-MMU-9613545 Preceding R-MMU-9613562\n",
      "3 R-MMU-9613562 Preceding R-MMU-9613670\n",
      "4 R-MMU-9639715 Preceding R-MMU-9640117\n",
      "5 R-MMU-9641089 Preceding R-MMU-9641096\n",
      "6 R-MMU-9641096 Preceding R-MMU-9641111\n"
     ]
    }
   ],
   "source": [
    "%%R\n",
    "E <- E %>%\n",
    "  dplyr::filter(V3 %in% names(rxn2nodeLabel.nls))\n",
    "head(E)"
   ]
  },
  {
   "cell_type": "code",
   "execution_count": 6,
   "id": "ff9fddfe",
   "metadata": {},
   "outputs": [],
   "source": [
    "%%R\n",
    "E <- E %>%\n",
    "  dplyr::filter(V1 %in% names(rxn2nodeLabel.nls)) %>%\n",
    "  dplyr::filter(V3 %in% names(rxn2nodeLabel.nls)) %>%\n",
    "  dplyr::select(V1,V3)"
   ]
  },
  {
   "cell_type": "code",
   "execution_count": 7,
   "id": "ee96a79b",
   "metadata": {},
   "outputs": [],
   "source": [
    "%%R\n",
    "write.table(E,\n",
    "            file=paste(IN_DIR,\"edgeLabels_time_course_0.03vs0.csv\",sep=\"\"),\n",
    "            row.names = FALSE,\n",
    "            col.names = FALSE)"
   ]
  },
  {
   "cell_type": "code",
   "execution_count": 8,
   "id": "77ba0253",
   "metadata": {},
   "outputs": [],
   "source": [
    "%%R\n",
    "node1 <- numeric()\n",
    "node2 <- numeric()\n",
    "for(i in 1:nrow(E)){\n",
    "  node1 <- c(node1,rxn2nodeLabel.nls[[as.character(E$V1[i])]])\n",
    "  node2 <- c(node2,rxn2nodeLabel.nls[[as.character(E$V3[i])]])\n",
    "}"
   ]
  },
  {
   "cell_type": "code",
   "execution_count": 9,
   "id": "63f61dd3",
   "metadata": {},
   "outputs": [
    {
     "name": "stdout",
     "output_type": "stream",
     "text": [
      "R-MMU-170666 R-MMU-170671 R-MMU-170674 R-MMU-170686 R-MMU-380073 R-MMU-392187 \n",
      "           1            2            3            4            5            6 \n"
     ]
    }
   ],
   "source": [
    "%%R\n",
    "z <- unlist(rxn2nodeLabel.nls)\n",
    "y <- unlist(nodeLabel2rxn.nls)\n",
    "assertthat::are_equal(length(z),length(y))\n",
    "head(z)"
   ]
  },
  {
   "cell_type": "code",
   "execution_count": 10,
   "id": "df2ef95c",
   "metadata": {},
   "outputs": [],
   "source": [
    "%%R\n",
    "write.table(z,\n",
    "            file=paste(IN_DIR,\"rxn2nodeLabel_nls_time_course_0.03vs0.csv\",sep=\"\"),\n",
    "            row.names = TRUE,\n",
    "            col.names = FALSE)\n",
    "write.table(y,\n",
    "            file=paste(IN_DIR,\"nodeLabel2rxn_nls_time_course_0.03vs0.csv\",sep=\"\"),\n",
    "            row.names = TRUE,\n",
    "            col.names = FALSE)\n"
   ]
  },
  {
   "cell_type": "code",
   "execution_count": 11,
   "id": "5d7f8258",
   "metadata": {},
   "outputs": [],
   "source": [
    "%%R\n",
    "E <- data.frame(node1 = node1,\n",
    "                node2 = node2)\n",
    "\n",
    "X <- as.data.frame(X)\n",
    "\n",
    "Y <- as.data.frame(Y)"
   ]
  },
  {
   "cell_type": "code",
   "execution_count": 12,
   "id": "784e1ae7",
   "metadata": {},
   "outputs": [],
   "source": [
    "%%R\n",
    "# write.table(E,\n",
    "#           file=paste(IN_DIR,\"edges.txt\",sep=\"\"),\n",
    "#           row.names = FALSE,\n",
    "#           col.names = FALSE)\n",
    "write.table(X,\n",
    "          file=paste(IN_DIR,\"node_features0.03vs0_time_course.txt\",sep=\"\"),\n",
    "          row.names = TRUE,\n",
    "          col.names = TRUE)\n",
    "write.table(Y,\n",
    "          file=paste(IN_DIR,\"graph_targets0.03vs0_time_course.txt\",sep=\"\"),\n",
    "          row.names = FALSE,\n",
    "          col.names = FALSE)"
   ]
  },
  {
   "cell_type": "code",
   "execution_count": 13,
   "id": "c4c7170e",
   "metadata": {},
   "outputs": [
    {
     "name": "stdout",
     "output_type": "stream",
     "text": [
      "               x\n",
      "1  R.MMU.1299359\n",
      "2   R.MMU.429594\n",
      "3  R.MMU.2465924\n",
      "4  R.MMU.9656893\n",
      "5  R.MMU.9648949\n",
      "6  R.MMU.9648983\n",
      "7  R.MMU.9649108\n",
      "8   R.MMU.981832\n",
      "9  R.MMU.9667756\n",
      "10 R.MMU.5619420\n",
      "11 R.MMU.9007882\n",
      "12 R.MMU.9825608\n",
      "13 R.MMU.9825624\n",
      "14 R.MMU.6788295\n",
      "15 R.MMU.8850794\n",
      "16 R.MMU.1482679\n",
      "17 R.MMU.1482776\n",
      "18 R.MMU.1482907\n",
      "19 R.MMU.8862771\n"
     ]
    }
   ],
   "source": [
    "%%R\n",
    "missing_pathway <- read.csv(\"/mnt/home/yuankeji/RanceLab/reticula_new/reticula/data/tcdd/output/missing_columns0.03vs0_time_course.txt\",sep=\"\")\n",
    "print(missing_pathway)"
   ]
  },
  {
   "cell_type": "code",
   "execution_count": 14,
   "id": "16867b2e",
   "metadata": {},
   "outputs": [
    {
     "name": "stdout",
     "output_type": "stream",
     "text": [
      "[1] -0.06232156\n"
     ]
    }
   ],
   "source": [
    "%%R\n",
    "all_values <- as.vector(as.matrix(X))\n",
    "median_value <- median(all_values, na.rm = TRUE)\n",
    "print(median_value)"
   ]
  },
  {
   "cell_type": "code",
   "execution_count": 15,
   "id": "f50569b0",
   "metadata": {},
   "outputs": [],
   "source": [
    "%%R\n",
    "for (col in missing_pathway$x) {\n",
    "  X[[col]] <- median_value\n",
    "}"
   ]
  },
  {
   "cell_type": "code",
   "execution_count": 16,
   "id": "4b925def",
   "metadata": {},
   "outputs": [],
   "source": [
    "%%R\n",
    "write.table(X,\n",
    "          file=paste(IN_DIR,\"node_features0.03vs0_2_time_course.txt\",sep=\"\"),\n",
    "          row.names = FALSE,\n",
    "          col.names = FALSE)"
   ]
  },
  {
   "cell_type": "code",
   "execution_count": null,
   "id": "1e00bd0c",
   "metadata": {},
   "outputs": [],
   "source": []
  }
 ],
 "metadata": {
  "kernelspec": {
   "display_name": "Python 3 (ipykernel)",
   "language": "python",
   "name": "python3"
  },
  "language_info": {
   "codemirror_mode": {
    "name": "ipython",
    "version": 3
   },
   "file_extension": ".py",
   "mimetype": "text/x-python",
   "name": "python",
   "nbconvert_exporter": "python",
   "pygments_lexer": "ipython3",
   "version": "3.11.5"
  }
 },
 "nbformat": 4,
 "nbformat_minor": 5
}
