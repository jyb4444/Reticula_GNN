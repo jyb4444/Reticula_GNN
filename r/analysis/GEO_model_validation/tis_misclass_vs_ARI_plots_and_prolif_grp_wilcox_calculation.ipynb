{
 "cells": [
  {
   "cell_type": "code",
   "execution_count": null,
   "id": "1af57539",
   "metadata": {},
   "outputs": [],
   "source": [
    "%load_ext rpy2.ipython"
   ]
  },
  {
   "cell_type": "code",
   "execution_count": null,
   "id": "a6013fbd",
   "metadata": {},
   "outputs": [],
   "source": [
    "%%R\n",
    "\n",
    "scratch_path <- Sys.getenv(\"SCRATCH\")\n",
    ".libPaths(file.path(scratch_path, \"Rlocal4.3.2\"))"
   ]
  },
  {
   "cell_type": "code",
   "execution_count": null,
   "id": "95f40247",
   "metadata": {},
   "outputs": [],
   "source": [
    "%%R\n",
    "library(magrittr)\n",
    "library(ggplot2)\n",
    "library(ggiraph)\n",
    "library(dplyr)\n",
    "\n",
    "OUT_DIR <- \"../../../outputs/validation/\"\n",
    "OUT_DIR2 <- \"../../../outputs/validation/output_ARI/\""
   ]
  },
  {
   "cell_type": "code",
   "execution_count": null,
   "id": "c2ae1beb",
   "metadata": {},
   "outputs": [],
   "source": [
    "%%R\n",
    "rxn2ensembls.nls <- readRDS(paste(OUT_DIR, \"rxn2ensembls_nls.Rds\", sep = \"\"))\n",
    "rxn_knn_misclass_rate.nls <- readRDS(paste(OUT_DIR, \"toi_rxn_knn_misclass_rate_nls.Rds\", sep = \"\"))\n",
    "rxn_knn_ari.nls <- readRDS(paste(OUT_DIR, \"toi_rxn_knn_ari_nls.Rds\", sep = \"\"))\n",
    "rxn_knn_ecount.nls <- readRDS(paste(OUT_DIR, \"toi_rxn_knn_ecount_nls.Rds\", sep = \"\"))\n",
    "tcga_tissue_detail.vec.train <- readRDS(paste(OUT_DIR,\"tcga_tissue_detial_vec_train.Rds\",sep=\"\"))\n",
    "vst.count.mtx.train <- readRDS(paste(OUT_DIR,\"vst_count_mtx_train.Rds\",sep=\"\"))\n",
    "rxn_pca.nls <- readRDS(paste(OUT_DIR,\"rxn_pca_nls.Rds\",sep=\"\"))"
   ]
  },
  {
   "cell_type": "code",
   "execution_count": null,
   "id": "3af17fe5",
   "metadata": {
    "scrolled": true
   },
   "outputs": [],
   "source": [
    "%%R\n",
    "head(rxn2ensembls.nls)"
   ]
  },
  {
   "cell_type": "code",
   "execution_count": null,
   "id": "6edb4000",
   "metadata": {},
   "outputs": [],
   "source": [
    "%%R\n",
    "head(rxn_knn_misclass_rate.nls)"
   ]
  },
  {
   "cell_type": "code",
   "execution_count": null,
   "id": "ab5e1e8b",
   "metadata": {},
   "outputs": [],
   "source": [
    "%%R\n",
    "head(rxn_knn_ari.nls)"
   ]
  },
  {
   "cell_type": "code",
   "execution_count": null,
   "id": "f210f707",
   "metadata": {},
   "outputs": [],
   "source": [
    "%%R\n",
    "head(rxn_knn_ecount.nls)"
   ]
  },
  {
   "cell_type": "code",
   "execution_count": null,
   "id": "d9a5a03f",
   "metadata": {},
   "outputs": [],
   "source": [
    "%%R\n",
    "print(length(unique(tcga_tissue_detail.vec.train)))\n",
    "print(tcga_tissue_detail.vec.train)"
   ]
  },
  {
   "cell_type": "code",
   "execution_count": null,
   "id": "e67b247e",
   "metadata": {},
   "outputs": [],
   "source": [
    "%%R\n",
    "head(vst.count.mtx.train)"
   ]
  },
  {
   "cell_type": "code",
   "execution_count": null,
   "id": "4ef00f03",
   "metadata": {},
   "outputs": [],
   "source": [
    "%%R\n",
    "head(rxn_pca.nls)"
   ]
  },
  {
   "cell_type": "code",
   "execution_count": null,
   "id": "54a01206",
   "metadata": {},
   "outputs": [],
   "source": [
    "%%R\n",
    "# construct summary data frame\n",
    "rxn_tissue_mean_misclass.df <- as.data.frame(\n",
    "                                      sapply(as.data.frame(\n",
    "                                                   do.call(rbind, rxn_knn_misclass_rate.nls)),\n",
    "                                             as.numeric))\n",
    "rownames(rxn_tissue_mean_misclass.df) <- names(rxn_knn_misclass_rate.nls)\n",
    "rxn_tissue_mean_misclass.df$RXN_ID <- names(rxn_knn_misclass_rate.nls)\n",
    "rxn_tissue_mean_misclass.df$ARI <- unlist(rxn_knn_ari.nls)\n",
    "rxn_tissue_mean_misclass.df$ECOUNT <- unlist(rxn_knn_ecount.nls)\n",
    "\n",
    "length(rxn_tissue_mean_misclass.df)"
   ]
  },
  {
   "cell_type": "code",
   "execution_count": null,
   "id": "7c38355a",
   "metadata": {},
   "outputs": [],
   "source": [
    "%%R\n",
    "write.csv(rxn_tissue_mean_misclass.df, file=paste(OUT_DIR, \"rxn_tissue_mean_misclass.csv\", sep=\"\"))"
   ]
  },
  {
   "cell_type": "code",
   "execution_count": null,
   "id": "3d37e7bc",
   "metadata": {},
   "outputs": [],
   "source": [
    "%%R\n",
    "misclass_only.df <- rxn_tissue_mean_misclass.df[1:16]\n",
    "# print(dim(rxn_tissue_mean_misclass.df))\n",
    "head(misclass_only.df)"
   ]
  },
  {
   "cell_type": "code",
   "execution_count": null,
   "id": "c6993257",
   "metadata": {},
   "outputs": [],
   "source": [
    "%%R\n",
    "# store summary data frame\n",
    "saveRDS(rxn_tissue_mean_misclass.df, paste(OUT_DIR, \"toi_summary_df.Rds\", sep = \"\"))"
   ]
  },
  {
   "cell_type": "code",
   "execution_count": null,
   "id": "3597e93f",
   "metadata": {},
   "outputs": [],
   "source": [
    "%%R\n",
    "misclass_only.df <- rxn_tissue_mean_misclass.df[1:15]\n",
    "\n",
    "numeric_data <- misclass_only.df %>% \n",
    "                select_if(~is.numeric(.))\n",
    "\n",
    "# generate dendrogram\n",
    "df <- scale(t(numeric_data))\n",
    "d <- parallelDist::parallelDist(df, method = \"euclidean\")\n",
    "saveRDS(d,file=paste(OUT_DIR,\"misclass_dist_obj.Rds\",sep=\"\"))\n",
    "hc1 <- hclust(d, method = \"ward.D2\" )\n",
    "saveRDS(hc1,file=paste(OUT_DIR,\"misclass_hc_obj.Rds\",sep=\"\"))\n",
    "hc1 <- readRDS(paste(OUT_DIR,\"misclass_hc_obj.Rds\",sep=\"\"))\n",
    "dend1 <- as.dendrogram(hc1)\n",
    "plot(hc1, cex = 2)"
   ]
  },
  {
   "cell_type": "code",
   "execution_count": null,
   "id": "260f939c",
   "metadata": {},
   "outputs": [],
   "source": [
    "%%R\n",
    "# generate figures using summary data frame\n",
    "for(tis_idx in seq(1:15)){\n",
    "  tis_name <- colnames(rxn_tissue_mean_misclass.df) %>% .[tis_idx]\n",
    "  print(tis_name)\n",
    "  if(!is.numeric(rxn_tissue_mean_misclass.df[[tis_name]])) next\n",
    "    \n",
    "  sorted.df <- rxn_tissue_mean_misclass.df %>% dplyr::arrange(ECOUNT)\n",
    "\n",
    "  plot.obj <- ggplot2::ggplot(sorted.df) + \n",
    "    ggiraph::geom_point_interactive(aes(x=ARI,\n",
    "                                      y=1 - !!as.name(tis_name),\n",
    "                                      colour=ECOUNT,\n",
    "                                      tooltip=RXN_ID,\n",
    "                                      data_id=RXN_ID)) +\n",
    "    theme_bw() + \n",
    "    ggtitle(paste(\"ARI vs \",tis_name,\" 1 - misclassification rate\",sep=\"\"))\n",
    "\n",
    "  #girafe(ggobj = plot.obj)\n",
    "  print(paste(\"ARI_v_\",tis_name))\n",
    "  ggsave(paste(OUT_DIR2,\"ARI_v_\",tis_name,\"_misclassification.png\"),device = png())  \n",
    "  dev.off()\n",
    "}"
   ]
  },
  {
   "cell_type": "code",
   "execution_count": null,
   "id": "33a26432",
   "metadata": {},
   "outputs": [],
   "source": [
    "%%R\n",
    "liver_columns <- grep(\"Liver\", colnames(rxn_tissue_mean_misclass.df), value = TRUE)\n",
    "\n",
    "for(liver_col in liver_columns) {\n",
    "    sorted_df <- rxn_tissue_mean_misclass.df %>%\n",
    "        dplyr::arrange(desc(!!as.name(liver_col))) %>%\n",
    "        dplyr::slice(1:10)\n",
    "    \n",
    "    pca_scores <- lapply(sorted_df$RXN_ID, function(rxn_id) {\n",
    "        rxn_pca.nls[[rxn_id]]\n",
    "    })\n",
    "    \n",
    "    pca_scores_df <- do.call(rbind, pca_scores)\n",
    "    \n",
    "    print(pca_scores_df)\n",
    "    write.csv(pca_scores_df, file=paste(OUT_DIR2, \"Desc_PCA_scores_for_\", liver_col, \".csv\", sep=\"\"))\n",
    "}\n"
   ]
  }
 ],
 "metadata": {
  "kernelspec": {
   "display_name": "Python 3 (ipykernel)",
   "language": "python",
   "name": "python3"
  },
  "language_info": {
   "codemirror_mode": {
    "name": "ipython",
    "version": 3
   },
   "file_extension": ".py",
   "mimetype": "text/x-python",
   "name": "python",
   "nbconvert_exporter": "python",
   "pygments_lexer": "ipython3",
   "version": "3.9.21"
  }
 },
 "nbformat": 4,
 "nbformat_minor": 5
}
