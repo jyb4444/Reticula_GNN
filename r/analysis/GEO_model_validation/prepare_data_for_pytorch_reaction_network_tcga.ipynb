{
 "cells": [
  {
   "cell_type": "code",
   "execution_count": null,
   "id": "efe5959e",
   "metadata": {},
   "outputs": [],
   "source": [
    "%load_ext rpy2.ipython"
   ]
  },
  {
   "cell_type": "code",
   "execution_count": null,
   "id": "01b0fd6e",
   "metadata": {},
   "outputs": [],
   "source": [
    "%%R\n",
    "\n",
    "scratch_path <- Sys.getenv(\"SCRATCH\")\n",
    ".libPaths(file.path(scratch_path, \"Rlocal4.3.2\"))"
   ]
  },
  {
   "cell_type": "code",
   "execution_count": null,
   "id": "355845f3",
   "metadata": {},
   "outputs": [],
   "source": [
    "%%R\n",
    "library(magrittr)\n",
    "\n",
    "OUT_DIR <- \"../../../outputs/validation/\"\n",
    "IN_DIR <- \"../../../inputs/\"\n",
    "\n",
    "X <- readRDS(paste(OUT_DIR, \"rxn_pca_nls.Rds\", sep = \"\"))\n",
    "Y <- readRDS(paste(OUT_DIR,\"GEO_model_validation_tissue_detial_vec_train.Rds\",sep=\"\"))\n",
    "E <- read.table(paste(IN_DIR,\"ReactionNetwork_Rel.txt\",sep=\"\"))"
   ]
  },
  {
   "cell_type": "code",
   "execution_count": null,
   "id": "91e5d99c",
   "metadata": {},
   "outputs": [],
   "source": [
    "%%R\n",
    "sample_id <- readRDS(paste(OUT_DIR, \"GEO_model_validation_sample_detail_vec.Rds\", sep=\"\"))\n",
    "print(length(sample_id))\n",
    "print(head(sample_id, n= 3))"
   ]
  },
  {
   "cell_type": "code",
   "execution_count": null,
   "id": "c37b93ed",
   "metadata": {},
   "outputs": [],
   "source": [
    "%%R\n",
    "rxn2nodeLabel.nls <- list()\n",
    "nodeLabel2rxn.nls <- list()\n",
    "for(i in 1:length(X)){\n",
    "  rxn2nodeLabel.nls[[names(X)[i]]] <- i\n",
    "  nodeLabel2rxn.nls[[i]] <- names(X)[i]\n",
    "}\n",
    "\n",
    "E <- E %>%\n",
    "  dplyr::filter(V1 %in% names(rxn2nodeLabel.nls)) %>%\n",
    "  dplyr::filter(V3 %in% names(rxn2nodeLabel.nls)) %>%\n",
    "  dplyr::select(V1,V3)"
   ]
  },
  {
   "cell_type": "code",
   "execution_count": null,
   "id": "e70af5a9",
   "metadata": {},
   "outputs": [],
   "source": [
    "%%R\n",
    "write.table(E,\n",
    "            file=paste(IN_DIR,\"edgeLabels.csv\",sep=\"\"),\n",
    "            row.names = FALSE,\n",
    "            col.names = FALSE)\n",
    "\n",
    "node1 <- numeric()\n",
    "node2 <- numeric()\n",
    "for(i in 1:nrow(E)){\n",
    "  node1 <- c(node1,rxn2nodeLabel.nls[[as.character(E$V1[i])]])\n",
    "  node2 <- c(node2,rxn2nodeLabel.nls[[as.character(E$V3[i])]])\n",
    "}"
   ]
  },
  {
   "cell_type": "code",
   "execution_count": null,
   "id": "8dd6794e",
   "metadata": {},
   "outputs": [],
   "source": [
    "%%R\n",
    "z <- unlist(rxn2nodeLabel.nls)\n",
    "y <- unlist(nodeLabel2rxn.nls)\n",
    "\n",
    "assertthat::are_equal(length(z),length(y))"
   ]
  },
  {
   "cell_type": "code",
   "execution_count": null,
   "id": "b64975bd",
   "metadata": {},
   "outputs": [],
   "source": [
    "%%R\n",
    "write.table(z,\n",
    "            file=paste(IN_DIR,\"rxn2nodeLabel_nls.csv\",sep=\"\"),\n",
    "            row.names = TRUE,\n",
    "            col.names = FALSE)\n",
    "write.table(y,\n",
    "            file=paste(IN_DIR,\"nodeLabel2rxn_nls.csv\",sep=\"\"),\n",
    "            row.names = TRUE,\n",
    "            col.names = FALSE)\n",
    "\n",
    "E <- data.frame(node1 = node1,\n",
    "                node2 = node2)\n",
    "\n",
    "X <- as.data.frame(X)\n",
    "\n",
    "Y <- as.data.frame(Y)\n",
    "\n",
    "sample_id <- as.data.frame(sample_id)\n",
    "\n",
    "write.table(E,\n",
    "          file=paste(IN_DIR,\"edges.txt\",sep=\"\"),\n",
    "          row.names = FALSE,\n",
    "          col.names = FALSE)\n",
    "write.table(X,\n",
    "          file=paste(IN_DIR,\"node_features.txt\",sep=\"\"),\n",
    "          row.names = FALSE,\n",
    "          col.names = FALSE)\n",
    "write.table(Y,\n",
    "          file=paste(IN_DIR,\"graph_targets.txt\",sep=\"\"),\n",
    "          row.names = FALSE,\n",
    "          col.names = FALSE)\n",
    "write.table(sample_id,\n",
    "           file=paste(IN_DIR,\"sample_id.txt\", sep=\"\"),\n",
    "            row.names = FALSE,\n",
    "            col.names = FALSE,\n",
    "           )"
   ]
  }
 ],
 "metadata": {
  "kernelspec": {
   "display_name": "Python 3 (ipykernel)",
   "language": "python",
   "name": "python3"
  },
  "language_info": {
   "codemirror_mode": {
    "name": "ipython",
    "version": 3
   },
   "file_extension": ".py",
   "mimetype": "text/x-python",
   "name": "python",
   "nbconvert_exporter": "python",
   "pygments_lexer": "ipython3",
   "version": "3.9.21"
  }
 },
 "nbformat": 4,
 "nbformat_minor": 5
}
