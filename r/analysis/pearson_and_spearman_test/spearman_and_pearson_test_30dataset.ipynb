{
 "cells": [
  {
   "cell_type": "code",
   "execution_count": 1,
   "id": "065c6fd9",
   "metadata": {},
   "outputs": [],
   "source": [
    "%load_ext rpy2.ipython"
   ]
  },
  {
   "cell_type": "code",
   "execution_count": null,
   "id": "57aaa928",
   "metadata": {},
   "outputs": [],
   "source": [
    "%%R\n",
    "library(ggplot2)\n",
    "library(readr)\n",
    "library(gridExtra)\n",
    "library(dplyr)\n",
    "\n",
    "ig_30 <- read.csv(\"/mnt/home/yuankeji/RanceLab/reticula_new/reticula/data/tcdd/learning_curve_analysis/output/sorted_by_ig1030_time_course_30.csv\", sep=\"\\t\")\n",
    "ig_origin <- read.csv(\"/mnt/home/yuankeji/RanceLab/reticula_new/reticula/data/tcdd/output/sorted_by_ig1030_time_course.csv\", sep=\"\\t\")"
   ]
  },
  {
   "cell_type": "code",
   "execution_count": null,
   "id": "3b6ea0fb",
   "metadata": {},
   "outputs": [
    {
     "name": "stdout",
     "output_type": "stream",
     "text": [
      "Key: <start>\n",
      "           start index1 index2\n",
      "          <char>  <int>  <int>\n",
      "1: R-MMU-1006143    939   4565\n",
      "2: R-MMU-1011576   3632   2705\n",
      "3: R-MMU-1013012   2548    514\n",
      "4: R-MMU-1013013   2247    409\n",
      "5: R-MMU-1022127   3344   1077\n",
      "6: R-MMU-1028788   3986   2273\n"
     ]
    }
   ],
   "source": [
    "%%R\n",
    "library(data.table)\n",
    "\n",
    "ig_origin_dt <- as.data.table(ig_origin)\n",
    "ig_30_dt <- as.data.table(ig_30)\n",
    "\n",
    "ig_origin_dt <- ig_origin_dt[order(-ig_1), .SD[1], by = start][, index1 := frank(-ig_1, ties.method = \"first\")]\n",
    "ig_30_dt <- ig_30_dt[order(-ig_1), .SD[1], by = start][, index2 := frank(-ig_1, ties.method = \"first\")]\n",
    "\n",
    "table_dt <- ig_origin_dt[, .(start, index1)]\n",
    "table_dt <- merge(table_dt, ig_30_dt[, .(start, index2)], by = \"start\", all.x = TRUE)\n",
    "\n",
    "print(head(table_dt))\n"
   ]
  },
  {
   "cell_type": "code",
   "execution_count": null,
   "id": "a7e26275",
   "metadata": {},
   "outputs": [
    {
     "name": "stdout",
     "output_type": "stream",
     "text": [
      "[1] \"------pearson_correlations-------\"\n",
      "[1] \"ig_origin_vs_ig_30: rho = 0.2727, p-value = 6.884338e-82, t-value = 19.5449993301774\"\n"
     ]
    }
   ],
   "source": [
    "%%R\n",
    "columns_to_compare <- c(\"index2\")\n",
    "file_names <- c(\"ig_30\")\n",
    "\n",
    "pearson_correlations <- list()\n",
    "\n",
    "for (i in seq_along(columns_to_compare)) {\n",
    "  result <- cor.test(table_dt$index1, table_dt[[columns_to_compare[i]]], method = \"pearson\")\n",
    "  \n",
    "  pearson_correlations[[i]] <- list(\n",
    "    comparison = paste(\"ig_origin_vs\", file_names[i], sep = \"_\"),\n",
    "    rho = result$estimate,\n",
    "    p_value = result$p.value,\n",
    "    t_value = result$statistic\n",
    "  )\n",
    "}\n",
    "\n",
    "print(\"------pearson_correlations-------\")\n",
    "for (res in pearson_correlations) {\n",
    "  print(paste0(res$comparison, \": rho = \", round(res$rho, 4), \", p-value = \", format(res$p_value, scientific = TRUE), \", t-value = \", res$t_value))\n",
    "}\n"
   ]
  },
  {
   "cell_type": "code",
   "execution_count": null,
   "id": "992d2fb8",
   "metadata": {},
   "outputs": [
    {
     "name": "stdout",
     "output_type": "stream",
     "text": [
      "[1] \"------spearman_correlations-------\"\n",
      "[1] \"ig_origin_vs_ig_30: rho = 0.2727, p-value = 6.884338e-82, S-value = 13057294104\"\n"
     ]
    }
   ],
   "source": [
    "%%R\n",
    "columns_to_compare <- c(\"index2\")\n",
    "file_names <- c(\"ig_30\")\n",
    "\n",
    "spearman_correlations <- list()\n",
    "\n",
    "for (i in seq_along(columns_to_compare)) {\n",
    "  result <- cor.test(table_dt$index1, table_dt[[columns_to_compare[i]]], method = \"spearman\")\n",
    "  \n",
    "  spearman_correlations[[i]] <- list(\n",
    "    comparison = paste(\"ig_origin_vs\", file_names[i], sep = \"_\"),\n",
    "    rho = result$estimate,\n",
    "    p_value = result$p.value,\n",
    "    S_value = result$statistic\n",
    "  )\n",
    "}\n",
    "\n",
    "print(\"------spearman_correlations-------\")\n",
    "for (res in spearman_correlations) {\n",
    "  print(paste0(res$comparison, \": rho = \", round(res$rho, 4), \", p-value = \", format(res$p_value, scientific = TRUE), \", S-value = \", res$S_value))\n",
    "}\n"
   ]
  },
  {
   "cell_type": "code",
   "execution_count": null,
   "id": "8aeb436d",
   "metadata": {},
   "outputs": [],
   "source": []
  }
 ],
 "metadata": {
  "kernelspec": {
   "display_name": "Python 3 (ipykernel)",
   "language": "python",
   "name": "python3"
  },
  "language_info": {
   "codemirror_mode": {
    "name": "ipython",
    "version": 3
   },
   "file_extension": ".py",
   "mimetype": "text/x-python",
   "name": "python",
   "nbconvert_exporter": "python",
   "pygments_lexer": "ipython3",
   "version": "3.11.5"
  }
 },
 "nbformat": 4,
 "nbformat_minor": 5
}
