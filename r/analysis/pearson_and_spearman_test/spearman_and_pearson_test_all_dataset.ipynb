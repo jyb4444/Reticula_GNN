{
 "cells": [
  {
   "cell_type": "code",
   "execution_count": 1,
   "id": "55fe52ff",
   "metadata": {},
   "outputs": [],
   "source": [
    "%load_ext rpy2.ipython"
   ]
  },
  {
   "cell_type": "code",
   "execution_count": null,
   "id": "1d001827",
   "metadata": {},
   "outputs": [],
   "source": [
    "%%R\n",
    "library(ggplot2)\n",
    "library(readr)\n",
    "library(gridExtra)\n",
    "library(dplyr)\n",
    "\n",
    "ig_900 <- read.csv(\"/mnt/home/yuankeji/RanceLab/reticula_new/reticula/data/tcdd/learning_curve_analysis/output/sorted_by_ig1030_time_course_900.csv\", sep=\"\\t\")\n",
    "ig_901 <- read.csv(\"/mnt/home/yuankeji/RanceLab/reticula_new/reticula/data/tcdd/learning_curve_analysis/output/sorted_by_ig1030_time_course_901.csv\", sep=\"\\t\")\n",
    "ig_902 <- read.csv(\"/mnt/home/yuankeji/RanceLab/reticula_new/reticula/data/tcdd/learning_curve_analysis/output/sorted_by_ig1030_time_course_902.csv\", sep=\"\\t\")\n",
    "ig_903 <- read.csv(\"/mnt/home/yuankeji/RanceLab/reticula_new/reticula/data/tcdd/learning_curve_analysis/output/sorted_by_ig1030_time_course_903.csv\", sep=\"\\t\")\n",
    "ig_904 <- read.csv(\"/mnt/home/yuankeji/RanceLab/reticula_new/reticula/data/tcdd/learning_curve_analysis/output/sorted_by_ig1030_time_course_904.csv\", sep=\"\\t\")\n",
    "ig_905 <- read.csv(\"/mnt/home/yuankeji/RanceLab/reticula_new/reticula/data/tcdd/learning_curve_analysis/output/sorted_by_ig1030_time_course_905.csv\", sep=\"\\t\")\n",
    "ig_906 <- read.csv(\"/mnt/home/yuankeji/RanceLab/reticula_new/reticula/data/tcdd/learning_curve_analysis/output/sorted_by_ig1030_time_course_906.csv\", sep=\"\\t\")\n",
    "ig_907 <- read.csv(\"/mnt/home/yuankeji/RanceLab/reticula_new/reticula/data/tcdd/learning_curve_analysis/output/sorted_by_ig1030_time_course_907.csv\", sep=\"\\t\")\n",
    "ig_908 <- read.csv(\"/mnt/home/yuankeji/RanceLab/reticula_new/reticula/data/tcdd/learning_curve_analysis/output/sorted_by_ig1030_time_course_908.csv\", sep=\"\\t\")\n",
    "ig_909 <- read.csv(\"/mnt/home/yuankeji/RanceLab/reticula_new/reticula/data/tcdd/learning_curve_analysis/output/sorted_by_ig1030_time_course_909.csv\", sep=\"\\t\")\n",
    "ig_100 <- read.csv(\"/mnt/home/yuankeji/RanceLab/reticula_new/reticula/data/tcdd/output/sorted_by_ig1030_time_course.csv\", sep=\"\\t\")"
   ]
  },
  {
   "cell_type": "code",
   "execution_count": 126,
   "id": "54bf1f70",
   "metadata": {},
   "outputs": [
    {
     "name": "stdout",
     "output_type": "stream",
     "text": [
      "          used (Mb) gc trigger (Mb) max used (Mb)\n",
      "Ncells  829008 44.3    1571560   84  1503368 80.3\n",
      "Vcells 3426518 26.2    8388608   64  8386239 64.0\n"
     ]
    }
   ],
   "source": [
    "%%R\n",
    "gc()"
   ]
  },
  {
   "cell_type": "code",
   "execution_count": null,
   "id": "eae81794",
   "metadata": {},
   "outputs": [
    {
     "name": "stdout",
     "output_type": "stream",
     "text": [
      "Key: <start>\n",
      "           start index1 index2 index3 index4 index5 index6 index7 index8 index9\n",
      "          <char>  <int>  <int>  <int>  <int>  <int>  <int>  <int>  <int>  <int>\n",
      "1: R-MMU-1006143    939   2163   2238   2592   1663   1073   1580   2119   1959\n",
      "2: R-MMU-1011576   3632   4223   2419   1699   3225   4687   4618   2591   2038\n",
      "3: R-MMU-1013012   2548    811   1246   3687    357   2904    869    981    252\n",
      "4: R-MMU-1013013   2247   3717   4752    497   1185   3030     66   4181   1882\n",
      "5: R-MMU-1022127   3344   1898   4305   1424   3612   2800   2062   4280   4190\n",
      "6: R-MMU-1028788   3986   3222   4306   3408   2918   4490   2601   4735   2399\n",
      "   index10 index11\n",
      "     <int>   <int>\n",
      "1:    2766    1902\n",
      "2:    2725    2386\n",
      "3:    1095    1729\n",
      "4:    1519    1788\n",
      "5:    2995    3357\n",
      "6:    3868    2905\n"
     ]
    }
   ],
   "source": [
    "%%R\n",
    "library(data.table)\n",
    "\n",
    "ig_100_dt <- as.data.table(ig_100)\n",
    "ig_900_dt <- as.data.table(ig_900)\n",
    "ig_901_dt <- as.data.table(ig_901)\n",
    "ig_902_dt <- as.data.table(ig_902)\n",
    "ig_903_dt <- as.data.table(ig_903)\n",
    "ig_904_dt <- as.data.table(ig_904)\n",
    "ig_905_dt <- as.data.table(ig_905)\n",
    "ig_906_dt <- as.data.table(ig_906)\n",
    "ig_907_dt <- as.data.table(ig_907)\n",
    "ig_908_dt <- as.data.table(ig_908)\n",
    "ig_909_dt <- as.data.table(ig_909)\n",
    "\n",
    "ig_100_dt <- ig_100_dt[order(-ig_1), .SD[1], by = start][, index1 := frank(-ig_1, ties.method = \"first\")]\n",
    "ig_900_dt <- ig_900_dt[order(-ig_1), .SD[1], by = start][, index2 := frank(-ig_1, ties.method = \"first\")]\n",
    "ig_901_dt <- ig_901_dt[order(-ig_1), .SD[1], by = start][, index3 := frank(-ig_1, ties.method = \"first\")]\n",
    "ig_902_dt <- ig_902_dt[order(-ig_1), .SD[1], by = start][, index4 := frank(-ig_1, ties.method = \"first\")]\n",
    "ig_903_dt <- ig_903_dt[order(-ig_1), .SD[1], by = start][, index5 := frank(-ig_1, ties.method = \"first\")]\n",
    "ig_904_dt <- ig_904_dt[order(-ig_1), .SD[1], by = start][, index6 := frank(-ig_1, ties.method = \"first\")]\n",
    "ig_905_dt <- ig_905_dt[order(-ig_1), .SD[1], by = start][, index7 := frank(-ig_1, ties.method = \"first\")]\n",
    "ig_906_dt <- ig_906_dt[order(-ig_1), .SD[1], by = start][, index8 := frank(-ig_1, ties.method = \"first\")]\n",
    "ig_907_dt <- ig_907_dt[order(-ig_1), .SD[1], by = start][, index9 := frank(-ig_1, ties.method = \"first\")]\n",
    "ig_908_dt <- ig_908_dt[order(-ig_1), .SD[1], by = start][, index10 := frank(-ig_1, ties.method = \"first\")]\n",
    "ig_909_dt <- ig_909_dt[order(-ig_1), .SD[1], by = start][, index11 := frank(-ig_1, ties.method = \"first\")]\n",
    "\n",
    "table_dt <- ig_100_dt[, .(start, index1)]\n",
    "table_dt <- merge(table_dt, ig_900_dt[, .(start, index2)], by = \"start\", all.x = TRUE)\n",
    "table_dt <- merge(table_dt, ig_901_dt[, .(start, index3)], by = \"start\", all.x = TRUE)\n",
    "table_dt <- merge(table_dt, ig_902_dt[, .(start, index4)], by = \"start\", all.x = TRUE)\n",
    "table_dt <- merge(table_dt, ig_903_dt[, .(start, index5)], by = \"start\", all.x = TRUE)\n",
    "table_dt <- merge(table_dt, ig_904_dt[, .(start, index6)], by = \"start\", all.x = TRUE)\n",
    "table_dt <- merge(table_dt, ig_905_dt[, .(start, index7)], by = \"start\", all.x = TRUE)\n",
    "table_dt <- merge(table_dt, ig_906_dt[, .(start, index8)], by = \"start\", all.x = TRUE)\n",
    "table_dt <- merge(table_dt, ig_907_dt[, .(start, index9)], by = \"start\", all.x = TRUE)\n",
    "table_dt <- merge(table_dt, ig_908_dt[, .(start, index10)], by = \"start\", all.x = TRUE)\n",
    "table_dt <- merge(table_dt, ig_909_dt[, .(start, index11)], by = \"start\", all.x = TRUE)\n",
    "\n",
    "print(head(table_dt))\n"
   ]
  },
  {
   "cell_type": "code",
   "execution_count": null,
   "id": "bc3dceef",
   "metadata": {},
   "outputs": [
    {
     "name": "stdout",
     "output_type": "stream",
     "text": [
      "[1] \"------pearson_correlations-------\"\n",
      "[1] \"ig_100_vs_ig_900: rho = 0.5081, p-value = 9.761633e-311, t-value = 40.6801042928126\"\n",
      "[1] \"ig_100_vs_ig_901: rho = 0.3366, p-value = 2.043399e-126, t-value = 24.6557465888578\"\n",
      "[1] \"ig_100_vs_ig_902: rho = 0.2577, p-value = 4.946882e-73, t-value = 18.3916914560203\"\n",
      "[1] \"ig_100_vs_ig_903: rho = 0.3962, p-value = 1.229777e-178, t-value = 29.7610056713654\"\n",
      "[1] \"ig_100_vs_ig_904: rho = 0.5267, p-value = 0e+00, t-value = 42.7319350966695\"\n",
      "[1] \"ig_100_vs_ig_905: rho = 0.2155, p-value = 4.266573e-51, t-value = 15.2172699697858\"\n",
      "[1] \"ig_100_vs_ig_906: rho = 0.3211, p-value = 1.45831e-114, t-value = 23.3837139837166\"\n",
      "[1] \"ig_100_vs_ig_907: rho = 0.5089, p-value = 7.373478e-312, t-value = 40.7656034558035\"\n",
      "[1] \"ig_100_vs_ig_908: rho = 0.2848, p-value = 1.780224e-89, t-value = 20.4890102781432\"\n",
      "[1] \"ig_100_vs_ig_909: rho = 0.2166, p-value = 1.219278e-51, t-value = 15.3030040181758\"\n"
     ]
    }
   ],
   "source": [
    "%%R\n",
    "columns_to_compare <- c(\"index2\", \"index3\", \"index4\", \"index5\", \"index6\", \"index7\", \"index8\", \"index9\", \"index10\", \"index11\")\n",
    "file_names <- c(\"ig_900\",\"ig_901\", \"ig_902\", \"ig_903\", \"ig_904\", \"ig_905\", \"ig_906\", \"ig_907\", \"ig_908\", \"ig_909\")\n",
    "\n",
    "pearson_correlations <- list()\n",
    "\n",
    "for (i in seq_along(columns_to_compare)) {\n",
    "  result <- cor.test(table_dt$index1, table_dt[[columns_to_compare[i]]], method = \"pearson\")\n",
    "  \n",
    "  pearson_correlations[[i]] <- list(\n",
    "    comparison = paste(\"ig_100_vs\", file_names[i], sep = \"_\"),\n",
    "    rho = result$estimate,\n",
    "    p_value = result$p.value,\n",
    "    t_value = result$statistic\n",
    "  )\n",
    "}\n",
    "\n",
    "print(\"------pearson_correlations-------\")\n",
    "for (res in pearson_correlations) {\n",
    "  print(paste0(res$comparison, \": rho = \", round(res$rho, 4), \", p-value = \", format(res$p_value, scientific = TRUE), \", t-value = \", res$t_value))\n",
    "}\n"
   ]
  },
  {
   "cell_type": "code",
   "execution_count": null,
   "id": "3566d8fe",
   "metadata": {},
   "outputs": [
    {
     "name": "stdout",
     "output_type": "stream",
     "text": [
      "[1] \"------spearman_correlations-------\"\n",
      "[1] \"ig_100_vs_ig_900: rho = 0.5081, p-value = 9.761633e-311, S-value = 8831314716\"\n",
      "[1] \"ig_100_vs_ig_901: rho = 0.3366, p-value = 2.043399e-126, S-value = 11908725964\"\n",
      "[1] \"ig_100_vs_ig_902: rho = 0.2577, p-value = 4.946882e-73, S-value = 13326404142\"\n",
      "[1] \"ig_100_vs_ig_903: rho = 0.3962, p-value = 1.229777e-178, S-value = 10839197492\"\n",
      "[1] \"ig_100_vs_ig_904: rho = 0.5267, p-value = 0e+00, S-value = 8496650484\"\n",
      "[1] \"ig_100_vs_ig_905: rho = 0.2155, p-value = 4.266573e-51, S-value = 14084130840\"\n",
      "[1] \"ig_100_vs_ig_906: rho = 0.3211, p-value = 1.45831e-114, S-value = 12187597132\"\n",
      "[1] \"ig_100_vs_ig_907: rho = 0.5089, p-value = 7.373478e-312, S-value = 8817104630\"\n",
      "[1] \"ig_100_vs_ig_908: rho = 0.2848, p-value = 1.780224e-89, S-value = 12839633490\"\n",
      "[1] \"ig_100_vs_ig_909: rho = 0.2166, p-value = 1.219278e-51, S-value = 14063357150\"\n"
     ]
    }
   ],
   "source": [
    "%%R\n",
    "columns_to_compare <- c(\"index2\", \"index3\", \"index4\", \"index5\", \"index6\", \"index7\", \"index8\", \"index9\", \"index10\", \"index11\")\n",
    "file_names <- c(\"ig_900\", \"ig_901\", \"ig_902\", \"ig_903\", \"ig_904\", \"ig_905\", \"ig_906\", \"ig_907\", \"ig_908\", \"ig_909\")\n",
    "\n",
    "spearman_correlations <- list()\n",
    "\n",
    "for (i in seq_along(columns_to_compare)) {\n",
    "  result <- cor.test(table_dt$index1, table_dt[[columns_to_compare[i]]], method = \"spearman\")\n",
    "  \n",
    "  spearman_correlations[[i]] <- list(\n",
    "    comparison = paste(\"ig_100_vs\", file_names[i], sep = \"_\"),\n",
    "    rho = result$estimate,\n",
    "    p_value = result$p.value,\n",
    "    S_value = result$statistic\n",
    "  )\n",
    "}\n",
    "\n",
    "print(\"------spearman_correlations-------\")\n",
    "for (res in spearman_correlations) {\n",
    "  print(paste0(res$comparison, \": rho = \", round(res$rho, 4), \", p-value = \", format(res$p_value, scientific = TRUE), \", S-value = \", res$S_value))\n",
    "}\n"
   ]
  },
  {
   "cell_type": "code",
   "execution_count": null,
   "id": "ff8dcc6c",
   "metadata": {},
   "outputs": [],
   "source": [
    "%%R\n",
    "library(ggplot2)\n",
    "library(readr)\n",
    "library(gridExtra)\n",
    "library(dplyr)\n",
    "\n",
    "ig_80 <- read.csv(\"/mnt/home/yuankeji/RanceLab/reticula_new/reticula/data/tcdd/learning_curve_analysis/output/sorted_by_ig1030_time_course_80.csv\", sep=\"\\t\")\n",
    "ig_origin <- read.csv(\"/mnt/home/yuankeji/RanceLab/reticula_new/reticula/data/tcdd/output/sorted_by_ig1030_time_course.csv\", sep=\"\\t\")"
   ]
  },
  {
   "cell_type": "code",
   "execution_count": null,
   "id": "8d589e03",
   "metadata": {},
   "outputs": [
    {
     "name": "stdout",
     "output_type": "stream",
     "text": [
      "Key: <start>\n",
      "           start index1 index2\n",
      "          <char>  <int>  <int>\n",
      "1: R-MMU-1006143    939    803\n",
      "2: R-MMU-1011576   3632   2008\n",
      "3: R-MMU-1013012   2548    434\n",
      "4: R-MMU-1013013   2247    574\n",
      "5: R-MMU-1022127   3344   3711\n",
      "6: R-MMU-1028788   3986   4668\n"
     ]
    }
   ],
   "source": [
    "%%R\n",
    "library(data.table)\n",
    "\n",
    "ig_origin_dt <- as.data.table(ig_origin)\n",
    "ig_80_dt <- as.data.table(ig_80)\n",
    "\n",
    "ig_origin_dt <- ig_origin_dt[order(-ig_1), .SD[1], by = start][, index1 := frank(-ig_1, ties.method = \"first\")]\n",
    "ig_80_dt <- ig_80_dt[order(-ig_1), .SD[1], by = start][, index2 := frank(-ig_1, ties.method = \"first\")]\n",
    "\n",
    "table_dt <- ig_origin_dt[, .(start, index1)]\n",
    "table_dt <- merge(table_dt, ig_80_dt[, .(start, index2)], by = \"start\", all.x = TRUE)\n",
    "\n",
    "print(head(table_dt))\n"
   ]
  },
  {
   "cell_type": "code",
   "execution_count": null,
   "id": "d212e884",
   "metadata": {},
   "outputs": [
    {
     "name": "stdout",
     "output_type": "stream",
     "text": [
      "[1] \"------pearson_correlations-------\"\n",
      "[1] \"ig_100_vs_ig_900: rho = 0.5081, p-value = 9.761633e-311, t-value = 40.6801042928126\"\n",
      "[1] \"ig_100_vs_ig_901: rho = 0.3366, p-value = 2.043399e-126, t-value = 24.6557465888578\"\n",
      "[1] \"ig_100_vs_ig_902: rho = 0.2577, p-value = 4.946882e-73, t-value = 18.3916914560203\"\n",
      "[1] \"ig_100_vs_ig_903: rho = 0.3962, p-value = 1.229777e-178, t-value = 29.7610056713654\"\n",
      "[1] \"ig_100_vs_ig_904: rho = 0.5267, p-value = 0e+00, t-value = 42.7319350966695\"\n",
      "[1] \"ig_100_vs_ig_905: rho = 0.2155, p-value = 4.266573e-51, t-value = 15.2172699697858\"\n",
      "[1] \"ig_100_vs_ig_906: rho = 0.3211, p-value = 1.45831e-114, t-value = 23.3837139837166\"\n",
      "[1] \"ig_100_vs_ig_907: rho = 0.5089, p-value = 7.373478e-312, t-value = 40.7656034558035\"\n",
      "[1] \"ig_100_vs_ig_908: rho = 0.2848, p-value = 1.780224e-89, t-value = 20.4890102781432\"\n",
      "[1] \"ig_100_vs_ig_909: rho = 0.2166, p-value = 1.219278e-51, t-value = 15.3030040181758\"\n",
      "[1] \"ig_origin_vs_ig_80: rho = 0.3954, p-value = 7.099827e-178, t-value = 29.6911465979497\"\n"
     ]
    }
   ],
   "source": [
    "%%R\n",
    "columns_to_compare <- c(\"index2\")\n",
    "file_names <- c(\"ig_80\")\n",
    "\n",
    "result <- cor.test(table_dt$index1, table_dt$index2, method = \"pearson\")\n",
    "\n",
    "pearson_correlations[[length(pearson_correlations) + 1]] <- list(\n",
    "    comparison = paste(\"ig_origin_vs\", file_names, sep = \"_\"),\n",
    "    rho = result$estimate,\n",
    "    p_value = result$p.value,\n",
    "    t_value = result$statistic\n",
    ")\n",
    "\n",
    "\n",
    "print(\"------pearson_correlations-------\")\n",
    "for (res in pearson_correlations) {\n",
    "  print(paste0(res$comparison, \": rho = \", round(res$rho, 4), \", p-value = \", format(res$p_value, scientific = TRUE), \", t-value = \", res$t_value))\n",
    "}\n"
   ]
  },
  {
   "cell_type": "code",
   "execution_count": null,
   "id": "e926074e",
   "metadata": {},
   "outputs": [
    {
     "name": "stdout",
     "output_type": "stream",
     "text": [
      "[1] \"------spearman_correlations-------\"\n",
      "[1] \"ig_100_vs_ig_900: rho = 0.5081, p-value = 9.761633e-311, S-value = 8831314716\"\n",
      "[1] \"ig_100_vs_ig_901: rho = 0.3366, p-value = 2.043399e-126, S-value = 11908725964\"\n",
      "[1] \"ig_100_vs_ig_902: rho = 0.2577, p-value = 4.946882e-73, S-value = 13326404142\"\n",
      "[1] \"ig_100_vs_ig_903: rho = 0.3962, p-value = 1.229777e-178, S-value = 10839197492\"\n",
      "[1] \"ig_100_vs_ig_904: rho = 0.5267, p-value = 0e+00, S-value = 8496650484\"\n",
      "[1] \"ig_100_vs_ig_905: rho = 0.2155, p-value = 4.266573e-51, S-value = 14084130840\"\n",
      "[1] \"ig_100_vs_ig_906: rho = 0.3211, p-value = 1.45831e-114, S-value = 12187597132\"\n",
      "[1] \"ig_100_vs_ig_907: rho = 0.5089, p-value = 7.373478e-312, S-value = 8817104630\"\n",
      "[1] \"ig_100_vs_ig_908: rho = 0.2848, p-value = 1.780224e-89, S-value = 12839633490\"\n",
      "[1] \"ig_100_vs_ig_909: rho = 0.2166, p-value = 1.219278e-51, S-value = 14063357150\"\n",
      "[1] \"ig_origin_vs_ig_80: rho = 0.3954, p-value = 7.099827e-178, S-value = \"\n"
     ]
    }
   ],
   "source": [
    "%%R\n",
    "columns_to_compare <- c(\"index2\")\n",
    "file_names <- c(\"ig_80\")\n",
    "\n",
    "result <- cor.test(table_dt$index1, table_dt$index2, method = \"spearman\")\n",
    "  \n",
    "spearman_correlations[[length(spearman_correlations) + 1]] <- list(\n",
    "    comparison = paste(\"ig_origin_vs\", file_names, sep = \"_\"),\n",
    "    rho = result$estimate,\n",
    "    p_value = result$p.value,\n",
    "    t_value = result$statistic\n",
    ")\n",
    "\n",
    "\n",
    "print(\"------spearman_correlations-------\")\n",
    "for (res in spearman_correlations) {\n",
    "  print(paste0(res$comparison, \": rho = \", round(res$rho, 4), \", p-value = \", format(res$p_value, scientific = TRUE), \", S-value = \", res$S_value))\n",
    "}\n"
   ]
  },
  {
   "cell_type": "code",
   "execution_count": null,
   "id": "be34b6d8",
   "metadata": {},
   "outputs": [],
   "source": [
    "%%R\n",
    "library(ggplot2)\n",
    "library(readr)\n",
    "library(gridExtra)\n",
    "library(dplyr)\n",
    "\n",
    "ig_70 <- read.csv(\"/mnt/home/yuankeji/RanceLab/reticula_new/reticula/data/tcdd/learning_curve_analysis/output/sorted_by_ig1030_time_course_70.csv\", sep=\"\\t\")\n",
    "ig_origin <- read.csv(\"/mnt/home/yuankeji/RanceLab/reticula_new/reticula/data/tcdd/output/sorted_by_ig1030_time_course.csv\", sep=\"\\t\")"
   ]
  },
  {
   "cell_type": "code",
   "execution_count": null,
   "id": "201f5928",
   "metadata": {},
   "outputs": [
    {
     "name": "stdout",
     "output_type": "stream",
     "text": [
      "Key: <start>\n",
      "           start index1 index2\n",
      "          <char>  <int>  <int>\n",
      "1: R-MMU-1006143    939   1572\n",
      "2: R-MMU-1011576   3632   1439\n",
      "3: R-MMU-1013012   2548    551\n",
      "4: R-MMU-1013013   2247   1692\n",
      "5: R-MMU-1022127   3344   1282\n",
      "6: R-MMU-1028788   3986   1865\n"
     ]
    }
   ],
   "source": [
    "%%R\n",
    "library(data.table)\n",
    "\n",
    "ig_origin_dt <- as.data.table(ig_origin)\n",
    "ig_70_dt <- as.data.table(ig_70)\n",
    "\n",
    "ig_origin_dt <- ig_origin_dt[order(-ig_1), .SD[1], by = start][, index1 := frank(-ig_1, ties.method = \"first\")]\n",
    "ig_70_dt <- ig_70_dt[order(-ig_1), .SD[1], by = start][, index2 := frank(-ig_1, ties.method = \"first\")]\n",
    "\n",
    "table_dt <- ig_origin_dt[, .(start, index1)]\n",
    "table_dt <- merge(table_dt, ig_70_dt[, .(start, index2)], by = \"start\", all.x = TRUE)\n",
    "\n",
    "print(head(table_dt))\n"
   ]
  },
  {
   "cell_type": "code",
   "execution_count": null,
   "id": "11316b80",
   "metadata": {},
   "outputs": [
    {
     "name": "stdout",
     "output_type": "stream",
     "text": [
      "[1] \"------pearson_correlations-------\"\n",
      "[1] \"ig_100_vs_ig_900: rho = 0.5081, p-value = 9.761633e-311, t-value = 40.6801042928126\"\n",
      "[1] \"ig_100_vs_ig_901: rho = 0.3366, p-value = 2.043399e-126, t-value = 24.6557465888578\"\n",
      "[1] \"ig_100_vs_ig_902: rho = 0.2577, p-value = 4.946882e-73, t-value = 18.3916914560203\"\n",
      "[1] \"ig_100_vs_ig_903: rho = 0.3962, p-value = 1.229777e-178, t-value = 29.7610056713654\"\n",
      "[1] \"ig_100_vs_ig_904: rho = 0.5267, p-value = 0e+00, t-value = 42.7319350966695\"\n",
      "[1] \"ig_100_vs_ig_905: rho = 0.2155, p-value = 4.266573e-51, t-value = 15.2172699697858\"\n",
      "[1] \"ig_100_vs_ig_906: rho = 0.3211, p-value = 1.45831e-114, t-value = 23.3837139837166\"\n",
      "[1] \"ig_100_vs_ig_907: rho = 0.5089, p-value = 7.373478e-312, t-value = 40.7656034558035\"\n",
      "[1] \"ig_100_vs_ig_908: rho = 0.2848, p-value = 1.780224e-89, t-value = 20.4890102781432\"\n",
      "[1] \"ig_100_vs_ig_909: rho = 0.2166, p-value = 1.219278e-51, t-value = 15.3030040181758\"\n",
      "[1] \"ig_origin_vs_ig_80: rho = 0.3954, p-value = 7.099827e-178, t-value = 29.6911465979497\"\n",
      "[1] \"ig_origin_vs_ig_70: rho = 0.4971, p-value = 1.83537e-295, t-value = 39.5071016234389\"\n"
     ]
    }
   ],
   "source": [
    "%%R\n",
    "columns_to_compare <- c(\"index2\")\n",
    "file_names <- c(\"ig_70\")\n",
    "\n",
    "result <- cor.test(table_dt$index1, table_dt$index2, method = \"pearson\")\n",
    "  \n",
    "pearson_correlations[[length(pearson_correlations) + 1]] <- list(\n",
    "    comparison = paste(\"ig_origin_vs\", file_names, sep = \"_\"),\n",
    "    rho = result$estimate,\n",
    "    p_value = result$p.value,\n",
    "    t_value = result$statistic\n",
    ")\n",
    "\n",
    "print(\"------pearson_correlations-------\")\n",
    "for (res in pearson_correlations) {\n",
    "  print(paste0(res$comparison, \": rho = \", round(res$rho, 4), \", p-value = \", format(res$p_value, scientific = TRUE), \", t-value = \", res$t_value))\n",
    "}\n"
   ]
  },
  {
   "cell_type": "code",
   "execution_count": null,
   "id": "f30f331f",
   "metadata": {},
   "outputs": [
    {
     "name": "stdout",
     "output_type": "stream",
     "text": [
      "[1] \"------spearman_correlations-------\"\n",
      "[1] \"ig_100_vs_ig_900: rho = 0.5081, p-value = 9.761633e-311, S-value = 8831314716\"\n",
      "[1] \"ig_100_vs_ig_901: rho = 0.3366, p-value = 2.043399e-126, S-value = 11908725964\"\n",
      "[1] \"ig_100_vs_ig_902: rho = 0.2577, p-value = 4.946882e-73, S-value = 13326404142\"\n",
      "[1] \"ig_100_vs_ig_903: rho = 0.3962, p-value = 1.229777e-178, S-value = 10839197492\"\n",
      "[1] \"ig_100_vs_ig_904: rho = 0.5267, p-value = 0e+00, S-value = 8496650484\"\n",
      "[1] \"ig_100_vs_ig_905: rho = 0.2155, p-value = 4.266573e-51, S-value = 14084130840\"\n",
      "[1] \"ig_100_vs_ig_906: rho = 0.3211, p-value = 1.45831e-114, S-value = 12187597132\"\n",
      "[1] \"ig_100_vs_ig_907: rho = 0.5089, p-value = 7.373478e-312, S-value = 8817104630\"\n",
      "[1] \"ig_100_vs_ig_908: rho = 0.2848, p-value = 1.780224e-89, S-value = 12839633490\"\n",
      "[1] \"ig_100_vs_ig_909: rho = 0.2166, p-value = 1.219278e-51, S-value = 14063357150\"\n",
      "[1] \"ig_origin_vs_ig_80: rho = 0.3954, p-value = 7.099827e-178, S-value = \"\n",
      "[1] \"ig_origin_vs_ig_70: rho = 0.4971, p-value = 1.83537e-295, S-value = 9028612502\"\n"
     ]
    }
   ],
   "source": [
    "%%R\n",
    "columns_to_compare <- c(\"index2\")\n",
    "file_names <- c(\"ig_70\")\n",
    "\n",
    "result <- cor.test(table_dt$index1, table_dt$index2, method = \"spearman\")\n",
    "\n",
    "spearman_correlations[[length(spearman_correlations) + 1]] <- list(\n",
    "    comparison = paste(\"ig_origin_vs\", file_names, sep = \"_\"),\n",
    "    rho = result$estimate,\n",
    "    p_value = result$p.value,\n",
    "    S_value = result$statistic\n",
    ")\n",
    "\n",
    "print(\"------spearman_correlations-------\")\n",
    "for (res in spearman_correlations) {\n",
    "  print(paste0(res$comparison, \": rho = \", round(res$rho, 4), \", p-value = \", format(res$p_value, scientific = TRUE), \", S-value = \", res$S_value))\n",
    "}\n"
   ]
  },
  {
   "cell_type": "code",
   "execution_count": null,
   "id": "7bb7b605",
   "metadata": {},
   "outputs": [],
   "source": [
    "%%R\n",
    "library(ggplot2)\n",
    "library(readr)\n",
    "library(gridExtra)\n",
    "library(dplyr)\n",
    "\n",
    "ig_60 <- read.csv(\"/mnt/home/yuankeji/RanceLab/reticula_new/reticula/data/tcdd/learning_curve_analysis/output/sorted_by_ig1030_time_course_60.csv\", sep=\"\\t\")\n",
    "ig_origin <- read.csv(\"/mnt/home/yuankeji/RanceLab/reticula_new/reticula/data/tcdd/output/sorted_by_ig1030_time_course.csv\", sep=\"\\t\")"
   ]
  },
  {
   "cell_type": "code",
   "execution_count": null,
   "id": "9eb79e60",
   "metadata": {},
   "outputs": [
    {
     "name": "stdout",
     "output_type": "stream",
     "text": [
      "Key: <start>\n",
      "           start index1 index2\n",
      "          <char>  <int>  <int>\n",
      "1: R-MMU-1006143    939   2675\n",
      "2: R-MMU-1011576   3632   3768\n",
      "3: R-MMU-1013012   2548    686\n",
      "4: R-MMU-1013013   2247   1646\n",
      "5: R-MMU-1022127   3344   1257\n",
      "6: R-MMU-1028788   3986   3427\n"
     ]
    }
   ],
   "source": [
    "%%R\n",
    "library(data.table)\n",
    "\n",
    "ig_origin_dt <- as.data.table(ig_origin)\n",
    "ig_60_dt <- as.data.table(ig_60)\n",
    "\n",
    "ig_origin_dt <- ig_origin_dt[order(-ig_1), .SD[1], by = start][, index1 := frank(-ig_1, ties.method = \"first\")]\n",
    "ig_60_dt <- ig_60_dt[order(-ig_1), .SD[1], by = start][, index2 := frank(-ig_1, ties.method = \"first\")]\n",
    "\n",
    "table_dt <- ig_origin_dt[, .(start, index1)]\n",
    "table_dt <- merge(table_dt, ig_60_dt[, .(start, index2)], by = \"start\", all.x = TRUE)\n",
    "\n",
    "print(head(table_dt))\n"
   ]
  },
  {
   "cell_type": "code",
   "execution_count": null,
   "id": "769e5ad2",
   "metadata": {},
   "outputs": [
    {
     "name": "stdout",
     "output_type": "stream",
     "text": [
      "[1] \"------pearson_correlations-------\"\n",
      "[1] \"ig_100_vs_ig_900: rho = 0.5081, p-value = 9.761633e-311, t-value = 40.6801042928126\"\n",
      "[1] \"ig_100_vs_ig_901: rho = 0.3366, p-value = 2.043399e-126, t-value = 24.6557465888578\"\n",
      "[1] \"ig_100_vs_ig_902: rho = 0.2577, p-value = 4.946882e-73, t-value = 18.3916914560203\"\n",
      "[1] \"ig_100_vs_ig_903: rho = 0.3962, p-value = 1.229777e-178, t-value = 29.7610056713654\"\n",
      "[1] \"ig_100_vs_ig_904: rho = 0.5267, p-value = 0e+00, t-value = 42.7319350966695\"\n",
      "[1] \"ig_100_vs_ig_905: rho = 0.2155, p-value = 4.266573e-51, t-value = 15.2172699697858\"\n",
      "[1] \"ig_100_vs_ig_906: rho = 0.3211, p-value = 1.45831e-114, t-value = 23.3837139837166\"\n",
      "[1] \"ig_100_vs_ig_907: rho = 0.5089, p-value = 7.373478e-312, t-value = 40.7656034558035\"\n",
      "[1] \"ig_100_vs_ig_908: rho = 0.2848, p-value = 1.780224e-89, t-value = 20.4890102781432\"\n",
      "[1] \"ig_100_vs_ig_909: rho = 0.2166, p-value = 1.219278e-51, t-value = 15.3030040181758\"\n",
      "[1] \"ig_origin_vs_ig_80: rho = 0.3954, p-value = 7.099827e-178, t-value = 29.6911465979497\"\n",
      "[1] \"ig_origin_vs_ig_70: rho = 0.4971, p-value = 1.83537e-295, t-value = 39.5071016234389\"\n",
      "[1] \"ig_origin_vs_ig_60: rho = 0.3318, p-value = 1.193669e-122, t-value = 24.2571904087979\"\n"
     ]
    }
   ],
   "source": [
    "%%R\n",
    "columns_to_compare <- c(\"index2\")\n",
    "file_names <- c(\"ig_60\")\n",
    "\n",
    "result <- cor.test(table_dt$index1, table_dt$index2, method = \"pearson\")\n",
    "  \n",
    "pearson_correlations[[length(pearson_correlations) + 1]] <- list(\n",
    "    comparison = paste(\"ig_origin_vs\", file_names, sep = \"_\"),\n",
    "    rho = result$estimate,\n",
    "    p_value = result$p.value,\n",
    "    t_value = result$statistic\n",
    ")\n",
    "\n",
    "\n",
    "print(\"------pearson_correlations-------\")\n",
    "for (res in pearson_correlations) {\n",
    "  print(paste0(res$comparison, \": rho = \", round(res$rho, 4), \", p-value = \", format(res$p_value, scientific = TRUE), \", t-value = \", res$t_value))\n",
    "}\n"
   ]
  },
  {
   "cell_type": "code",
   "execution_count": null,
   "id": "8c188f57",
   "metadata": {},
   "outputs": [
    {
     "name": "stdout",
     "output_type": "stream",
     "text": [
      "[1] \"------spearman_correlations-------\"\n",
      "[1] \"ig_100_vs_ig_900: rho = 0.5081, p-value = 9.761633e-311, S-value = 8831314716\"\n",
      "[1] \"ig_100_vs_ig_901: rho = 0.3366, p-value = 2.043399e-126, S-value = 11908725964\"\n",
      "[1] \"ig_100_vs_ig_902: rho = 0.2577, p-value = 4.946882e-73, S-value = 13326404142\"\n",
      "[1] \"ig_100_vs_ig_903: rho = 0.3962, p-value = 1.229777e-178, S-value = 10839197492\"\n",
      "[1] \"ig_100_vs_ig_904: rho = 0.5267, p-value = 0e+00, S-value = 8496650484\"\n",
      "[1] \"ig_100_vs_ig_905: rho = 0.2155, p-value = 4.266573e-51, S-value = 14084130840\"\n",
      "[1] \"ig_100_vs_ig_906: rho = 0.3211, p-value = 1.45831e-114, S-value = 12187597132\"\n",
      "[1] \"ig_100_vs_ig_907: rho = 0.5089, p-value = 7.373478e-312, S-value = 8817104630\"\n",
      "[1] \"ig_100_vs_ig_908: rho = 0.2848, p-value = 1.780224e-89, S-value = 12839633490\"\n",
      "[1] \"ig_100_vs_ig_909: rho = 0.2166, p-value = 1.219278e-51, S-value = 14063357150\"\n",
      "[1] \"ig_origin_vs_ig_80: rho = 0.3954, p-value = 7.099827e-178, S-value = \"\n",
      "[1] \"ig_origin_vs_ig_70: rho = 0.4971, p-value = 1.83537e-295, S-value = 9028612502\"\n",
      "[1] \"ig_origin_vs_ig_60: rho = 0.3318, p-value = 1.193669e-122, S-value = 11995586142\"\n"
     ]
    }
   ],
   "source": [
    "%%R\n",
    "columns_to_compare <- c(\"index2\")\n",
    "file_names <- c(\"ig_60\")\n",
    "\n",
    "result <- cor.test(table_dt$index1, table_dt$index2, method = \"spearman\")\n",
    "\n",
    "spearman_correlations[[length(spearman_correlations) + 1]] <- list(\n",
    "comparison = paste(\"ig_origin_vs\", file_names, sep = \"_\"),\n",
    "    rho = result$estimate,\n",
    "    p_value = result$p.value,\n",
    "    S_value = result$statistic\n",
    ")\n",
    "\n",
    "print(\"------spearman_correlations-------\")\n",
    "for (res in spearman_correlations) {\n",
    "  print(paste0(res$comparison, \": rho = \", round(res$rho, 4), \", p-value = \", format(res$p_value, scientific = TRUE), \", S-value = \", res$S_value))\n",
    "}\n"
   ]
  },
  {
   "cell_type": "code",
   "execution_count": null,
   "id": "c0cf16b6",
   "metadata": {},
   "outputs": [],
   "source": [
    "%%R\n",
    "library(ggplot2)\n",
    "library(readr)\n",
    "library(gridExtra)\n",
    "library(dplyr)\n",
    "\n",
    "ig_50 <- read.csv(\"/mnt/home/yuankeji/RanceLab/reticula_new/reticula/data/tcdd/learning_curve_analysis/output/sorted_by_ig1030_time_course_50.csv\", sep=\"\\t\")\n",
    "ig_origin <- read.csv(\"/mnt/home/yuankeji/RanceLab/reticula_new/reticula/data/tcdd/output/sorted_by_ig1030_time_course.csv\", sep=\"\\t\")"
   ]
  },
  {
   "cell_type": "code",
   "execution_count": null,
   "id": "38b889af",
   "metadata": {},
   "outputs": [
    {
     "name": "stdout",
     "output_type": "stream",
     "text": [
      "Key: <start>\n",
      "           start index1 index2\n",
      "          <char>  <int>  <int>\n",
      "1: R-MMU-1006143    939   4515\n",
      "2: R-MMU-1011576   3632   2509\n",
      "3: R-MMU-1013012   2548   4085\n",
      "4: R-MMU-1013013   2247   3889\n",
      "5: R-MMU-1022127   3344   3937\n",
      "6: R-MMU-1028788   3986   3679\n"
     ]
    }
   ],
   "source": [
    "%%R\n",
    "library(data.table)\n",
    "\n",
    "ig_origin_dt <- as.data.table(ig_origin)\n",
    "ig_50_dt <- as.data.table(ig_50)\n",
    "\n",
    "ig_origin_dt <- ig_origin_dt[order(-ig_1), .SD[1], by = start][, index1 := frank(-ig_1, ties.method = \"first\")]\n",
    "ig_50_dt <- ig_50_dt[order(-ig_1), .SD[1], by = start][, index2 := frank(-ig_1, ties.method = \"first\")]\n",
    "\n",
    "table_dt <- ig_origin_dt[, .(start, index1)]\n",
    "table_dt <- merge(table_dt, ig_50_dt[, .(start, index2)], by = \"start\", all.x = TRUE)\n",
    "\n",
    "print(head(table_dt))\n"
   ]
  },
  {
   "cell_type": "code",
   "execution_count": null,
   "id": "17d49377",
   "metadata": {},
   "outputs": [
    {
     "name": "stdout",
     "output_type": "stream",
     "text": [
      "[1] \"------pearson_correlations-------\"\n",
      "[1] \"ig_100_vs_ig_900: rho = 0.5081, p-value = 9.761633e-311, t-value = 40.6801042928126\"\n",
      "[1] \"ig_100_vs_ig_901: rho = 0.3366, p-value = 2.043399e-126, t-value = 24.6557465888578\"\n",
      "[1] \"ig_100_vs_ig_902: rho = 0.2577, p-value = 4.946882e-73, t-value = 18.3916914560203\"\n",
      "[1] \"ig_100_vs_ig_903: rho = 0.3962, p-value = 1.229777e-178, t-value = 29.7610056713654\"\n",
      "[1] \"ig_100_vs_ig_904: rho = 0.5267, p-value = 0e+00, t-value = 42.7319350966695\"\n",
      "[1] \"ig_100_vs_ig_905: rho = 0.2155, p-value = 4.266573e-51, t-value = 15.2172699697858\"\n",
      "[1] \"ig_100_vs_ig_906: rho = 0.3211, p-value = 1.45831e-114, t-value = 23.3837139837166\"\n",
      "[1] \"ig_100_vs_ig_907: rho = 0.5089, p-value = 7.373478e-312, t-value = 40.7656034558035\"\n",
      "[1] \"ig_100_vs_ig_908: rho = 0.2848, p-value = 1.780224e-89, t-value = 20.4890102781432\"\n",
      "[1] \"ig_100_vs_ig_909: rho = 0.2166, p-value = 1.219278e-51, t-value = 15.3030040181758\"\n",
      "[1] \"ig_origin_vs_ig_80: rho = 0.3954, p-value = 7.099827e-178, t-value = 29.6911465979497\"\n",
      "[1] \"ig_origin_vs_ig_70: rho = 0.4971, p-value = 1.83537e-295, t-value = 39.5071016234389\"\n",
      "[1] \"ig_origin_vs_ig_60: rho = 0.3318, p-value = 1.193669e-122, t-value = 24.2571904087979\"\n",
      "[1] \"ig_origin_vs_ig_50: rho = 0.2292, p-value = 9.897723e-58, t-value = 16.2351599244813\"\n"
     ]
    }
   ],
   "source": [
    "%%R\n",
    "columns_to_compare <- c(\"index2\")\n",
    "file_names <- c(\"ig_50\")\n",
    "\n",
    "result <- cor.test(table_dt$index1, table_dt$index2, method = \"pearson\")\n",
    "\n",
    "pearson_correlations[[length(pearson_correlations) + 1]] <- list(\n",
    "    comparison = paste(\"ig_origin_vs\", file_names, sep = \"_\"),\n",
    "    rho = result$estimate,\n",
    "    p_value = result$p.value,\n",
    "    t_value = result$statistic\n",
    ")\n",
    "\n",
    "\n",
    "print(\"------pearson_correlations-------\")\n",
    "for (res in pearson_correlations) {\n",
    "  print(paste0(res$comparison, \": rho = \", round(res$rho, 4), \", p-value = \", format(res$p_value, scientific = TRUE), \", t-value = \", res$t_value))\n",
    "}\n"
   ]
  },
  {
   "cell_type": "code",
   "execution_count": null,
   "id": "bb9b6bc9",
   "metadata": {},
   "outputs": [
    {
     "name": "stdout",
     "output_type": "stream",
     "text": [
      "[1] \"------spearman_correlations-------\"\n",
      "[1] \"ig_100_vs_ig_900: rho = 0.5081, p-value = 9.761633e-311, S-value = 8831314716\"\n",
      "[1] \"ig_100_vs_ig_901: rho = 0.3366, p-value = 2.043399e-126, S-value = 11908725964\"\n",
      "[1] \"ig_100_vs_ig_902: rho = 0.2577, p-value = 4.946882e-73, S-value = 13326404142\"\n",
      "[1] \"ig_100_vs_ig_903: rho = 0.3962, p-value = 1.229777e-178, S-value = 10839197492\"\n",
      "[1] \"ig_100_vs_ig_904: rho = 0.5267, p-value = 0e+00, S-value = 8496650484\"\n",
      "[1] \"ig_100_vs_ig_905: rho = 0.2155, p-value = 4.266573e-51, S-value = 14084130840\"\n",
      "[1] \"ig_100_vs_ig_906: rho = 0.3211, p-value = 1.45831e-114, S-value = 12187597132\"\n",
      "[1] \"ig_100_vs_ig_907: rho = 0.5089, p-value = 7.373478e-312, S-value = 8817104630\"\n",
      "[1] \"ig_100_vs_ig_908: rho = 0.2848, p-value = 1.780224e-89, S-value = 12839633490\"\n",
      "[1] \"ig_100_vs_ig_909: rho = 0.2166, p-value = 1.219278e-51, S-value = 14063357150\"\n",
      "[1] \"ig_origin_vs_ig_80: rho = 0.3954, p-value = 7.099827e-178, S-value = \"\n",
      "[1] \"ig_origin_vs_ig_70: rho = 0.4971, p-value = 1.83537e-295, S-value = 9028612502\"\n",
      "[1] \"ig_origin_vs_ig_60: rho = 0.3318, p-value = 1.193669e-122, S-value = 11995586142\"\n",
      "[1] \"ig_origin_vs_ig_50: rho = 0.2292, p-value = 9.897723e-58, S-value = 13838564048\"\n"
     ]
    }
   ],
   "source": [
    "%%R\n",
    "columns_to_compare <- c(\"index2\")\n",
    "file_names <- c(\"ig_50\")\n",
    "\n",
    "result <- cor.test(table_dt$index1, table_dt$index2, method = \"spearman\")\n",
    "\n",
    "spearman_correlations[[length(spearman_correlations) + 1]] <- list(\n",
    "comparison = paste(\"ig_origin_vs\", file_names, sep = \"_\"),\n",
    "    rho = result$estimate,\n",
    "    p_value = result$p.value,\n",
    "    S_value = result$statistic\n",
    ")\n",
    "\n",
    "\n",
    "print(\"------spearman_correlations-------\")\n",
    "for (res in spearman_correlations) {\n",
    "  print(paste0(res$comparison, \": rho = \", round(res$rho, 4), \", p-value = \", format(res$p_value, scientific = TRUE), \", S-value = \", res$S_value))\n",
    "}\n"
   ]
  },
  {
   "cell_type": "code",
   "execution_count": null,
   "id": "3831d201",
   "metadata": {},
   "outputs": [],
   "source": [
    "%%R\n",
    "library(ggplot2)\n",
    "library(readr)\n",
    "library(gridExtra)\n",
    "library(dplyr)\n",
    "\n",
    "ig_40 <- read.csv(\"/mnt/home/yuankeji/RanceLab/reticula_new/reticula/data/tcdd/learning_curve_analysis/output/sorted_by_ig1030_time_course_40.csv\", sep=\"\\t\")\n",
    "ig_origin <- read.csv(\"/mnt/home/yuankeji/RanceLab/reticula_new/reticula/data/tcdd/output/sorted_by_ig1030_time_course.csv\", sep=\"\\t\")"
   ]
  },
  {
   "cell_type": "code",
   "execution_count": null,
   "id": "a71f8583",
   "metadata": {},
   "outputs": [
    {
     "name": "stdout",
     "output_type": "stream",
     "text": [
      "Key: <start>\n",
      "           start index1 index2\n",
      "          <char>  <int>  <int>\n",
      "1: R-MMU-1006143    939   1115\n",
      "2: R-MMU-1011576   3632   1225\n",
      "3: R-MMU-1013012   2548    208\n",
      "4: R-MMU-1013013   2247   1548\n",
      "5: R-MMU-1022127   3344    630\n",
      "6: R-MMU-1028788   3986   3414\n"
     ]
    }
   ],
   "source": [
    "%%R\n",
    "library(data.table)\n",
    "\n",
    "ig_origin_dt <- as.data.table(ig_origin)\n",
    "ig_40_dt <- as.data.table(ig_40)\n",
    "\n",
    "ig_origin_dt <- ig_origin_dt[order(-ig_1), .SD[1], by = start][, index1 := frank(-ig_1, ties.method = \"first\")]\n",
    "ig_40_dt <- ig_40_dt[order(-ig_1), .SD[1], by = start][, index2 := frank(-ig_1, ties.method = \"first\")]\n",
    "\n",
    "table_dt <- ig_origin_dt[, .(start, index1)]\n",
    "table_dt <- merge(table_dt, ig_40_dt[, .(start, index2)], by = \"start\", all.x = TRUE)\n",
    "\n",
    "print(head(table_dt))\n"
   ]
  },
  {
   "cell_type": "code",
   "execution_count": null,
   "id": "376d2b6c",
   "metadata": {},
   "outputs": [
    {
     "name": "stdout",
     "output_type": "stream",
     "text": [
      "[1] \"------pearson_correlations-------\"\n",
      "[1] \"ig_100_vs_ig_900: rho = 0.5081, p-value = 9.761633e-311, t-value = 40.6801042928126\"\n",
      "[1] \"ig_100_vs_ig_901: rho = 0.3366, p-value = 2.043399e-126, t-value = 24.6557465888578\"\n",
      "[1] \"ig_100_vs_ig_902: rho = 0.2577, p-value = 4.946882e-73, t-value = 18.3916914560203\"\n",
      "[1] \"ig_100_vs_ig_903: rho = 0.3962, p-value = 1.229777e-178, t-value = 29.7610056713654\"\n",
      "[1] \"ig_100_vs_ig_904: rho = 0.5267, p-value = 0e+00, t-value = 42.7319350966695\"\n",
      "[1] \"ig_100_vs_ig_905: rho = 0.2155, p-value = 4.266573e-51, t-value = 15.2172699697858\"\n",
      "[1] \"ig_100_vs_ig_906: rho = 0.3211, p-value = 1.45831e-114, t-value = 23.3837139837166\"\n",
      "[1] \"ig_100_vs_ig_907: rho = 0.5089, p-value = 7.373478e-312, t-value = 40.7656034558035\"\n",
      "[1] \"ig_100_vs_ig_908: rho = 0.2848, p-value = 1.780224e-89, t-value = 20.4890102781432\"\n",
      "[1] \"ig_100_vs_ig_909: rho = 0.2166, p-value = 1.219278e-51, t-value = 15.3030040181758\"\n",
      "[1] \"ig_origin_vs_ig_80: rho = 0.3954, p-value = 7.099827e-178, t-value = 29.6911465979497\"\n",
      "[1] \"ig_origin_vs_ig_70: rho = 0.4971, p-value = 1.83537e-295, t-value = 39.5071016234389\"\n",
      "[1] \"ig_origin_vs_ig_60: rho = 0.3318, p-value = 1.193669e-122, t-value = 24.2571904087979\"\n",
      "[1] \"ig_origin_vs_ig_50: rho = 0.2292, p-value = 9.897723e-58, t-value = 16.2351599244813\"\n",
      "[1] \"ig_origin_vs_ig_40: rho = 0.4891, p-value = 1.136156e-284, t-value = 38.6676877603425\"\n"
     ]
    }
   ],
   "source": [
    "%%R\n",
    "columns_to_compare <- c(\"index2\")\n",
    "file_names <- c(\"ig_40\")\n",
    "\n",
    "  result <- cor.test(table_dt$index1, table_dt$index2, method = \"pearson\")\n",
    "  \n",
    "pearson_correlations[[length(pearson_correlations) + 1]] <- list(\n",
    "    comparison = paste(\"ig_origin_vs\", file_names, sep = \"_\"),\n",
    "    rho = result$estimate,\n",
    "    p_value = result$p.value,\n",
    "    t_value = result$statistic\n",
    ")\n",
    "\n",
    "\n",
    "print(\"------pearson_correlations-------\")\n",
    "for (res in pearson_correlations) {\n",
    "  print(paste0(res$comparison, \": rho = \", round(res$rho, 4), \", p-value = \", format(res$p_value, scientific = TRUE), \", t-value = \", res$t_value))\n",
    "}\n"
   ]
  },
  {
   "cell_type": "code",
   "execution_count": null,
   "id": "a673eca7",
   "metadata": {},
   "outputs": [
    {
     "name": "stdout",
     "output_type": "stream",
     "text": [
      "[1] \"------spearman_correlations-------\"\n",
      "[1] \"ig_100_vs_ig_900: rho = 0.5081, p-value = 9.761633e-311, S-value = 8831314716\"\n",
      "[1] \"ig_100_vs_ig_901: rho = 0.3366, p-value = 2.043399e-126, S-value = 11908725964\"\n",
      "[1] \"ig_100_vs_ig_902: rho = 0.2577, p-value = 4.946882e-73, S-value = 13326404142\"\n",
      "[1] \"ig_100_vs_ig_903: rho = 0.3962, p-value = 1.229777e-178, S-value = 10839197492\"\n",
      "[1] \"ig_100_vs_ig_904: rho = 0.5267, p-value = 0e+00, S-value = 8496650484\"\n",
      "[1] \"ig_100_vs_ig_905: rho = 0.2155, p-value = 4.266573e-51, S-value = 14084130840\"\n",
      "[1] \"ig_100_vs_ig_906: rho = 0.3211, p-value = 1.45831e-114, S-value = 12187597132\"\n",
      "[1] \"ig_100_vs_ig_907: rho = 0.5089, p-value = 7.373478e-312, S-value = 8817104630\"\n",
      "[1] \"ig_100_vs_ig_908: rho = 0.2848, p-value = 1.780224e-89, S-value = 12839633490\"\n",
      "[1] \"ig_100_vs_ig_909: rho = 0.2166, p-value = 1.219278e-51, S-value = 14063357150\"\n",
      "[1] \"ig_origin_vs_ig_80: rho = 0.3954, p-value = 7.099827e-178, S-value = \"\n",
      "[1] \"ig_origin_vs_ig_70: rho = 0.4971, p-value = 1.83537e-295, S-value = 9028612502\"\n",
      "[1] \"ig_origin_vs_ig_60: rho = 0.3318, p-value = 1.193669e-122, S-value = 11995586142\"\n",
      "[1] \"ig_origin_vs_ig_50: rho = 0.2292, p-value = 9.897723e-58, S-value = 13838564048\"\n",
      "[1] \"ig_origin_vs_ig_40: rho = 0.4891, p-value = 1.136156e-284, S-value = 9172494108\"\n"
     ]
    }
   ],
   "source": [
    "%%R\n",
    "columns_to_compare <- c(\"index2\")\n",
    "file_names <- c(\"ig_40\")\n",
    "\n",
    "result <- cor.test(table_dt$index1, table_dt$index2, method = \"spearman\")\n",
    "\n",
    "spearman_correlations[[length(spearman_correlations) + 1]] <- list(\n",
    "comparison = paste(\"ig_origin_vs\", file_names, sep = \"_\"),\n",
    "rho = result$estimate,\n",
    "p_value = result$p.value,\n",
    "S_value = result$statistic\n",
    ")\n",
    "\n",
    "print(\"------spearman_correlations-------\")\n",
    "for (res in spearman_correlations) {\n",
    "  print(paste0(res$comparison, \": rho = \", round(res$rho, 4), \", p-value = \", format(res$p_value, scientific = TRUE), \", S-value = \", res$S_value))\n",
    "}\n"
   ]
  },
  {
   "cell_type": "code",
   "execution_count": null,
   "id": "57b2516e",
   "metadata": {},
   "outputs": [],
   "source": [
    "%%R\n",
    "library(ggplot2)\n",
    "library(readr)\n",
    "library(gridExtra)\n",
    "library(dplyr)\n",
    "\n",
    "ig_30 <- read.csv(\"/mnt/home/yuankeji/RanceLab/reticula_new/reticula/data/tcdd/learning_curve_analysis/output/sorted_by_ig1030_time_course_30.csv\", sep=\"\\t\")\n",
    "ig_origin <- read.csv(\"/mnt/home/yuankeji/RanceLab/reticula_new/reticula/data/tcdd/output/sorted_by_ig1030_time_course.csv\", sep=\"\\t\")"
   ]
  },
  {
   "cell_type": "code",
   "execution_count": null,
   "id": "15784aa7",
   "metadata": {},
   "outputs": [
    {
     "name": "stdout",
     "output_type": "stream",
     "text": [
      "Key: <start>\n",
      "           start index1 index2\n",
      "          <char>  <int>  <int>\n",
      "1: R-MMU-1006143    939   4565\n",
      "2: R-MMU-1011576   3632   2705\n",
      "3: R-MMU-1013012   2548    514\n",
      "4: R-MMU-1013013   2247    409\n",
      "5: R-MMU-1022127   3344   1077\n",
      "6: R-MMU-1028788   3986   2273\n"
     ]
    }
   ],
   "source": [
    "%%R\n",
    "library(data.table)\n",
    "\n",
    "ig_origin_dt <- as.data.table(ig_origin)\n",
    "ig_30_dt <- as.data.table(ig_30)\n",
    "\n",
    "ig_origin_dt <- ig_origin_dt[order(-ig_1), .SD[1], by = start][, index1 := frank(-ig_1, ties.method = \"first\")]\n",
    "ig_30_dt <- ig_30_dt[order(-ig_1), .SD[1], by = start][, index2 := frank(-ig_1, ties.method = \"first\")]\n",
    "\n",
    "table_dt <- ig_origin_dt[, .(start, index1)]\n",
    "table_dt <- merge(table_dt, ig_30_dt[, .(start, index2)], by = \"start\", all.x = TRUE)\n",
    "\n",
    "print(head(table_dt))\n"
   ]
  },
  {
   "cell_type": "code",
   "execution_count": null,
   "id": "5a0d1ac1",
   "metadata": {},
   "outputs": [
    {
     "name": "stdout",
     "output_type": "stream",
     "text": [
      "[1] \"------pearson_correlations-------\"\n",
      "[1] \"ig_100_vs_ig_900: rho = 0.5081, p-value = 9.761633e-311, t-value = 40.6801042928126\"\n",
      "[1] \"ig_100_vs_ig_901: rho = 0.3366, p-value = 2.043399e-126, t-value = 24.6557465888578\"\n",
      "[1] \"ig_100_vs_ig_902: rho = 0.2577, p-value = 4.946882e-73, t-value = 18.3916914560203\"\n",
      "[1] \"ig_100_vs_ig_903: rho = 0.3962, p-value = 1.229777e-178, t-value = 29.7610056713654\"\n",
      "[1] \"ig_100_vs_ig_904: rho = 0.5267, p-value = 0e+00, t-value = 42.7319350966695\"\n",
      "[1] \"ig_100_vs_ig_905: rho = 0.2155, p-value = 4.266573e-51, t-value = 15.2172699697858\"\n",
      "[1] \"ig_100_vs_ig_906: rho = 0.3211, p-value = 1.45831e-114, t-value = 23.3837139837166\"\n",
      "[1] \"ig_100_vs_ig_907: rho = 0.5089, p-value = 7.373478e-312, t-value = 40.7656034558035\"\n",
      "[1] \"ig_100_vs_ig_908: rho = 0.2848, p-value = 1.780224e-89, t-value = 20.4890102781432\"\n",
      "[1] \"ig_100_vs_ig_909: rho = 0.2166, p-value = 1.219278e-51, t-value = 15.3030040181758\"\n",
      "[1] \"ig_origin_vs_ig_80: rho = 0.3954, p-value = 7.099827e-178, t-value = 29.6911465979497\"\n",
      "[1] \"ig_origin_vs_ig_70: rho = 0.4971, p-value = 1.83537e-295, t-value = 39.5071016234389\"\n",
      "[1] \"ig_origin_vs_ig_60: rho = 0.3318, p-value = 1.193669e-122, t-value = 24.2571904087979\"\n",
      "[1] \"ig_origin_vs_ig_50: rho = 0.2292, p-value = 9.897723e-58, t-value = 16.2351599244813\"\n",
      "[1] \"ig_origin_vs_ig_40: rho = 0.4891, p-value = 1.136156e-284, t-value = 38.6676877603425\"\n",
      "[1] \"ig_origin_vs_ig_30: rho = 0.2727, p-value = 6.884338e-82, t-value = 19.5449993301774\"\n"
     ]
    }
   ],
   "source": [
    "%%R\n",
    "columns_to_compare <- c(\"index2\")\n",
    "file_names <- c(\"ig_30\")\n",
    "\n",
    "result <- cor.test(table_dt$index1, table_dt$index2, method = \"pearson\")\n",
    "  \n",
    "pearson_correlations[[length(pearson_correlations) + 1]] <- list(\n",
    "    comparison = paste(\"ig_origin_vs\", file_names, sep = \"_\"),\n",
    "    rho = result$estimate,\n",
    "    p_value = result$p.value,\n",
    "    t_value = result$statistic\n",
    ")\n",
    "\n",
    "\n",
    "print(\"------pearson_correlations-------\")\n",
    "for (res in pearson_correlations) {\n",
    "  print(paste0(res$comparison, \": rho = \", round(res$rho, 4), \", p-value = \", format(res$p_value, scientific = TRUE), \", t-value = \", res$t_value))\n",
    "}\n"
   ]
  },
  {
   "cell_type": "code",
   "execution_count": null,
   "id": "cbd4f5f0",
   "metadata": {},
   "outputs": [
    {
     "name": "stdout",
     "output_type": "stream",
     "text": [
      "[1] \"------spearman_correlations-------\"\n",
      "[1] \"ig_100_vs_ig_900: rho = 0.5081, p-value = 9.761633e-311, S-value = 8831314716\"\n",
      "[1] \"ig_100_vs_ig_901: rho = 0.3366, p-value = 2.043399e-126, S-value = 11908725964\"\n",
      "[1] \"ig_100_vs_ig_902: rho = 0.2577, p-value = 4.946882e-73, S-value = 13326404142\"\n",
      "[1] \"ig_100_vs_ig_903: rho = 0.3962, p-value = 1.229777e-178, S-value = 10839197492\"\n",
      "[1] \"ig_100_vs_ig_904: rho = 0.5267, p-value = 0e+00, S-value = 8496650484\"\n",
      "[1] \"ig_100_vs_ig_905: rho = 0.2155, p-value = 4.266573e-51, S-value = 14084130840\"\n",
      "[1] \"ig_100_vs_ig_906: rho = 0.3211, p-value = 1.45831e-114, S-value = 12187597132\"\n",
      "[1] \"ig_100_vs_ig_907: rho = 0.5089, p-value = 7.373478e-312, S-value = 8817104630\"\n",
      "[1] \"ig_100_vs_ig_908: rho = 0.2848, p-value = 1.780224e-89, S-value = 12839633490\"\n",
      "[1] \"ig_100_vs_ig_909: rho = 0.2166, p-value = 1.219278e-51, S-value = 14063357150\"\n",
      "[1] \"ig_origin_vs_ig_80: rho = 0.3954, p-value = 7.099827e-178, S-value = \"\n",
      "[1] \"ig_origin_vs_ig_70: rho = 0.4971, p-value = 1.83537e-295, S-value = 9028612502\"\n",
      "[1] \"ig_origin_vs_ig_60: rho = 0.3318, p-value = 1.193669e-122, S-value = 11995586142\"\n",
      "[1] \"ig_origin_vs_ig_50: rho = 0.2292, p-value = 9.897723e-58, S-value = 13838564048\"\n",
      "[1] \"ig_origin_vs_ig_40: rho = 0.4891, p-value = 1.136156e-284, S-value = 9172494108\"\n",
      "[1] \"ig_origin_vs_ig_30: rho = 0.2727, p-value = 6.884338e-82, S-value = 13057294104\"\n"
     ]
    }
   ],
   "source": [
    "%%R\n",
    "columns_to_compare <- c(\"index2\")\n",
    "file_names <- c(\"ig_30\")\n",
    "\n",
    "result <- cor.test(table_dt$index1, table_dt$index2, method = \"spearman\")\n",
    "\n",
    "spearman_correlations[[length(spearman_correlations) + 1]] <- list(\n",
    "comparison = paste(\"ig_origin_vs\", file_names, sep = \"_\"),\n",
    "    rho = result$estimate,\n",
    "    p_value = result$p.value,\n",
    "    S_value = result$statistic\n",
    ")\n",
    "\n",
    "\n",
    "print(\"------spearman_correlations-------\")\n",
    "for (res in spearman_correlations) {\n",
    "  print(paste0(res$comparison, \": rho = \", round(res$rho, 4), \", p-value = \", format(res$p_value, scientific = TRUE), \", S-value = \", res$S_value))\n",
    "}\n"
   ]
  },
  {
   "cell_type": "code",
   "execution_count": null,
   "id": "75b03646",
   "metadata": {},
   "outputs": [],
   "source": [
    "%%R\n",
    "library(ggplot2)\n",
    "library(readr)\n",
    "library(gridExtra)\n",
    "library(dplyr)\n",
    "\n",
    "ig_20 <- read.csv(\"/mnt/home/yuankeji/RanceLab/reticula_new/reticula/data/tcdd/learning_curve_analysis/output/sorted_by_ig1030_time_course_20.csv\", sep=\"\\t\")\n",
    "ig_origin <- read.csv(\"/mnt/home/yuankeji/RanceLab/reticula_new/reticula/data/tcdd/output/sorted_by_ig1030_time_course.csv\", sep=\"\\t\")"
   ]
  },
  {
   "cell_type": "code",
   "execution_count": null,
   "id": "876c8e16",
   "metadata": {},
   "outputs": [
    {
     "name": "stdout",
     "output_type": "stream",
     "text": [
      "Key: <start>\n",
      "           start index1 index2\n",
      "          <char>  <int>  <int>\n",
      "1: R-MMU-1006143    939   2202\n",
      "2: R-MMU-1011576   3632   3705\n",
      "3: R-MMU-1013012   2548    920\n",
      "4: R-MMU-1013013   2247   3305\n",
      "5: R-MMU-1022127   3344   1465\n",
      "6: R-MMU-1028788   3986   4140\n"
     ]
    }
   ],
   "source": [
    "%%R\n",
    "library(data.table)\n",
    "\n",
    "ig_origin_dt <- as.data.table(ig_origin)\n",
    "ig_20_dt <- as.data.table(ig_20)\n",
    "\n",
    "ig_origin_dt <- ig_origin_dt[order(-ig_1), .SD[1], by = start][, index1 := frank(-ig_1, ties.method = \"first\")]\n",
    "ig_20_dt <- ig_20_dt[order(-ig_1), .SD[1], by = start][, index2 := frank(-ig_1, ties.method = \"first\")]\n",
    "\n",
    "table_dt <- ig_origin_dt[, .(start, index1)]\n",
    "table_dt <- merge(table_dt, ig_20_dt[, .(start, index2)], by = \"start\", all.x = TRUE)\n",
    "\n",
    "print(head(table_dt))\n"
   ]
  },
  {
   "cell_type": "code",
   "execution_count": null,
   "id": "20be0757",
   "metadata": {},
   "outputs": [
    {
     "name": "stdout",
     "output_type": "stream",
     "text": [
      "[1] \"------pearson_correlations-------\"\n",
      "[1] \"ig_100_vs_ig_900: rho = 0.5081, p-value = 9.761633e-311, t-value = 40.6801042928126\"\n",
      "[1] \"ig_100_vs_ig_901: rho = 0.3366, p-value = 2.043399e-126, t-value = 24.6557465888578\"\n",
      "[1] \"ig_100_vs_ig_902: rho = 0.2577, p-value = 4.946882e-73, t-value = 18.3916914560203\"\n",
      "[1] \"ig_100_vs_ig_903: rho = 0.3962, p-value = 1.229777e-178, t-value = 29.7610056713654\"\n",
      "[1] \"ig_100_vs_ig_904: rho = 0.5267, p-value = 0e+00, t-value = 42.7319350966695\"\n",
      "[1] \"ig_100_vs_ig_905: rho = 0.2155, p-value = 4.266573e-51, t-value = 15.2172699697858\"\n",
      "[1] \"ig_100_vs_ig_906: rho = 0.3211, p-value = 1.45831e-114, t-value = 23.3837139837166\"\n",
      "[1] \"ig_100_vs_ig_907: rho = 0.5089, p-value = 7.373478e-312, t-value = 40.7656034558035\"\n",
      "[1] \"ig_100_vs_ig_908: rho = 0.2848, p-value = 1.780224e-89, t-value = 20.4890102781432\"\n",
      "[1] \"ig_100_vs_ig_909: rho = 0.2166, p-value = 1.219278e-51, t-value = 15.3030040181758\"\n",
      "[1] \"ig_origin_vs_ig_80: rho = 0.3954, p-value = 7.099827e-178, t-value = 29.6911465979497\"\n",
      "[1] \"ig_origin_vs_ig_70: rho = 0.4971, p-value = 1.83537e-295, t-value = 39.5071016234389\"\n",
      "[1] \"ig_origin_vs_ig_60: rho = 0.3318, p-value = 1.193669e-122, t-value = 24.2571904087979\"\n",
      "[1] \"ig_origin_vs_ig_50: rho = 0.2292, p-value = 9.897723e-58, t-value = 16.2351599244813\"\n",
      "[1] \"ig_origin_vs_ig_40: rho = 0.4891, p-value = 1.136156e-284, t-value = 38.6676877603425\"\n",
      "[1] \"ig_origin_vs_ig_30: rho = 0.2727, p-value = 6.884338e-82, t-value = 19.5449993301774\"\n",
      "[1] \"ig_origin_vs_ig_20: rho = 0.2995, p-value = 3.296665e-99, t-value = 21.6493733929917\"\n"
     ]
    }
   ],
   "source": [
    "%%R\n",
    "columns_to_compare <- c(\"index2\")\n",
    "file_names <- c(\"ig_20\")\n",
    "\n",
    "result <- cor.test(table_dt$index1, table_dt$index2, method = \"pearson\")\n",
    "\n",
    "pearson_correlations[[length(pearson_correlations) + 1]] <- list(\n",
    "    comparison = paste(\"ig_origin_vs\", file_names, sep = \"_\"),\n",
    "    rho = result$estimate,\n",
    "    p_value = result$p.value,\n",
    "    t_value = result$statistic\n",
    ")\n",
    "\n",
    "print(\"------pearson_correlations-------\")\n",
    "for (res in pearson_correlations) {\n",
    "  print(paste0(res$comparison, \": rho = \", round(res$rho, 4), \", p-value = \", format(res$p_value, scientific = TRUE), \", t-value = \", res$t_value))\n",
    "}\n"
   ]
  },
  {
   "cell_type": "code",
   "execution_count": null,
   "id": "5fa07989",
   "metadata": {},
   "outputs": [
    {
     "name": "stdout",
     "output_type": "stream",
     "text": [
      "[1] \"------spearman_correlations-------\"\n",
      "[1] \"ig_100_vs_ig_900: rho = 0.5081, p-value = 9.761633e-311, S-value = 8831314716\"\n",
      "[1] \"ig_100_vs_ig_901: rho = 0.3366, p-value = 2.043399e-126, S-value = 11908725964\"\n",
      "[1] \"ig_100_vs_ig_902: rho = 0.2577, p-value = 4.946882e-73, S-value = 13326404142\"\n",
      "[1] \"ig_100_vs_ig_903: rho = 0.3962, p-value = 1.229777e-178, S-value = 10839197492\"\n",
      "[1] \"ig_100_vs_ig_904: rho = 0.5267, p-value = 0e+00, S-value = 8496650484\"\n",
      "[1] \"ig_100_vs_ig_905: rho = 0.2155, p-value = 4.266573e-51, S-value = 14084130840\"\n",
      "[1] \"ig_100_vs_ig_906: rho = 0.3211, p-value = 1.45831e-114, S-value = 12187597132\"\n",
      "[1] \"ig_100_vs_ig_907: rho = 0.5089, p-value = 7.373478e-312, S-value = 8817104630\"\n",
      "[1] \"ig_100_vs_ig_908: rho = 0.2848, p-value = 1.780224e-89, S-value = 12839633490\"\n",
      "[1] \"ig_100_vs_ig_909: rho = 0.2166, p-value = 1.219278e-51, S-value = 14063357150\"\n",
      "[1] \"ig_origin_vs_ig_80: rho = 0.3954, p-value = 7.099827e-178, S-value = \"\n",
      "[1] \"ig_origin_vs_ig_70: rho = 0.4971, p-value = 1.83537e-295, S-value = 9028612502\"\n",
      "[1] \"ig_origin_vs_ig_60: rho = 0.3318, p-value = 1.193669e-122, S-value = 11995586142\"\n",
      "[1] \"ig_origin_vs_ig_50: rho = 0.2292, p-value = 9.897723e-58, S-value = 13838564048\"\n",
      "[1] \"ig_origin_vs_ig_40: rho = 0.4891, p-value = 1.136156e-284, S-value = 9172494108\"\n",
      "[1] \"ig_origin_vs_ig_30: rho = 0.2727, p-value = 6.884338e-82, S-value = 13057294104\"\n",
      "[1] \"ig_origin_vs_ig_20: rho = 0.2995, p-value = 3.296665e-99, S-value = 12575419444\"\n"
     ]
    }
   ],
   "source": [
    "%%R\n",
    "columns_to_compare <- c(\"index2\")\n",
    "file_names <- c(\"ig_20\")\n",
    "\n",
    "result <- cor.test(table_dt$index1, table_dt$index2, method = \"spearman\")\n",
    "\n",
    "spearman_correlations[[length(spearman_correlations) + 1]] <- list(\n",
    "comparison = paste(\"ig_origin_vs\", file_names, sep = \"_\"),\n",
    "    rho = result$estimate,\n",
    "    p_value = result$p.value,\n",
    "    S_value = result$statistic\n",
    ")\n",
    "\n",
    "print(\"------spearman_correlations-------\")\n",
    "for (res in spearman_correlations) {\n",
    "  print(paste0(res$comparison, \": rho = \", round(res$rho, 4), \", p-value = \", format(res$p_value, scientific = TRUE), \", S-value = \", res$S_value))\n",
    "}\n"
   ]
  },
  {
   "cell_type": "code",
   "execution_count": null,
   "id": "9a8a0bfd",
   "metadata": {},
   "outputs": [],
   "source": [
    "%%R\n",
    "library(ggplot2)\n",
    "library(readr)\n",
    "library(gridExtra)\n",
    "library(dplyr)\n",
    "\n",
    "ig_100 <- read.csv(\"/mnt/home/yuankeji/RanceLab/reticula_new/reticula/data/tcdd/learning_curve_analysis/output/sorted_by_ig1030_time_course_100.csv\", sep=\"\\t\")\n",
    "ig_101 <- read.csv(\"/mnt/home/yuankeji/RanceLab/reticula_new/reticula/data/tcdd/learning_curve_analysis/output/sorted_by_ig1030_time_course_101.csv\", sep=\"\\t\")\n",
    "ig_102 <- read.csv(\"/mnt/home/yuankeji/RanceLab/reticula_new/reticula/data/tcdd/learning_curve_analysis/output/sorted_by_ig1030_time_course_102.csv\", sep=\"\\t\")\n",
    "ig_103 <- read.csv(\"/mnt/home/yuankeji/RanceLab/reticula_new/reticula/data/tcdd/learning_curve_analysis/output/sorted_by_ig1030_time_course_103.csv\", sep=\"\\t\")\n",
    "ig_104 <- read.csv(\"/mnt/home/yuankeji/RanceLab/reticula_new/reticula/data/tcdd/learning_curve_analysis/output/sorted_by_ig1030_time_course_104.csv\", sep=\"\\t\")\n",
    "ig_105 <- read.csv(\"/mnt/home/yuankeji/RanceLab/reticula_new/reticula/data/tcdd/learning_curve_analysis/output/sorted_by_ig1030_time_course_105.csv\", sep=\"\\t\")\n",
    "ig_106 <- read.csv(\"/mnt/home/yuankeji/RanceLab/reticula_new/reticula/data/tcdd/learning_curve_analysis/output/sorted_by_ig1030_time_course_106.csv\", sep=\"\\t\")\n",
    "ig_107 <- read.csv(\"/mnt/home/yuankeji/RanceLab/reticula_new/reticula/data/tcdd/learning_curve_analysis/output/sorted_by_ig1030_time_course_107.csv\", sep=\"\\t\")\n",
    "ig_108 <- read.csv(\"/mnt/home/yuankeji/RanceLab/reticula_new/reticula/data/tcdd/learning_curve_analysis/output/sorted_by_ig1030_time_course_108.csv\", sep=\"\\t\")\n",
    "ig_109 <- read.csv(\"/mnt/home/yuankeji/RanceLab/reticula_new/reticula/data/tcdd/learning_curve_analysis/output/sorted_by_ig1030_time_course_109.csv\", sep=\"\\t\")\n",
    "ig_origin <- read.csv(\"/mnt/home/yuankeji/RanceLab/reticula_new/reticula/data/tcdd/output/sorted_by_ig1030_time_course.csv\", sep=\"\\t\")"
   ]
  },
  {
   "cell_type": "code",
   "execution_count": null,
   "id": "74db99ac",
   "metadata": {},
   "outputs": [
    {
     "name": "stdout",
     "output_type": "stream",
     "text": [
      "Key: <start>\n",
      "           start index1 index2 index3 index4 index5 index6 index7 index8 index9\n",
      "          <char>  <int>  <int>  <int>  <int>  <int>  <int>  <int>  <int>  <int>\n",
      "1: R-MMU-1006143    939   2406   2823    643   1238   3349    644   3940    880\n",
      "2: R-MMU-1011576   3632   3671   4109   3277   2438   3529   3857   2692   4071\n",
      "3: R-MMU-1013012   2548   2007   1128    958   1577    791   4115    519   1458\n",
      "4: R-MMU-1013013   2247   4741    396    578    423   1115    744    842   1416\n",
      "5: R-MMU-1022127   3344   3000   3867   4172   4311   3469   4371   3392   3568\n",
      "6: R-MMU-1028788   3986   4659   2924   4251   1218   2968   2212   1537   3825\n",
      "   index10 index11\n",
      "     <int>   <int>\n",
      "1:     748    3759\n",
      "2:    4511    3305\n",
      "3:    4739    1133\n",
      "4:    1234    1869\n",
      "5:    3885    3656\n",
      "6:    2738    3063\n"
     ]
    }
   ],
   "source": [
    "%%R\n",
    "library(data.table)\n",
    "\n",
    "ig_origin_dt <- as.data.table(ig_origin)\n",
    "ig_100_dt <- as.data.table(ig_100)\n",
    "ig_101_dt <- as.data.table(ig_101)\n",
    "ig_102_dt <- as.data.table(ig_102)\n",
    "ig_103_dt <- as.data.table(ig_103)\n",
    "ig_104_dt <- as.data.table(ig_104)\n",
    "ig_105_dt <- as.data.table(ig_105)\n",
    "ig_106_dt <- as.data.table(ig_106)\n",
    "ig_107_dt <- as.data.table(ig_107)\n",
    "ig_108_dt <- as.data.table(ig_108)\n",
    "ig_109_dt <- as.data.table(ig_109)\n",
    "\n",
    "ig_origin_dt <- ig_origin_dt[order(-ig_1), .SD[1], by = start][, index1 := frank(-ig_1, ties.method = \"first\")]\n",
    "ig_100_dt <- ig_100_dt[order(-ig_1), .SD[1], by = start][, index2 := frank(-ig_1, ties.method = \"first\")]\n",
    "ig_101_dt <- ig_101_dt[order(-ig_1), .SD[1], by = start][, index3 := frank(-ig_1, ties.method = \"first\")]\n",
    "ig_102_dt <- ig_102_dt[order(-ig_1), .SD[1], by = start][, index4 := frank(-ig_1, ties.method = \"first\")]\n",
    "ig_103_dt <- ig_103_dt[order(-ig_1), .SD[1], by = start][, index5 := frank(-ig_1, ties.method = \"first\")]\n",
    "ig_104_dt <- ig_104_dt[order(-ig_1), .SD[1], by = start][, index6 := frank(-ig_1, ties.method = \"first\")]\n",
    "ig_105_dt <- ig_105_dt[order(-ig_1), .SD[1], by = start][, index7 := frank(-ig_1, ties.method = \"first\")]\n",
    "ig_106_dt <- ig_106_dt[order(-ig_1), .SD[1], by = start][, index8 := frank(-ig_1, ties.method = \"first\")]\n",
    "ig_107_dt <- ig_107_dt[order(-ig_1), .SD[1], by = start][, index9 := frank(-ig_1, ties.method = \"first\")]\n",
    "ig_108_dt <- ig_108_dt[order(-ig_1), .SD[1], by = start][, index10 := frank(-ig_1, ties.method = \"first\")]\n",
    "ig_109_dt <- ig_109_dt[order(-ig_1), .SD[1], by = start][, index11 := frank(-ig_1, ties.method = \"first\")]\n",
    "\n",
    "table_dt <- ig_origin_dt[, .(start, index1)]\n",
    "table_dt <- merge(table_dt, ig_100_dt[, .(start, index2)], by = \"start\", all.x = TRUE)\n",
    "table_dt <- merge(table_dt, ig_101_dt[, .(start, index3)], by = \"start\", all.x = TRUE)\n",
    "table_dt <- merge(table_dt, ig_102_dt[, .(start, index4)], by = \"start\", all.x = TRUE)\n",
    "table_dt <- merge(table_dt, ig_103_dt[, .(start, index5)], by = \"start\", all.x = TRUE)\n",
    "table_dt <- merge(table_dt, ig_104_dt[, .(start, index6)], by = \"start\", all.x = TRUE)\n",
    "table_dt <- merge(table_dt, ig_105_dt[, .(start, index7)], by = \"start\", all.x = TRUE)\n",
    "table_dt <- merge(table_dt, ig_106_dt[, .(start, index8)], by = \"start\", all.x = TRUE)\n",
    "table_dt <- merge(table_dt, ig_107_dt[, .(start, index9)], by = \"start\", all.x = TRUE)\n",
    "table_dt <- merge(table_dt, ig_108_dt[, .(start, index10)], by = \"start\", all.x = TRUE)\n",
    "table_dt <- merge(table_dt, ig_109_dt[, .(start, index11)], by = \"start\", all.x = TRUE)\n",
    "\n",
    "print(head(table_dt))\n"
   ]
  },
  {
   "cell_type": "code",
   "execution_count": null,
   "id": "61f9a832",
   "metadata": {},
   "outputs": [
    {
     "name": "stdout",
     "output_type": "stream",
     "text": [
      "[1] \"------pearson_correlations-------\"\n",
      "[1] \"ig_100_vs_ig_900: rho = 0.5081, p-value = 9.761633e-311, t-value = 40.6801042928126\"\n",
      "[1] \"ig_100_vs_ig_901: rho = 0.3366, p-value = 2.043399e-126, t-value = 24.6557465888578\"\n",
      "[1] \"ig_100_vs_ig_902: rho = 0.2577, p-value = 4.946882e-73, t-value = 18.3916914560203\"\n",
      "[1] \"ig_100_vs_ig_903: rho = 0.3962, p-value = 1.229777e-178, t-value = 29.7610056713654\"\n",
      "[1] \"ig_100_vs_ig_904: rho = 0.5267, p-value = 0e+00, t-value = 42.7319350966695\"\n",
      "[1] \"ig_100_vs_ig_905: rho = 0.2155, p-value = 4.266573e-51, t-value = 15.2172699697858\"\n",
      "[1] \"ig_100_vs_ig_906: rho = 0.3211, p-value = 1.45831e-114, t-value = 23.3837139837166\"\n",
      "[1] \"ig_100_vs_ig_907: rho = 0.5089, p-value = 7.373478e-312, t-value = 40.7656034558035\"\n",
      "[1] \"ig_100_vs_ig_908: rho = 0.2848, p-value = 1.780224e-89, t-value = 20.4890102781432\"\n",
      "[1] \"ig_100_vs_ig_909: rho = 0.2166, p-value = 1.219278e-51, t-value = 15.3030040181758\"\n",
      "[1] \"ig_origin_vs_ig_80: rho = 0.3954, p-value = 7.099827e-178, t-value = 29.6911465979497\"\n",
      "[1] \"ig_origin_vs_ig_70: rho = 0.4971, p-value = 1.83537e-295, t-value = 39.5071016234389\"\n",
      "[1] \"ig_origin_vs_ig_60: rho = 0.3318, p-value = 1.193669e-122, t-value = 24.2571904087979\"\n",
      "[1] \"ig_origin_vs_ig_50: rho = 0.2292, p-value = 9.897723e-58, t-value = 16.2351599244813\"\n",
      "[1] \"ig_origin_vs_ig_40: rho = 0.4891, p-value = 1.136156e-284, t-value = 38.6676877603425\"\n",
      "[1] \"ig_origin_vs_ig_30: rho = 0.2727, p-value = 6.884338e-82, t-value = 19.5449993301774\"\n",
      "[1] \"ig_origin_vs_ig_20: rho = 0.2995, p-value = 3.296665e-99, t-value = 21.6493733929917\"\n",
      "[1] \"ig_origin_vs_ig_100: rho = 0.499, p-value = 4.649297e-298, t-value = 39.7076992212744\"\n",
      "[1] \"ig_origin_vs_ig_101: rho = 0.3501, p-value = 3.217912e-137, t-value = 25.7724466845927\"\n",
      "[1] \"ig_origin_vs_ig_102: rho = 0.4683, p-value = 4.889573e-258, t-value = 36.553370327083\"\n",
      "[1] \"ig_origin_vs_ig_103: rho = 0.3738, p-value = 1.110166e-157, t-value = 27.794424714957\"\n",
      "[1] \"ig_origin_vs_ig_104: rho = 0.4471, p-value = 1.328921e-232, t-value = 34.468275585688\"\n",
      "[1] \"ig_origin_vs_ig_105: rho = 0.3857, p-value = 1.514214e-168, t-value = 28.8258153358691\"\n",
      "[1] \"ig_origin_vs_ig_106: rho = 0.4006, p-value = 5.87748e-183, t-value = 30.1553204034766\"\n",
      "[1] \"ig_origin_vs_ig_107: rho = 0.4895, p-value = 2.697308e-285, t-value = 38.7165185279962\"\n",
      "[1] \"ig_origin_vs_ig_108: rho = 0.4009, p-value = 2.973409e-183, t-value = 30.1822003030069\"\n",
      "[1] \"ig_origin_vs_ig_109: rho = 0.4594, p-value = 3.727839e-247, t-value = 35.6698902131943\"\n"
     ]
    }
   ],
   "source": [
    "%%R\n",
    "columns_to_compare <- c(\"index2\", \"index3\", \"index4\", \"index5\", \"index6\", \"index7\", \"index8\", \"index9\", \"index10\", \"index11\")\n",
    "file_names <- c(\"ig_100\",\"ig_101\", \"ig_102\", \"ig_103\", \"ig_104\", \"ig_105\", \"ig_106\", \"ig_107\", \"ig_108\", \"ig_109\")\n",
    "\n",
    "for (i in seq_along(columns_to_compare)) {\n",
    "  result <- cor.test(table_dt$index1, table_dt[[columns_to_compare[i]]], method = \"pearson\")\n",
    "  \n",
    "  pearson_correlations[[i+17]] <- list(\n",
    "    comparison = paste(\"ig_origin_vs\", file_names[i], sep = \"_\"),\n",
    "    rho = result$estimate,\n",
    "    p_value = result$p.value,\n",
    "    t_value = result$statistic\n",
    "  )\n",
    "}\n",
    "\n",
    "print(\"------pearson_correlations-------\")\n",
    "for (res in pearson_correlations) {\n",
    "  print(paste0(res$comparison, \": rho = \", round(res$rho, 4), \", p-value = \", format(res$p_value, scientific = TRUE), \", t-value = \", res$t_value))\n",
    "}\n"
   ]
  },
  {
   "cell_type": "code",
   "execution_count": null,
   "id": "3d5f7c90",
   "metadata": {},
   "outputs": [
    {
     "name": "stdout",
     "output_type": "stream",
     "text": [
      "[1] \"------spearman_correlations-------\"\n",
      "[1] \"ig_100_vs_ig_900: rho = 0.5081, p-value = 9.761633e-311, S-value = 8831314716\"\n",
      "[1] \"ig_100_vs_ig_901: rho = 0.3366, p-value = 2.043399e-126, S-value = 11908725964\"\n",
      "[1] \"ig_100_vs_ig_902: rho = 0.2577, p-value = 4.946882e-73, S-value = 13326404142\"\n",
      "[1] \"ig_100_vs_ig_903: rho = 0.3962, p-value = 1.229777e-178, S-value = 10839197492\"\n",
      "[1] \"ig_100_vs_ig_904: rho = 0.5267, p-value = 0e+00, S-value = 8496650484\"\n",
      "[1] \"ig_100_vs_ig_905: rho = 0.2155, p-value = 4.266573e-51, S-value = 14084130840\"\n",
      "[1] \"ig_100_vs_ig_906: rho = 0.3211, p-value = 1.45831e-114, S-value = 12187597132\"\n",
      "[1] \"ig_100_vs_ig_907: rho = 0.5089, p-value = 7.373478e-312, S-value = 8817104630\"\n",
      "[1] \"ig_100_vs_ig_908: rho = 0.2848, p-value = 1.780224e-89, S-value = 12839633490\"\n",
      "[1] \"ig_100_vs_ig_909: rho = 0.2166, p-value = 1.219278e-51, S-value = 14063357150\"\n",
      "[1] \"ig_origin_vs_ig_80: rho = 0.3954, p-value = 7.099827e-178, S-value = \"\n",
      "[1] \"ig_origin_vs_ig_70: rho = 0.4971, p-value = 1.83537e-295, S-value = 9028612502\"\n",
      "[1] \"ig_origin_vs_ig_60: rho = 0.3318, p-value = 1.193669e-122, S-value = 11995586142\"\n",
      "[1] \"ig_origin_vs_ig_50: rho = 0.2292, p-value = 9.897723e-58, S-value = 13838564048\"\n",
      "[1] \"ig_origin_vs_ig_40: rho = 0.4891, p-value = 1.136156e-284, S-value = 9172494108\"\n",
      "[1] \"ig_origin_vs_ig_30: rho = 0.2727, p-value = 6.884338e-82, S-value = 13057294104\"\n",
      "[1] \"ig_origin_vs_ig_20: rho = 0.2995, p-value = 3.296665e-99, S-value = 12575419444\"\n",
      "[1] \"ig_origin_vs_ig_100: rho = 0.499, p-value = 4.649297e-298, S-value = 8994561880\"\n",
      "[1] \"ig_origin_vs_ig_101: rho = 0.3501, p-value = 3.217912e-137, S-value = 11667901508\"\n",
      "[1] \"ig_origin_vs_ig_102: rho = 0.4683, p-value = 4.889573e-258, S-value = 9544931958\"\n",
      "[1] \"ig_origin_vs_ig_103: rho = 0.3738, p-value = 1.110166e-157, S-value = 11241571186\"\n",
      "[1] \"ig_origin_vs_ig_104: rho = 0.4471, p-value = 1.328921e-232, S-value = 9926366070\"\n",
      "[1] \"ig_origin_vs_ig_105: rho = 0.3857, p-value = 1.514214e-168, S-value = 11029017172\"\n",
      "[1] \"ig_origin_vs_ig_106: rho = 0.4006, p-value = 5.87748e-183, S-value = 10759996346\"\n",
      "[1] \"ig_origin_vs_ig_107: rho = 0.4895, p-value = 2.697308e-285, S-value = 9164062380\"\n",
      "[1] \"ig_origin_vs_ig_108: rho = 0.4009, p-value = 2.973409e-183, S-value = 10754615396\"\n",
      "[1] \"ig_origin_vs_ig_109: rho = 0.4594, p-value = 3.727839e-247, S-value = 9704831384\"\n"
     ]
    }
   ],
   "source": [
    "%%R\n",
    "columns_to_compare <- c(\"index2\", \"index3\", \"index4\", \"index5\", \"index6\", \"index7\", \"index8\", \"index9\", \"index10\", \"index11\")\n",
    "file_names <- c(\"ig_100\", \"ig_101\", \"ig_102\", \"ig_103\", \"ig_104\", \"ig_105\", \"ig_106\", \"ig_107\", \"ig_108\", \"ig_109\")\n",
    "\n",
    "for (i in seq_along(columns_to_compare)) {\n",
    "  result <- cor.test(table_dt$index1, table_dt[[columns_to_compare[i]]], method = \"spearman\")\n",
    "  \n",
    "  spearman_correlations[[i+17]] <- list(\n",
    "    comparison = paste(\"ig_origin_vs\", file_names[i], sep = \"_\"),\n",
    "    rho = result$estimate,\n",
    "    p_value = result$p.value,\n",
    "    S_value = result$statistic\n",
    "  )\n",
    "}\n",
    "\n",
    "print(\"------spearman_correlations-------\")\n",
    "for (res in spearman_correlations) {\n",
    "  print(paste0(res$comparison, \": rho = \", round(res$rho, 4), \", p-value = \", format(res$p_value, scientific = TRUE), \", S-value = \", res$S_value))\n",
    "}\n"
   ]
  },
  {
   "cell_type": "code",
   "execution_count": null,
   "id": "05e62f8c",
   "metadata": {},
   "outputs": [],
   "source": []
  }
 ],
 "metadata": {
  "kernelspec": {
   "display_name": "Python 3 (ipykernel)",
   "language": "python",
   "name": "python3"
  },
  "language_info": {
   "codemirror_mode": {
    "name": "ipython",
    "version": 3
   },
   "file_extension": ".py",
   "mimetype": "text/x-python",
   "name": "python",
   "nbconvert_exporter": "python",
   "pygments_lexer": "ipython3",
   "version": "3.11.5"
  }
 },
 "nbformat": 4,
 "nbformat_minor": 5
}
