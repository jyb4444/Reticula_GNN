{
 "cells": [
  {
   "cell_type": "code",
   "execution_count": 1,
   "id": "1256339a",
   "metadata": {},
   "outputs": [],
   "source": [
    "%load_ext rpy2.ipython"
   ]
  },
  {
   "cell_type": "code",
   "execution_count": null,
   "id": "3961ac3f",
   "metadata": {},
   "outputs": [],
   "source": [
    "%%R\n",
    "library(ggplot2)\n",
    "library(readr)\n",
    "library(gridExtra)\n",
    "library(dplyr)\n",
    "\n",
    "ig_100 <- read.csv(\"/mnt/home/yuankeji/RanceLab/reticula_new/reticula/data/tcdd/learning_curve_analysis/output/sorted_by_ig1030_time_course_100.csv\", sep=\"\\t\")\n",
    "ig_101 <- read.csv(\"/mnt/home/yuankeji/RanceLab/reticula_new/reticula/data/tcdd/learning_curve_analysis/output/sorted_by_ig1030_time_course_101.csv\", sep=\"\\t\")\n",
    "ig_102 <- read.csv(\"/mnt/home/yuankeji/RanceLab/reticula_new/reticula/data/tcdd/learning_curve_analysis/output/sorted_by_ig1030_time_course_102.csv\", sep=\"\\t\")\n",
    "ig_103 <- read.csv(\"/mnt/home/yuankeji/RanceLab/reticula_new/reticula/data/tcdd/learning_curve_analysis/output/sorted_by_ig1030_time_course_103.csv\", sep=\"\\t\")\n",
    "ig_104 <- read.csv(\"/mnt/home/yuankeji/RanceLab/reticula_new/reticula/data/tcdd/learning_curve_analysis/output/sorted_by_ig1030_time_course_104.csv\", sep=\"\\t\")\n",
    "ig_105 <- read.csv(\"/mnt/home/yuankeji/RanceLab/reticula_new/reticula/data/tcdd/learning_curve_analysis/output/sorted_by_ig1030_time_course_105.csv\", sep=\"\\t\")\n",
    "ig_106 <- read.csv(\"/mnt/home/yuankeji/RanceLab/reticula_new/reticula/data/tcdd/learning_curve_analysis/output/sorted_by_ig1030_time_course_106.csv\", sep=\"\\t\")\n",
    "ig_107 <- read.csv(\"/mnt/home/yuankeji/RanceLab/reticula_new/reticula/data/tcdd/learning_curve_analysis/output/sorted_by_ig1030_time_course_107.csv\", sep=\"\\t\")\n",
    "ig_108 <- read.csv(\"/mnt/home/yuankeji/RanceLab/reticula_new/reticula/data/tcdd/learning_curve_analysis/output/sorted_by_ig1030_time_course_108.csv\", sep=\"\\t\")\n",
    "ig_109 <- read.csv(\"/mnt/home/yuankeji/RanceLab/reticula_new/reticula/data/tcdd/learning_curve_analysis/output/sorted_by_ig1030_time_course_109.csv\", sep=\"\\t\")\n",
    "ig_origin <- read.csv(\"/mnt/home/yuankeji/RanceLab/reticula_new/reticula/data/tcdd/output/sorted_by_ig1030_time_course.csv\", sep=\"\\t\")"
   ]
  },
  {
   "cell_type": "code",
   "execution_count": null,
   "id": "588f6654",
   "metadata": {},
   "outputs": [
    {
     "name": "stdout",
     "output_type": "stream",
     "text": [
      "Key: <start>\n",
      "           start index1 index2 index3 index4 index5 index6 index7 index8 index9\n",
      "          <char>  <int>  <int>  <int>  <int>  <int>  <int>  <int>  <int>  <int>\n",
      "1: R-MMU-1006143    939   2406   2823    643   1238   3349    644   3940    880\n",
      "2: R-MMU-1011576   3632   3671   4109   3277   2438   3529   3857   2692   4071\n",
      "3: R-MMU-1013012   2548   2007   1128    958   1577    791   4115    519   1458\n",
      "4: R-MMU-1013013   2247   4741    396    578    423   1115    744    842   1416\n",
      "5: R-MMU-1022127   3344   3000   3867   4172   4311   3469   4371   3392   3568\n",
      "6: R-MMU-1028788   3986   4659   2924   4251   1218   2968   2212   1537   3825\n",
      "   index10 index11\n",
      "     <int>   <int>\n",
      "1:     748    3759\n",
      "2:    4511    3305\n",
      "3:    4739    1133\n",
      "4:    1234    1869\n",
      "5:    3885    3656\n",
      "6:    2738    3063\n"
     ]
    }
   ],
   "source": [
    "%%R\n",
    "library(data.table)\n",
    "\n",
    "ig_origin_dt <- as.data.table(ig_origin)\n",
    "ig_100_dt <- as.data.table(ig_100)\n",
    "ig_101_dt <- as.data.table(ig_101)\n",
    "ig_102_dt <- as.data.table(ig_102)\n",
    "ig_103_dt <- as.data.table(ig_103)\n",
    "ig_104_dt <- as.data.table(ig_104)\n",
    "ig_105_dt <- as.data.table(ig_105)\n",
    "ig_106_dt <- as.data.table(ig_106)\n",
    "ig_107_dt <- as.data.table(ig_107)\n",
    "ig_108_dt <- as.data.table(ig_108)\n",
    "ig_109_dt <- as.data.table(ig_109)\n",
    "\n",
    "ig_origin_dt <- ig_origin_dt[order(-ig_1), .SD[1], by = start][, index1 := frank(-ig_1, ties.method = \"first\")]\n",
    "ig_100_dt <- ig_100_dt[order(-ig_1), .SD[1], by = start][, index2 := frank(-ig_1, ties.method = \"first\")]\n",
    "ig_101_dt <- ig_101_dt[order(-ig_1), .SD[1], by = start][, index3 := frank(-ig_1, ties.method = \"first\")]\n",
    "ig_102_dt <- ig_102_dt[order(-ig_1), .SD[1], by = start][, index4 := frank(-ig_1, ties.method = \"first\")]\n",
    "ig_103_dt <- ig_103_dt[order(-ig_1), .SD[1], by = start][, index5 := frank(-ig_1, ties.method = \"first\")]\n",
    "ig_104_dt <- ig_104_dt[order(-ig_1), .SD[1], by = start][, index6 := frank(-ig_1, ties.method = \"first\")]\n",
    "ig_105_dt <- ig_105_dt[order(-ig_1), .SD[1], by = start][, index7 := frank(-ig_1, ties.method = \"first\")]\n",
    "ig_106_dt <- ig_106_dt[order(-ig_1), .SD[1], by = start][, index8 := frank(-ig_1, ties.method = \"first\")]\n",
    "ig_107_dt <- ig_107_dt[order(-ig_1), .SD[1], by = start][, index9 := frank(-ig_1, ties.method = \"first\")]\n",
    "ig_108_dt <- ig_108_dt[order(-ig_1), .SD[1], by = start][, index10 := frank(-ig_1, ties.method = \"first\")]\n",
    "ig_109_dt <- ig_109_dt[order(-ig_1), .SD[1], by = start][, index11 := frank(-ig_1, ties.method = \"first\")]\n",
    "\n",
    "table_dt <- ig_origin_dt[, .(start, index1)]\n",
    "table_dt <- merge(table_dt, ig_100_dt[, .(start, index2)], by = \"start\", all.x = TRUE)\n",
    "table_dt <- merge(table_dt, ig_101_dt[, .(start, index3)], by = \"start\", all.x = TRUE)\n",
    "table_dt <- merge(table_dt, ig_102_dt[, .(start, index4)], by = \"start\", all.x = TRUE)\n",
    "table_dt <- merge(table_dt, ig_103_dt[, .(start, index5)], by = \"start\", all.x = TRUE)\n",
    "table_dt <- merge(table_dt, ig_104_dt[, .(start, index6)], by = \"start\", all.x = TRUE)\n",
    "table_dt <- merge(table_dt, ig_105_dt[, .(start, index7)], by = \"start\", all.x = TRUE)\n",
    "table_dt <- merge(table_dt, ig_106_dt[, .(start, index8)], by = \"start\", all.x = TRUE)\n",
    "table_dt <- merge(table_dt, ig_107_dt[, .(start, index9)], by = \"start\", all.x = TRUE)\n",
    "table_dt <- merge(table_dt, ig_108_dt[, .(start, index10)], by = \"start\", all.x = TRUE)\n",
    "table_dt <- merge(table_dt, ig_109_dt[, .(start, index11)], by = \"start\", all.x = TRUE)\n",
    "\n",
    "print(head(table_dt))\n"
   ]
  },
  {
   "cell_type": "code",
   "execution_count": null,
   "id": "c9614118",
   "metadata": {},
   "outputs": [
    {
     "name": "stdout",
     "output_type": "stream",
     "text": [
      "[1] \"------pearson_correlations-------\"\n",
      "[1] \"ig_origin_vs_ig_100: rho = 0.499, p-value = 4.649297e-298, t-value = 39.7076992212744\"\n",
      "[1] \"ig_origin_vs_ig_101: rho = 0.3501, p-value = 3.217912e-137, t-value = 25.7724466845927\"\n",
      "[1] \"ig_origin_vs_ig_102: rho = 0.4683, p-value = 4.889573e-258, t-value = 36.553370327083\"\n",
      "[1] \"ig_origin_vs_ig_103: rho = 0.3738, p-value = 1.110166e-157, t-value = 27.794424714957\"\n",
      "[1] \"ig_origin_vs_ig_104: rho = 0.4471, p-value = 1.328921e-232, t-value = 34.468275585688\"\n",
      "[1] \"ig_origin_vs_ig_105: rho = 0.3857, p-value = 1.514214e-168, t-value = 28.8258153358691\"\n",
      "[1] \"ig_origin_vs_ig_106: rho = 0.4006, p-value = 5.87748e-183, t-value = 30.1553204034766\"\n",
      "[1] \"ig_origin_vs_ig_107: rho = 0.4895, p-value = 2.697308e-285, t-value = 38.7165185279962\"\n",
      "[1] \"ig_origin_vs_ig_108: rho = 0.4009, p-value = 2.973409e-183, t-value = 30.1822003030069\"\n",
      "[1] \"ig_origin_vs_ig_109: rho = 0.4594, p-value = 3.727839e-247, t-value = 35.6698902131943\"\n"
     ]
    }
   ],
   "source": [
    "%%R\n",
    "columns_to_compare <- c(\"index2\", \"index3\", \"index4\", \"index5\", \"index6\", \"index7\", \"index8\", \"index9\", \"index10\", \"index11\")\n",
    "file_names <- c(\"ig_100\",\"ig_101\", \"ig_102\", \"ig_103\", \"ig_104\", \"ig_105\", \"ig_106\", \"ig_107\", \"ig_108\", \"ig_109\")\n",
    "\n",
    "pearson_correlations <- list()\n",
    "\n",
    "for (i in seq_along(columns_to_compare)) {\n",
    "  result <- cor.test(table_dt$index1, table_dt[[columns_to_compare[i]]], method = \"pearson\")\n",
    "  \n",
    "  pearson_correlations[[i]] <- list(\n",
    "    comparison = paste(\"ig_origin_vs\", file_names[i], sep = \"_\"),\n",
    "    rho = result$estimate,\n",
    "    p_value = result$p.value,\n",
    "    t_value = result$statistic\n",
    "  )\n",
    "}\n",
    "\n",
    "print(\"------pearson_correlations-------\")\n",
    "for (res in pearson_correlations) {\n",
    "  print(paste0(res$comparison, \": rho = \", round(res$rho, 4), \", p-value = \", format(res$p_value, scientific = TRUE), \", t-value = \", res$t_value))\n",
    "}\n"
   ]
  },
  {
   "cell_type": "code",
   "execution_count": null,
   "id": "5a58b827",
   "metadata": {},
   "outputs": [
    {
     "name": "stdout",
     "output_type": "stream",
     "text": [
      "[1] \"------spearman_correlations-------\"\n",
      "[1] \"ig_origin_vs_ig_100: rho = 0.499, p-value = 4.649297e-298, S-value = 8994561880\"\n",
      "[1] \"ig_origin_vs_ig_101: rho = 0.3501, p-value = 3.217912e-137, S-value = 11667901508\"\n",
      "[1] \"ig_origin_vs_ig_102: rho = 0.4683, p-value = 4.889573e-258, S-value = 9544931958\"\n",
      "[1] \"ig_origin_vs_ig_103: rho = 0.3738, p-value = 1.110166e-157, S-value = 11241571186\"\n",
      "[1] \"ig_origin_vs_ig_104: rho = 0.4471, p-value = 1.328921e-232, S-value = 9926366070\"\n",
      "[1] \"ig_origin_vs_ig_105: rho = 0.3857, p-value = 1.514214e-168, S-value = 11029017172\"\n",
      "[1] \"ig_origin_vs_ig_106: rho = 0.4006, p-value = 5.87748e-183, S-value = 10759996346\"\n",
      "[1] \"ig_origin_vs_ig_107: rho = 0.4895, p-value = 2.697308e-285, S-value = 9164062380\"\n",
      "[1] \"ig_origin_vs_ig_108: rho = 0.4009, p-value = 2.973409e-183, S-value = 10754615396\"\n",
      "[1] \"ig_origin_vs_ig_109: rho = 0.4594, p-value = 3.727839e-247, S-value = 9704831384\"\n"
     ]
    }
   ],
   "source": [
    "%%R\n",
    "columns_to_compare <- c(\"index2\", \"index3\", \"index4\", \"index5\", \"index6\", \"index7\", \"index8\", \"index9\", \"index10\", \"index11\")\n",
    "file_names <- c(\"ig_100\", \"ig_101\", \"ig_102\", \"ig_103\", \"ig_104\", \"ig_105\", \"ig_106\", \"ig_107\", \"ig_108\", \"ig_109\")\n",
    "\n",
    "spearman_correlations <- list()\n",
    "\n",
    "for (i in seq_along(columns_to_compare)) {\n",
    "  result <- cor.test(table_dt$index1, table_dt[[columns_to_compare[i]]], method = \"spearman\")\n",
    "  \n",
    "  spearman_correlations[[i]] <- list(\n",
    "    comparison = paste(\"ig_origin_vs\", file_names[i], sep = \"_\"),\n",
    "    rho = result$estimate,\n",
    "    p_value = result$p.value,\n",
    "    S_value = result$statistic\n",
    "  )\n",
    "}\n",
    "\n",
    "print(\"------spearman_correlations-------\")\n",
    "for (res in spearman_correlations) {\n",
    "  print(paste0(res$comparison, \": rho = \", round(res$rho, 4), \", p-value = \", format(res$p_value, scientific = TRUE), \", S-value = \", res$S_value))\n",
    "}\n"
   ]
  },
  {
   "cell_type": "code",
   "execution_count": null,
   "id": "2c573eca",
   "metadata": {},
   "outputs": [],
   "source": []
  }
 ],
 "metadata": {
  "kernelspec": {
   "display_name": "Python 3 (ipykernel)",
   "language": "python",
   "name": "python3"
  },
  "language_info": {
   "codemirror_mode": {
    "name": "ipython",
    "version": 3
   },
   "file_extension": ".py",
   "mimetype": "text/x-python",
   "name": "python",
   "nbconvert_exporter": "python",
   "pygments_lexer": "ipython3",
   "version": "3.11.5"
  }
 },
 "nbformat": 4,
 "nbformat_minor": 5
}
