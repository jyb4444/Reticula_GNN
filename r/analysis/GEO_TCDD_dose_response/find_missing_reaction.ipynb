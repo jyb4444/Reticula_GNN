{
 "cells": [
  {
   "cell_type": "code",
   "execution_count": 1,
   "id": "f189d823",
   "metadata": {},
   "outputs": [],
   "source": [
    "%load_ext rpy2.ipython"
   ]
  },
  {
   "cell_type": "code",
   "execution_count": null,
   "id": "2e9dbe4b",
   "metadata": {},
   "outputs": [],
   "source": [
    "%%R\n",
    "OUT_DIR <- \"../../../../data/GEO_TCDD_Dose_Response/output/\"\n",
    "OUT_DIR2 <- \"../../../../data/GEO_TCDD_Dose_Response/outputs/training/\"\n",
    "\n",
    "GEO_TCDD_Dose_Response_df <- read.csv(paste(OUT_DIR, \"node_features.txt\", sep=\"\"))\n",
    "GEO_Model_training <- read.csv(paste(OUT_DIR2, \"node_features.txt\",sep=\"\"))\n",
    "missing_in_GEO_Model_training <- setdiff(names(GEO_Model_training), names(GEO_TCDD_Dose_Response_df))\n",
    "missing_in_GEO_Model_training_df <- data.frame(missing_pathway = missing_in_GEO_Model_training)\n",
    "write.table(missing_in_GEO_Model_training, file = paste(OUT_DIR, \"missing_columns.txt\", sep=\"\"), quote = FALSE, row.names = FALSE, col.names = TRUE)\n"
   ]
  }
 ],
 "metadata": {
  "kernelspec": {
   "display_name": "Python 3 (ipykernel)",
   "language": "python",
   "name": "python3"
  },
  "language_info": {
   "codemirror_mode": {
    "name": "ipython",
    "version": 3
   },
   "file_extension": ".py",
   "mimetype": "text/x-python",
   "name": "python",
   "nbconvert_exporter": "python",
   "pygments_lexer": "ipython3",
   "version": "3.11.5"
  }
 },
 "nbformat": 4,
 "nbformat_minor": 5
}
